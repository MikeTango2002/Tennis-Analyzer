{
  "cells": [
    {
      "cell_type": "markdown",
      "metadata": {
        "id": "view-in-github",
        "colab_type": "text"
      },
      "source": [
        "<a href=\"https://colab.research.google.com/github/MikeTango2002/Tennis-Analyzer/blob/main/training/tennis_ball_detector_training.ipynb\" target=\"_parent\"><img src=\"https://colab.research.google.com/assets/colab-badge.svg\" alt=\"Open In Colab\"/></a>"
      ]
    },
    {
      "cell_type": "code",
      "execution_count": null,
      "metadata": {
        "colab": {
          "base_uri": "https://localhost:8080/"
        },
        "id": "654teAlTxxG6",
        "outputId": "307c7974-35ab-4f3a-b7f2-ac9ea1f6ceae"
      },
      "outputs": [
        {
          "name": "stdout",
          "output_type": "stream",
          "text": [
            "2.3.0+cu121\n",
            "0.18.0+cu121\n"
          ]
        }
      ],
      "source": [
        "import torch\n",
        "import torchvision\n",
        "\n",
        "print(torch.__version__)\n",
        "print(torchvision.__version__)"
      ]
    },
    {
      "cell_type": "code",
      "execution_count": null,
      "metadata": {
        "id": "zCwwCWGzX2e0"
      },
      "outputs": [],
      "source": [
        "!nvidia-smi"
      ]
    },
    {
      "cell_type": "markdown",
      "metadata": {
        "id": "JcfvP53FA0_f"
      },
      "source": [
        "Bisogna dapprima installare la libreria di roboflow, sito da cui è stato preso il dataset \"tennis-ball-detection\",\n",
        "e la libreria ultralytics, la quale consente di utilizzare yolo"
      ]
    },
    {
      "cell_type": "code",
      "execution_count": null,
      "metadata": {
        "id": "OeF9Smk8A0_g"
      },
      "outputs": [],
      "source": [
        "!pip install -q roboflow\n",
        "!pip install -q ultralytics\n"
      ]
    },
    {
      "cell_type": "code",
      "execution_count": null,
      "metadata": {
        "id": "WmDa3FzMXvLx"
      },
      "outputs": [],
      "source": [
        "import ultralytics\n",
        "print(ultralytics.__version__)\n",
        "print(ultralytics.__file__)\n"
      ]
    },
    {
      "cell_type": "markdown",
      "metadata": {
        "id": "R-hhltOFA0_h"
      },
      "source": [
        "# Get Dataset"
      ]
    },
    {
      "cell_type": "code",
      "execution_count": null,
      "metadata": {
        "id": "FGRQdO8_A0_h"
      },
      "outputs": [],
      "source": [
        "#Codice generate da roboflow per importare il dataset di tennis-ball-detection\n",
        "from roboflow import Roboflow\n",
        "rf = Roboflow(api_key=\"sR7Pv1xXBovkKUMHtq3j\")\n",
        "project = rf.workspace(\"viren-dhanwani\").project(\"tennis-ball-detection\")\n",
        "version = project.version(6)\n",
        "dataset = version.download(\"yolov8\")"
      ]
    },
    {
      "cell_type": "code",
      "execution_count": null,
      "metadata": {
        "colab": {
          "base_uri": "https://localhost:8080/",
          "height": 36
        },
        "id": "Yh7U0hn4Oupd",
        "outputId": "61c0c8cf-435a-4eae-b6a8-d6c0b99504da"
      },
      "outputs": [
        {
          "data": {
            "text/plain": [
              "'tennis-ball-detection-6/tennis-ball-detection-6/valid'"
            ]
          },
          "execution_count": 4,
          "metadata": {},
          "output_type": "execute_result"
        }
      ],
      "source": [
        "import shutil\n",
        "\n",
        "shutil.move(\"tennis-ball-detection-6/train\",\n",
        "\"tennis-ball-detection-6/tennis-ball-detection-6/train\",\n",
        ")\n",
        "shutil.move(\"tennis-ball-detection-6/test\",\n",
        "\"tennis-ball-detection-6/tennis-ball-detection-6/test\",\n",
        ")\n",
        "shutil.move(\"tennis-ball-detection-6/valid\",\n",
        "\"tennis-ball-detection-6/tennis-ball-detection-6/valid\",\n",
        ")"
      ]
    },
    {
      "cell_type": "code",
      "execution_count": null,
      "metadata": {
        "colab": {
          "base_uri": "https://localhost:8080/"
        },
        "id": "MgHEaMuqFh0r",
        "outputId": "8ce97b43-dea9-474a-f3c7-f96917fb8bd8"
      },
      "outputs": [
        {
          "name": "stdout",
          "output_type": "stream",
          "text": [
            "/content/tennis-ball-detection-6\n"
          ]
        }
      ],
      "source": [
        "print(dataset.location)"
      ]
    },
    {
      "cell_type": "markdown",
      "metadata": {
        "id": "enzKRE4pA0_i"
      },
      "source": [
        "Poichè yolo non riconosce bene le palline di tennis, allenerò una rete yolo con un dataset specifico in cui sono presenti dei frame in cui è stata messa in evidenza la posizione della pallina."
      ]
    },
    {
      "cell_type": "code",
      "execution_count": null,
      "metadata": {
        "colab": {
          "background_save": true
        },
        "id": "ypyhikNjA7W0"
      },
      "outputs": [],
      "source": [
        "from ultralytics import YOLO\n",
        "\n",
        "# Inizializzare il modello YOLOv8x\n",
        "model = YOLO(\"../models/yolov8x.pt\")\n",
        "\n",
        "# Addestrare il modello\n",
        "model.train(data=f\"{dataset.location}/data.yaml\", epochs=100, imgsz=640)\n"
      ]
    },
    {
      "cell_type": "markdown",
      "metadata": {
        "id": "pf2CO137xxQX"
      },
      "source": [
        "Una volta addestrato il modello, nella cartella content/ è presente una cartella runs/detect/train che contiene i pesi del modello e anche metriche e grafici sull'andamento dell'addestramento."
      ]
    }
  ],
  "metadata": {
    "accelerator": "GPU",
    "colab": {
      "gpuType": "T4",
      "provenance": [],
      "include_colab_link": true
    },
    "kernelspec": {
      "display_name": "Python 3",
      "name": "python3"
    },
    "language_info": {
      "codemirror_mode": {
        "name": "ipython",
        "version": 3
      },
      "file_extension": ".py",
      "mimetype": "text/x-python",
      "name": "python",
      "nbconvert_exporter": "python",
      "pygments_lexer": "ipython3",
      "version": "3.12.0"
    }
  },
  "nbformat": 4,
  "nbformat_minor": 0
}