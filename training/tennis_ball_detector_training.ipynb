{
  "cells": [
    {
      "cell_type": "markdown",
      "metadata": {
        "id": "view-in-github",
        "colab_type": "text"
      },
      "source": [
        "<a href=\"https://colab.research.google.com/github/MikeTango2002/Tennis-Analyzer/blob/main/training/tennis_ball_detector_training.ipynb\" target=\"_parent\"><img src=\"https://colab.research.google.com/assets/colab-badge.svg\" alt=\"Open In Colab\"/></a>"
      ]
    },
    {
      "cell_type": "code",
      "execution_count": 1,
      "metadata": {
        "colab": {
          "base_uri": "https://localhost:8080/"
        },
        "id": "654teAlTxxG6",
        "outputId": "f1ff75c4-bfc9-4bbf-a2be-3160a7030340"
      },
      "outputs": [
        {
          "output_type": "stream",
          "name": "stdout",
          "text": [
            "2.3.0+cu121\n",
            "0.18.0+cu121\n"
          ]
        }
      ],
      "source": [
        "import torch\n",
        "import torchvision\n",
        "\n",
        "print(torch.__version__)\n",
        "print(torchvision.__version__)"
      ]
    },
    {
      "cell_type": "code",
      "execution_count": 2,
      "metadata": {
        "colab": {
          "base_uri": "https://localhost:8080/"
        },
        "id": "zCwwCWGzX2e0",
        "outputId": "fbc6aece-1e32-4931-e0be-fb37cf643770"
      },
      "outputs": [
        {
          "output_type": "stream",
          "name": "stdout",
          "text": [
            "Fri May 31 09:48:28 2024       \n",
            "+---------------------------------------------------------------------------------------+\n",
            "| NVIDIA-SMI 535.104.05             Driver Version: 535.104.05   CUDA Version: 12.2     |\n",
            "|-----------------------------------------+----------------------+----------------------+\n",
            "| GPU  Name                 Persistence-M | Bus-Id        Disp.A | Volatile Uncorr. ECC |\n",
            "| Fan  Temp   Perf          Pwr:Usage/Cap |         Memory-Usage | GPU-Util  Compute M. |\n",
            "|                                         |                      |               MIG M. |\n",
            "|=========================================+======================+======================|\n",
            "|   0  Tesla T4                       Off | 00000000:00:04.0 Off |                    0 |\n",
            "| N/A   53C    P8              10W /  70W |      0MiB / 15360MiB |      0%      Default |\n",
            "|                                         |                      |                  N/A |\n",
            "+-----------------------------------------+----------------------+----------------------+\n",
            "                                                                                         \n",
            "+---------------------------------------------------------------------------------------+\n",
            "| Processes:                                                                            |\n",
            "|  GPU   GI   CI        PID   Type   Process name                            GPU Memory |\n",
            "|        ID   ID                                                             Usage      |\n",
            "|=======================================================================================|\n",
            "|  No running processes found                                                           |\n",
            "+---------------------------------------------------------------------------------------+\n"
          ]
        }
      ],
      "source": [
        "!nvidia-smi"
      ]
    },
    {
      "cell_type": "markdown",
      "metadata": {
        "id": "JcfvP53FA0_f"
      },
      "source": [
        "Bisogna dapprima installare la libreria di roboflow, sito da cui è stato preso il dataset \"tennis-ball-detection\",\n",
        "e la libreria ultralytics, la quale consente di utilizzare yolo"
      ]
    },
    {
      "cell_type": "code",
      "execution_count": 3,
      "metadata": {
        "id": "OeF9Smk8A0_g",
        "colab": {
          "base_uri": "https://localhost:8080/"
        },
        "outputId": "5a8d7b2d-a9a9-4184-e35e-411010853523"
      },
      "outputs": [
        {
          "output_type": "stream",
          "name": "stdout",
          "text": [
            "\u001b[2K     \u001b[90m━━━━━━━━━━━━━━━━━━━━━━━━━━━━━━━━━━━━━━━━\u001b[0m \u001b[32m75.5/75.5 kB\u001b[0m \u001b[31m872.5 kB/s\u001b[0m eta \u001b[36m0:00:00\u001b[0m\n",
            "\u001b[2K     \u001b[90m━━━━━━━━━━━━━━━━━━━━━━━━━━━━━━━━━━━━━━━━\u001b[0m \u001b[32m158.3/158.3 kB\u001b[0m \u001b[31m2.9 MB/s\u001b[0m eta \u001b[36m0:00:00\u001b[0m\n",
            "\u001b[2K     \u001b[90m━━━━━━━━━━━━━━━━━━━━━━━━━━━━━━━━━━━━━━━━\u001b[0m \u001b[32m178.7/178.7 kB\u001b[0m \u001b[31m10.1 MB/s\u001b[0m eta \u001b[36m0:00:00\u001b[0m\n",
            "\u001b[2K     \u001b[90m━━━━━━━━━━━━━━━━━━━━━━━━━━━━━━━━━━━━━━━━\u001b[0m \u001b[32m58.8/58.8 kB\u001b[0m \u001b[31m7.1 MB/s\u001b[0m eta \u001b[36m0:00:00\u001b[0m\n",
            "\u001b[2K     \u001b[90m━━━━━━━━━━━━━━━━━━━━━━━━━━━━━━━━━━━━━━━━\u001b[0m \u001b[32m49.1/49.1 MB\u001b[0m \u001b[31m13.2 MB/s\u001b[0m eta \u001b[36m0:00:00\u001b[0m\n",
            "\u001b[2K     \u001b[90m━━━━━━━━━━━━━━━━━━━━━━━━━━━━━━━━━━━━━━━━\u001b[0m \u001b[32m54.5/54.5 kB\u001b[0m \u001b[31m4.8 MB/s\u001b[0m eta \u001b[36m0:00:00\u001b[0m\n",
            "\u001b[2K     \u001b[90m━━━━━━━━━━━━━━━━━━━━━━━━━━━━━━━━━━━━━━━━\u001b[0m \u001b[32m779.4/779.4 kB\u001b[0m \u001b[31m4.0 MB/s\u001b[0m eta \u001b[36m0:00:00\u001b[0m\n",
            "\u001b[2K     \u001b[90m━━━━━━━━━━━━━━━━━━━━━━━━━━━━━━━━━━━━━━━━\u001b[0m \u001b[32m21.3/21.3 MB\u001b[0m \u001b[31m51.4 MB/s\u001b[0m eta \u001b[36m0:00:00\u001b[0m\n",
            "\u001b[?25h"
          ]
        }
      ],
      "source": [
        "!pip install -q roboflow\n",
        "!pip install -q ultralytics\n"
      ]
    },
    {
      "cell_type": "code",
      "execution_count": 4,
      "metadata": {
        "colab": {
          "base_uri": "https://localhost:8080/"
        },
        "id": "WmDa3FzMXvLx",
        "outputId": "2cc84b87-66be-42c3-a2bb-d1249b719b08"
      },
      "outputs": [
        {
          "output_type": "stream",
          "name": "stdout",
          "text": [
            "8.2.26\n",
            "/usr/local/lib/python3.10/dist-packages/ultralytics/__init__.py\n"
          ]
        }
      ],
      "source": [
        "import ultralytics\n",
        "print(ultralytics.__version__)\n",
        "print(ultralytics.__file__)\n"
      ]
    },
    {
      "cell_type": "markdown",
      "metadata": {
        "id": "R-hhltOFA0_h"
      },
      "source": [
        "# Get Dataset"
      ]
    },
    {
      "cell_type": "code",
      "execution_count": 5,
      "metadata": {
        "colab": {
          "base_uri": "https://localhost:8080/"
        },
        "id": "FGRQdO8_A0_h",
        "outputId": "652e9871-1a03-419c-db02-68ce6022697b"
      },
      "outputs": [
        {
          "output_type": "stream",
          "name": "stdout",
          "text": [
            "loading Roboflow workspace...\n",
            "loading Roboflow project...\n",
            "Dependency ultralytics==8.0.196 is required but found version=8.2.26, to fix: `pip install ultralytics==8.0.196`\n"
          ]
        },
        {
          "output_type": "stream",
          "name": "stderr",
          "text": [
            "Downloading Dataset Version Zip in tennis-ball-detection-6 to yolov8:: 100%|██████████| 52040/52040 [00:01<00:00, 42639.05it/s]"
          ]
        },
        {
          "output_type": "stream",
          "name": "stdout",
          "text": [
            "\n"
          ]
        },
        {
          "output_type": "stream",
          "name": "stderr",
          "text": [
            "\n",
            "Extracting Dataset Version Zip to tennis-ball-detection-6 in yolov8:: 100%|██████████| 1168/1168 [00:00<00:00, 4594.46it/s]\n"
          ]
        }
      ],
      "source": [
        "#Codice generate da roboflow per importare il dataset di tennis-ball-detection\n",
        "from roboflow import Roboflow\n",
        "rf = Roboflow(api_key=\"sR7Pv1xXBovkKUMHtq3j\")\n",
        "project = rf.workspace(\"viren-dhanwani\").project(\"tennis-ball-detection\")\n",
        "version = project.version(6)\n",
        "dataset = version.download(\"yolov8\")"
      ]
    },
    {
      "cell_type": "code",
      "execution_count": 6,
      "metadata": {
        "colab": {
          "base_uri": "https://localhost:8080/",
          "height": 36
        },
        "id": "Yh7U0hn4Oupd",
        "outputId": "ecce6890-51b8-4ae3-a20c-63fdc8b890af"
      },
      "outputs": [
        {
          "output_type": "execute_result",
          "data": {
            "text/plain": [
              "'tennis-ball-detection-6/tennis-ball-detection-6/valid'"
            ],
            "application/vnd.google.colaboratory.intrinsic+json": {
              "type": "string"
            }
          },
          "metadata": {},
          "execution_count": 6
        }
      ],
      "source": [
        "import shutil\n",
        "\n",
        "shutil.move(\"tennis-ball-detection-6/train\",\n",
        "\"tennis-ball-detection-6/tennis-ball-detection-6/train\",\n",
        ")\n",
        "shutil.move(\"tennis-ball-detection-6/test\",\n",
        "\"tennis-ball-detection-6/tennis-ball-detection-6/test\",\n",
        ")\n",
        "shutil.move(\"tennis-ball-detection-6/valid\",\n",
        "\"tennis-ball-detection-6/tennis-ball-detection-6/valid\",\n",
        ")"
      ]
    },
    {
      "cell_type": "code",
      "execution_count": 11,
      "metadata": {
        "colab": {
          "base_uri": "https://localhost:8080/"
        },
        "id": "MgHEaMuqFh0r",
        "outputId": "00afddad-dabf-4738-edf1-8c4ee2f8c546"
      },
      "outputs": [
        {
          "output_type": "stream",
          "name": "stdout",
          "text": [
            "/content/tennis-ball-detection-6\n"
          ]
        }
      ],
      "source": [
        "print(dataset.location)"
      ]
    },
    {
      "cell_type": "markdown",
      "metadata": {
        "id": "enzKRE4pA0_i"
      },
      "source": [
        "Poichè yolo non riconosce bene le palline di tennis, allenerò una rete yolo con un dataset specifico in cui sono presenti dei frame in cui è stata messa in evidenza la posizione della pallina."
      ]
    },
    {
      "cell_type": "code",
      "execution_count": 8,
      "metadata": {
        "colab": {
          "base_uri": "https://localhost:8080/"
        },
        "id": "ypyhikNjA7W0",
        "outputId": "150a109e-ab85-439c-8464-b7fb9c4870f0"
      },
      "outputs": [
        {
          "output_type": "stream",
          "name": "stdout",
          "text": [
            "Downloading https://github.com/ultralytics/assets/releases/download/v8.2.0/yolov8x.pt to '../models/yolov8x.pt'...\n"
          ]
        },
        {
          "output_type": "stream",
          "name": "stderr",
          "text": [
            "100%|██████████| 131M/131M [00:00<00:00, 193MB/s]\n"
          ]
        },
        {
          "output_type": "stream",
          "name": "stdout",
          "text": [
            "Ultralytics YOLOv8.2.26 🚀 Python-3.10.12 torch-2.3.0+cu121 CUDA:0 (Tesla T4, 15102MiB)\n",
            "\u001b[34m\u001b[1mengine/trainer: \u001b[0mtask=detect, mode=train, model=../models/yolov8x.pt, data=/content/tennis-ball-detection-6/data.yaml, epochs=50, time=None, patience=100, batch=16, imgsz=640, save=True, save_period=-1, cache=False, device=None, workers=8, project=None, name=train, exist_ok=False, pretrained=True, optimizer=auto, verbose=True, seed=0, deterministic=True, single_cls=False, rect=False, cos_lr=False, close_mosaic=10, resume=False, amp=True, fraction=1.0, profile=False, freeze=None, multi_scale=False, overlap_mask=True, mask_ratio=4, dropout=0.0, val=True, split=val, save_json=False, save_hybrid=False, conf=None, iou=0.7, max_det=300, half=False, dnn=False, plots=True, source=None, vid_stride=1, stream_buffer=False, visualize=False, augment=False, agnostic_nms=False, classes=None, retina_masks=False, embed=None, show=False, save_frames=False, save_txt=False, save_conf=False, save_crop=False, show_labels=True, show_conf=True, show_boxes=True, line_width=None, format=torchscript, keras=False, optimize=False, int8=False, dynamic=False, simplify=False, opset=None, workspace=4, nms=False, lr0=0.01, lrf=0.01, momentum=0.937, weight_decay=0.0005, warmup_epochs=3.0, warmup_momentum=0.8, warmup_bias_lr=0.1, box=7.5, cls=0.5, dfl=1.5, pose=12.0, kobj=1.0, label_smoothing=0.0, nbs=64, hsv_h=0.015, hsv_s=0.7, hsv_v=0.4, degrees=0.0, translate=0.1, scale=0.5, shear=0.0, perspective=0.0, flipud=0.0, fliplr=0.5, bgr=0.0, mosaic=1.0, mixup=0.0, copy_paste=0.0, auto_augment=randaugment, erasing=0.4, crop_fraction=1.0, cfg=None, tracker=botsort.yaml, save_dir=runs/detect/train\n",
            "Downloading https://ultralytics.com/assets/Arial.ttf to '/root/.config/Ultralytics/Arial.ttf'...\n"
          ]
        },
        {
          "output_type": "stream",
          "name": "stderr",
          "text": [
            "100%|██████████| 755k/755k [00:00<00:00, 15.1MB/s]\n"
          ]
        },
        {
          "output_type": "stream",
          "name": "stdout",
          "text": [
            "Overriding model.yaml nc=80 with nc=1\n",
            "\n",
            "                   from  n    params  module                                       arguments                     \n",
            "  0                  -1  1      2320  ultralytics.nn.modules.conv.Conv             [3, 80, 3, 2]                 \n",
            "  1                  -1  1    115520  ultralytics.nn.modules.conv.Conv             [80, 160, 3, 2]               \n",
            "  2                  -1  3    436800  ultralytics.nn.modules.block.C2f             [160, 160, 3, True]           \n",
            "  3                  -1  1    461440  ultralytics.nn.modules.conv.Conv             [160, 320, 3, 2]              \n",
            "  4                  -1  6   3281920  ultralytics.nn.modules.block.C2f             [320, 320, 6, True]           \n",
            "  5                  -1  1   1844480  ultralytics.nn.modules.conv.Conv             [320, 640, 3, 2]              \n",
            "  6                  -1  6  13117440  ultralytics.nn.modules.block.C2f             [640, 640, 6, True]           \n",
            "  7                  -1  1   3687680  ultralytics.nn.modules.conv.Conv             [640, 640, 3, 2]              \n",
            "  8                  -1  3   6969600  ultralytics.nn.modules.block.C2f             [640, 640, 3, True]           \n",
            "  9                  -1  1   1025920  ultralytics.nn.modules.block.SPPF            [640, 640, 5]                 \n",
            " 10                  -1  1         0  torch.nn.modules.upsampling.Upsample         [None, 2, 'nearest']          \n",
            " 11             [-1, 6]  1         0  ultralytics.nn.modules.conv.Concat           [1]                           \n",
            " 12                  -1  3   7379200  ultralytics.nn.modules.block.C2f             [1280, 640, 3]                \n",
            " 13                  -1  1         0  torch.nn.modules.upsampling.Upsample         [None, 2, 'nearest']          \n",
            " 14             [-1, 4]  1         0  ultralytics.nn.modules.conv.Concat           [1]                           \n",
            " 15                  -1  3   1948800  ultralytics.nn.modules.block.C2f             [960, 320, 3]                 \n",
            " 16                  -1  1    922240  ultralytics.nn.modules.conv.Conv             [320, 320, 3, 2]              \n",
            " 17            [-1, 12]  1         0  ultralytics.nn.modules.conv.Concat           [1]                           \n",
            " 18                  -1  3   7174400  ultralytics.nn.modules.block.C2f             [960, 640, 3]                 \n",
            " 19                  -1  1   3687680  ultralytics.nn.modules.conv.Conv             [640, 640, 3, 2]              \n",
            " 20             [-1, 9]  1         0  ultralytics.nn.modules.conv.Concat           [1]                           \n",
            " 21                  -1  3   7379200  ultralytics.nn.modules.block.C2f             [1280, 640, 3]                \n",
            " 22        [15, 18, 21]  1   8718931  ultralytics.nn.modules.head.Detect           [1, [320, 640, 640]]          \n",
            "Model summary: 365 layers, 68153571 parameters, 68153555 gradients, 258.1 GFLOPs\n",
            "\n",
            "Transferred 589/595 items from pretrained weights\n",
            "\u001b[34m\u001b[1mTensorBoard: \u001b[0mStart with 'tensorboard --logdir runs/detect/train', view at http://localhost:6006/\n",
            "Freezing layer 'model.22.dfl.conv.weight'\n",
            "\u001b[34m\u001b[1mAMP: \u001b[0mrunning Automatic Mixed Precision (AMP) checks with YOLOv8n...\n",
            "Downloading https://github.com/ultralytics/assets/releases/download/v8.2.0/yolov8n.pt to 'yolov8n.pt'...\n"
          ]
        },
        {
          "output_type": "stream",
          "name": "stderr",
          "text": [
            "100%|██████████| 6.23M/6.23M [00:00<00:00, 77.1MB/s]\n"
          ]
        },
        {
          "output_type": "stream",
          "name": "stdout",
          "text": [
            "\u001b[34m\u001b[1mAMP: \u001b[0mchecks passed ✅\n"
          ]
        },
        {
          "output_type": "stream",
          "name": "stderr",
          "text": [
            "\u001b[34m\u001b[1mtrain: \u001b[0mScanning /content/tennis-ball-detection-6/tennis-ball-detection-6/train/labels... 428 images, 2 backgrounds, 0 corrupt: 100%|██████████| 428/428 [00:00<00:00, 1997.53it/s]"
          ]
        },
        {
          "output_type": "stream",
          "name": "stdout",
          "text": [
            "\u001b[34m\u001b[1mtrain: \u001b[0mNew cache created: /content/tennis-ball-detection-6/tennis-ball-detection-6/train/labels.cache\n"
          ]
        },
        {
          "output_type": "stream",
          "name": "stderr",
          "text": [
            "\n"
          ]
        },
        {
          "output_type": "stream",
          "name": "stdout",
          "text": [
            "\u001b[34m\u001b[1malbumentations: \u001b[0mBlur(p=0.01, blur_limit=(3, 7)), MedianBlur(p=0.01, blur_limit=(3, 7)), ToGray(p=0.01), CLAHE(p=0.01, clip_limit=(1, 4.0), tile_grid_size=(8, 8))\n"
          ]
        },
        {
          "output_type": "stream",
          "name": "stderr",
          "text": [
            "os.fork() was called. os.fork() is incompatible with multithreaded code, and JAX is multithreaded, so this will likely lead to a deadlock.\n",
            "\u001b[34m\u001b[1mval: \u001b[0mScanning /content/tennis-ball-detection-6/tennis-ball-detection-6/valid/labels... 100 images, 0 backgrounds, 0 corrupt: 100%|██████████| 100/100 [00:00<00:00, 1317.71it/s]"
          ]
        },
        {
          "output_type": "stream",
          "name": "stdout",
          "text": [
            "\u001b[34m\u001b[1mval: \u001b[0mNew cache created: /content/tennis-ball-detection-6/tennis-ball-detection-6/valid/labels.cache\n"
          ]
        },
        {
          "output_type": "stream",
          "name": "stderr",
          "text": [
            "\n"
          ]
        },
        {
          "output_type": "stream",
          "name": "stdout",
          "text": [
            "Plotting labels to runs/detect/train/labels.jpg... \n",
            "\u001b[34m\u001b[1moptimizer:\u001b[0m 'optimizer=auto' found, ignoring 'lr0=0.01' and 'momentum=0.937' and determining best 'optimizer', 'lr0' and 'momentum' automatically... \n",
            "\u001b[34m\u001b[1moptimizer:\u001b[0m AdamW(lr=0.002, momentum=0.9) with parameter groups 97 weight(decay=0.0), 104 weight(decay=0.0005), 103 bias(decay=0.0)\n",
            "\u001b[34m\u001b[1mTensorBoard: \u001b[0mmodel graph visualization added ✅\n",
            "Image sizes 640 train, 640 val\n",
            "Using 2 dataloader workers\n",
            "Logging results to \u001b[1mruns/detect/train\u001b[0m\n",
            "Starting training for 50 epochs...\n",
            "\n",
            "      Epoch    GPU_mem   box_loss   cls_loss   dfl_loss  Instances       Size\n"
          ]
        },
        {
          "output_type": "stream",
          "name": "stderr",
          "text": [
            "       1/50        14G      3.626       1498     0.9938         22        640: 100%|██████████| 27/27 [00:32<00:00,  1.22s/it]\n",
            "                 Class     Images  Instances      Box(P          R      mAP50  mAP50-95): 100%|██████████| 4/4 [00:03<00:00,  1.18it/s]"
          ]
        },
        {
          "output_type": "stream",
          "name": "stdout",
          "text": [
            "                   all        100        101          0          0          0          0\n"
          ]
        },
        {
          "output_type": "stream",
          "name": "stderr",
          "text": [
            "\n"
          ]
        },
        {
          "output_type": "stream",
          "name": "stdout",
          "text": [
            "\n",
            "      Epoch    GPU_mem   box_loss   cls_loss   dfl_loss  Instances       Size\n"
          ]
        },
        {
          "output_type": "stream",
          "name": "stderr",
          "text": [
            "       2/50      13.5G      4.374      73.66      1.163         25        640: 100%|██████████| 27/27 [00:31<00:00,  1.16s/it]\n",
            "                 Class     Images  Instances      Box(P          R      mAP50  mAP50-95): 100%|██████████| 4/4 [00:01<00:00,  2.38it/s]"
          ]
        },
        {
          "output_type": "stream",
          "name": "stdout",
          "text": [
            "                   all        100        101          0          0          0          0\n"
          ]
        },
        {
          "output_type": "stream",
          "name": "stderr",
          "text": [
            "\n"
          ]
        },
        {
          "output_type": "stream",
          "name": "stdout",
          "text": [
            "\n",
            "      Epoch    GPU_mem   box_loss   cls_loss   dfl_loss  Instances       Size\n"
          ]
        },
        {
          "output_type": "stream",
          "name": "stderr",
          "text": [
            "       3/50      13.5G      4.419      5.172      1.109         24        640: 100%|██████████| 27/27 [00:31<00:00,  1.17s/it]\n",
            "                 Class     Images  Instances      Box(P          R      mAP50  mAP50-95): 100%|██████████| 4/4 [00:01<00:00,  2.21it/s]"
          ]
        },
        {
          "output_type": "stream",
          "name": "stdout",
          "text": [
            "                   all        100        101          0          0          0          0\n"
          ]
        },
        {
          "output_type": "stream",
          "name": "stderr",
          "text": [
            "\n"
          ]
        },
        {
          "output_type": "stream",
          "name": "stdout",
          "text": [
            "\n",
            "      Epoch    GPU_mem   box_loss   cls_loss   dfl_loss  Instances       Size\n"
          ]
        },
        {
          "output_type": "stream",
          "name": "stderr",
          "text": [
            "       4/50      13.5G        4.1      3.938      1.056         21        640: 100%|██████████| 27/27 [00:31<00:00,  1.17s/it]\n",
            "                 Class     Images  Instances      Box(P          R      mAP50  mAP50-95): 100%|██████████| 4/4 [00:02<00:00,  1.97it/s]"
          ]
        },
        {
          "output_type": "stream",
          "name": "stdout",
          "text": [
            "                   all        100        101          0          0          0          0\n"
          ]
        },
        {
          "output_type": "stream",
          "name": "stderr",
          "text": [
            "\n"
          ]
        },
        {
          "output_type": "stream",
          "name": "stdout",
          "text": [
            "\n",
            "      Epoch    GPU_mem   box_loss   cls_loss   dfl_loss  Instances       Size\n"
          ]
        },
        {
          "output_type": "stream",
          "name": "stderr",
          "text": [
            "       5/50      13.5G      3.769      3.286     0.9779         22        640: 100%|██████████| 27/27 [00:31<00:00,  1.16s/it]\n",
            "                 Class     Images  Instances      Box(P          R      mAP50  mAP50-95): 100%|██████████| 4/4 [00:01<00:00,  2.28it/s]"
          ]
        },
        {
          "output_type": "stream",
          "name": "stdout",
          "text": [
            "                   all        100        101          0          0          0          0\n"
          ]
        },
        {
          "output_type": "stream",
          "name": "stderr",
          "text": [
            "\n"
          ]
        },
        {
          "output_type": "stream",
          "name": "stdout",
          "text": [
            "\n",
            "      Epoch    GPU_mem   box_loss   cls_loss   dfl_loss  Instances       Size\n"
          ]
        },
        {
          "output_type": "stream",
          "name": "stderr",
          "text": [
            "       6/50      13.8G      3.595      2.545     0.9798         19        640: 100%|██████████| 27/27 [00:31<00:00,  1.16s/it]\n",
            "                 Class     Images  Instances      Box(P          R      mAP50  mAP50-95): 100%|██████████| 4/4 [00:01<00:00,  2.29it/s]"
          ]
        },
        {
          "output_type": "stream",
          "name": "stdout",
          "text": [
            "                   all        100        101          0          0          0          0\n"
          ]
        },
        {
          "output_type": "stream",
          "name": "stderr",
          "text": [
            "\n"
          ]
        },
        {
          "output_type": "stream",
          "name": "stdout",
          "text": [
            "\n",
            "      Epoch    GPU_mem   box_loss   cls_loss   dfl_loss  Instances       Size\n"
          ]
        },
        {
          "output_type": "stream",
          "name": "stderr",
          "text": [
            "       7/50      13.8G      3.512      2.398     0.9397         24        640: 100%|██████████| 27/27 [00:31<00:00,  1.16s/it]\n",
            "                 Class     Images  Instances      Box(P          R      mAP50  mAP50-95): 100%|██████████| 4/4 [00:02<00:00,  1.63it/s]"
          ]
        },
        {
          "output_type": "stream",
          "name": "stdout",
          "text": [
            "                   all        100        101       0.45     0.0198     0.0159    0.00667\n"
          ]
        },
        {
          "output_type": "stream",
          "name": "stderr",
          "text": [
            "\n"
          ]
        },
        {
          "output_type": "stream",
          "name": "stdout",
          "text": [
            "\n",
            "      Epoch    GPU_mem   box_loss   cls_loss   dfl_loss  Instances       Size\n"
          ]
        },
        {
          "output_type": "stream",
          "name": "stderr",
          "text": [
            "       8/50      13.8G      3.418       2.16     0.9211         13        640: 100%|██████████| 27/27 [00:31<00:00,  1.16s/it]\n",
            "                 Class     Images  Instances      Box(P          R      mAP50  mAP50-95): 100%|██████████| 4/4 [00:01<00:00,  2.10it/s]"
          ]
        },
        {
          "output_type": "stream",
          "name": "stdout",
          "text": [
            "                   all        100        101      0.414      0.208      0.156     0.0265\n"
          ]
        },
        {
          "output_type": "stream",
          "name": "stderr",
          "text": [
            "\n"
          ]
        },
        {
          "output_type": "stream",
          "name": "stdout",
          "text": [
            "\n",
            "      Epoch    GPU_mem   box_loss   cls_loss   dfl_loss  Instances       Size\n"
          ]
        },
        {
          "output_type": "stream",
          "name": "stderr",
          "text": [
            "       9/50      13.5G      3.385      2.325     0.9221         21        640: 100%|██████████| 27/27 [00:31<00:00,  1.16s/it]\n",
            "                 Class     Images  Instances      Box(P          R      mAP50  mAP50-95): 100%|██████████| 4/4 [00:01<00:00,  2.10it/s]"
          ]
        },
        {
          "output_type": "stream",
          "name": "stdout",
          "text": [
            "                   all        100        101      0.512      0.218      0.205     0.0425\n"
          ]
        },
        {
          "output_type": "stream",
          "name": "stderr",
          "text": [
            "\n"
          ]
        },
        {
          "output_type": "stream",
          "name": "stdout",
          "text": [
            "\n",
            "      Epoch    GPU_mem   box_loss   cls_loss   dfl_loss  Instances       Size\n"
          ]
        },
        {
          "output_type": "stream",
          "name": "stderr",
          "text": [
            "      10/50      13.8G      3.227      2.146     0.9121         19        640: 100%|██████████| 27/27 [00:31<00:00,  1.17s/it]\n",
            "                 Class     Images  Instances      Box(P          R      mAP50  mAP50-95): 100%|██████████| 4/4 [00:02<00:00,  1.99it/s]"
          ]
        },
        {
          "output_type": "stream",
          "name": "stdout",
          "text": [
            "                   all        100        101      0.343      0.248      0.183     0.0366\n"
          ]
        },
        {
          "output_type": "stream",
          "name": "stderr",
          "text": [
            "\n"
          ]
        },
        {
          "output_type": "stream",
          "name": "stdout",
          "text": [
            "\n",
            "      Epoch    GPU_mem   box_loss   cls_loss   dfl_loss  Instances       Size\n"
          ]
        },
        {
          "output_type": "stream",
          "name": "stderr",
          "text": [
            "      11/50      13.8G      3.324      2.173     0.9326         20        640: 100%|██████████| 27/27 [00:31<00:00,  1.16s/it]\n",
            "                 Class     Images  Instances      Box(P          R      mAP50  mAP50-95): 100%|██████████| 4/4 [00:01<00:00,  2.09it/s]"
          ]
        },
        {
          "output_type": "stream",
          "name": "stdout",
          "text": [
            "                   all        100        101      0.287      0.119     0.0842     0.0156\n"
          ]
        },
        {
          "output_type": "stream",
          "name": "stderr",
          "text": [
            "\n"
          ]
        },
        {
          "output_type": "stream",
          "name": "stdout",
          "text": [
            "\n",
            "      Epoch    GPU_mem   box_loss   cls_loss   dfl_loss  Instances       Size\n"
          ]
        },
        {
          "output_type": "stream",
          "name": "stderr",
          "text": [
            "      12/50      13.7G      3.032      1.888     0.9076         19        640: 100%|██████████| 27/27 [00:31<00:00,  1.16s/it]\n",
            "                 Class     Images  Instances      Box(P          R      mAP50  mAP50-95): 100%|██████████| 4/4 [00:01<00:00,  2.06it/s]"
          ]
        },
        {
          "output_type": "stream",
          "name": "stdout",
          "text": [
            "                   all        100        101       0.49      0.178      0.163     0.0473\n"
          ]
        },
        {
          "output_type": "stream",
          "name": "stderr",
          "text": [
            "\n"
          ]
        },
        {
          "output_type": "stream",
          "name": "stdout",
          "text": [
            "\n",
            "      Epoch    GPU_mem   box_loss   cls_loss   dfl_loss  Instances       Size\n"
          ]
        },
        {
          "output_type": "stream",
          "name": "stderr",
          "text": [
            "      13/50      13.5G      2.975      1.842     0.8906         18        640: 100%|██████████| 27/27 [00:31<00:00,  1.16s/it]\n",
            "                 Class     Images  Instances      Box(P          R      mAP50  mAP50-95): 100%|██████████| 4/4 [00:01<00:00,  2.08it/s]"
          ]
        },
        {
          "output_type": "stream",
          "name": "stdout",
          "text": [
            "                   all        100        101      0.798      0.234      0.337      0.117\n"
          ]
        },
        {
          "output_type": "stream",
          "name": "stderr",
          "text": [
            "\n"
          ]
        },
        {
          "output_type": "stream",
          "name": "stdout",
          "text": [
            "\n",
            "      Epoch    GPU_mem   box_loss   cls_loss   dfl_loss  Instances       Size\n"
          ]
        },
        {
          "output_type": "stream",
          "name": "stderr",
          "text": [
            "      14/50      13.8G      3.024      1.906     0.9157         21        640: 100%|██████████| 27/27 [00:31<00:00,  1.17s/it]\n",
            "                 Class     Images  Instances      Box(P          R      mAP50  mAP50-95): 100%|██████████| 4/4 [00:01<00:00,  2.06it/s]"
          ]
        },
        {
          "output_type": "stream",
          "name": "stdout",
          "text": [
            "                   all        100        101      0.597      0.347      0.357      0.111\n"
          ]
        },
        {
          "output_type": "stream",
          "name": "stderr",
          "text": [
            "\n"
          ]
        },
        {
          "output_type": "stream",
          "name": "stdout",
          "text": [
            "\n",
            "      Epoch    GPU_mem   box_loss   cls_loss   dfl_loss  Instances       Size\n"
          ]
        },
        {
          "output_type": "stream",
          "name": "stderr",
          "text": [
            "      15/50      13.8G      3.058      2.004     0.9178         15        640: 100%|██████████| 27/27 [00:31<00:00,  1.16s/it]\n",
            "                 Class     Images  Instances      Box(P          R      mAP50  mAP50-95): 100%|██████████| 4/4 [00:01<00:00,  2.14it/s]"
          ]
        },
        {
          "output_type": "stream",
          "name": "stdout",
          "text": [
            "                   all        100        101       0.23      0.436      0.292     0.0716\n"
          ]
        },
        {
          "output_type": "stream",
          "name": "stderr",
          "text": [
            "\n"
          ]
        },
        {
          "output_type": "stream",
          "name": "stdout",
          "text": [
            "\n",
            "      Epoch    GPU_mem   box_loss   cls_loss   dfl_loss  Instances       Size\n"
          ]
        },
        {
          "output_type": "stream",
          "name": "stderr",
          "text": [
            "      16/50      13.8G      3.107      1.849     0.9275         20        640: 100%|██████████| 27/27 [00:31<00:00,  1.16s/it]\n",
            "                 Class     Images  Instances      Box(P          R      mAP50  mAP50-95): 100%|██████████| 4/4 [00:02<00:00,  1.56it/s]"
          ]
        },
        {
          "output_type": "stream",
          "name": "stdout",
          "text": [
            "                   all        100        101      0.469      0.257      0.248       0.07\n"
          ]
        },
        {
          "output_type": "stream",
          "name": "stderr",
          "text": [
            "\n"
          ]
        },
        {
          "output_type": "stream",
          "name": "stdout",
          "text": [
            "\n",
            "      Epoch    GPU_mem   box_loss   cls_loss   dfl_loss  Instances       Size\n"
          ]
        },
        {
          "output_type": "stream",
          "name": "stderr",
          "text": [
            "      17/50      13.5G      2.979      1.852     0.9327         20        640: 100%|██████████| 27/27 [00:31<00:00,  1.16s/it]\n",
            "                 Class     Images  Instances      Box(P          R      mAP50  mAP50-95): 100%|██████████| 4/4 [00:01<00:00,  2.11it/s]"
          ]
        },
        {
          "output_type": "stream",
          "name": "stdout",
          "text": [
            "                   all        100        101      0.815      0.218      0.336     0.0713\n"
          ]
        },
        {
          "output_type": "stream",
          "name": "stderr",
          "text": [
            "\n"
          ]
        },
        {
          "output_type": "stream",
          "name": "stdout",
          "text": [
            "\n",
            "      Epoch    GPU_mem   box_loss   cls_loss   dfl_loss  Instances       Size\n"
          ]
        },
        {
          "output_type": "stream",
          "name": "stderr",
          "text": [
            "      18/50      13.8G      2.922      1.884     0.8838         20        640: 100%|██████████| 27/27 [00:31<00:00,  1.15s/it]\n",
            "                 Class     Images  Instances      Box(P          R      mAP50  mAP50-95): 100%|██████████| 4/4 [00:01<00:00,  2.09it/s]"
          ]
        },
        {
          "output_type": "stream",
          "name": "stdout",
          "text": [
            "                   all        100        101      0.529      0.347      0.324      0.105\n"
          ]
        },
        {
          "output_type": "stream",
          "name": "stderr",
          "text": [
            "\n"
          ]
        },
        {
          "output_type": "stream",
          "name": "stdout",
          "text": [
            "\n",
            "      Epoch    GPU_mem   box_loss   cls_loss   dfl_loss  Instances       Size\n"
          ]
        },
        {
          "output_type": "stream",
          "name": "stderr",
          "text": [
            "      19/50      13.8G      2.891      1.777     0.8765         20        640: 100%|██████████| 27/27 [00:31<00:00,  1.17s/it]\n",
            "                 Class     Images  Instances      Box(P          R      mAP50  mAP50-95): 100%|██████████| 4/4 [00:01<00:00,  2.09it/s]"
          ]
        },
        {
          "output_type": "stream",
          "name": "stdout",
          "text": [
            "                   all        100        101      0.641      0.307      0.355      0.113\n"
          ]
        },
        {
          "output_type": "stream",
          "name": "stderr",
          "text": [
            "\n"
          ]
        },
        {
          "output_type": "stream",
          "name": "stdout",
          "text": [
            "\n",
            "      Epoch    GPU_mem   box_loss   cls_loss   dfl_loss  Instances       Size\n"
          ]
        },
        {
          "output_type": "stream",
          "name": "stderr",
          "text": [
            "      20/50      13.9G      2.922       1.82     0.8767         23        640: 100%|██████████| 27/27 [00:31<00:00,  1.16s/it]\n",
            "                 Class     Images  Instances      Box(P          R      mAP50  mAP50-95): 100%|██████████| 4/4 [00:01<00:00,  2.11it/s]"
          ]
        },
        {
          "output_type": "stream",
          "name": "stdout",
          "text": [
            "                   all        100        101      0.686      0.168        0.3     0.0857\n"
          ]
        },
        {
          "output_type": "stream",
          "name": "stderr",
          "text": [
            "\n"
          ]
        },
        {
          "output_type": "stream",
          "name": "stdout",
          "text": [
            "\n",
            "      Epoch    GPU_mem   box_loss   cls_loss   dfl_loss  Instances       Size\n"
          ]
        },
        {
          "output_type": "stream",
          "name": "stderr",
          "text": [
            "      21/50      13.5G      2.787      1.783     0.8733         25        640: 100%|██████████| 27/27 [00:31<00:00,  1.16s/it]\n",
            "                 Class     Images  Instances      Box(P          R      mAP50  mAP50-95): 100%|██████████| 4/4 [00:01<00:00,  2.08it/s]"
          ]
        },
        {
          "output_type": "stream",
          "name": "stdout",
          "text": [
            "                   all        100        101      0.678      0.397      0.425      0.133\n"
          ]
        },
        {
          "output_type": "stream",
          "name": "stderr",
          "text": [
            "\n"
          ]
        },
        {
          "output_type": "stream",
          "name": "stdout",
          "text": [
            "\n",
            "      Epoch    GPU_mem   box_loss   cls_loss   dfl_loss  Instances       Size\n"
          ]
        },
        {
          "output_type": "stream",
          "name": "stderr",
          "text": [
            "      22/50      13.8G      2.829      1.698     0.8941         16        640: 100%|██████████| 27/27 [00:31<00:00,  1.16s/it]\n",
            "                 Class     Images  Instances      Box(P          R      mAP50  mAP50-95): 100%|██████████| 4/4 [00:02<00:00,  1.62it/s]"
          ]
        },
        {
          "output_type": "stream",
          "name": "stdout",
          "text": [
            "                   all        100        101      0.564      0.337      0.326      0.101\n"
          ]
        },
        {
          "output_type": "stream",
          "name": "stderr",
          "text": [
            "\n"
          ]
        },
        {
          "output_type": "stream",
          "name": "stdout",
          "text": [
            "\n",
            "      Epoch    GPU_mem   box_loss   cls_loss   dfl_loss  Instances       Size\n"
          ]
        },
        {
          "output_type": "stream",
          "name": "stderr",
          "text": [
            "      23/50      13.8G      2.764      1.567     0.8802         26        640: 100%|██████████| 27/27 [00:31<00:00,  1.17s/it]\n",
            "                 Class     Images  Instances      Box(P          R      mAP50  mAP50-95): 100%|██████████| 4/4 [00:02<00:00,  1.52it/s]"
          ]
        },
        {
          "output_type": "stream",
          "name": "stdout",
          "text": [
            "                   all        100        101      0.589      0.337      0.371      0.129\n"
          ]
        },
        {
          "output_type": "stream",
          "name": "stderr",
          "text": [
            "\n"
          ]
        },
        {
          "output_type": "stream",
          "name": "stdout",
          "text": [
            "\n",
            "      Epoch    GPU_mem   box_loss   cls_loss   dfl_loss  Instances       Size\n"
          ]
        },
        {
          "output_type": "stream",
          "name": "stderr",
          "text": [
            "      24/50      13.8G      2.863      1.712     0.8662         21        640: 100%|██████████| 27/27 [00:31<00:00,  1.16s/it]\n",
            "                 Class     Images  Instances      Box(P          R      mAP50  mAP50-95): 100%|██████████| 4/4 [00:02<00:00,  1.58it/s]\n"
          ]
        },
        {
          "output_type": "stream",
          "name": "stdout",
          "text": [
            "                   all        100        101      0.699      0.396      0.404      0.114\n",
            "\n",
            "      Epoch    GPU_mem   box_loss   cls_loss   dfl_loss  Instances       Size\n"
          ]
        },
        {
          "output_type": "stream",
          "name": "stderr",
          "text": [
            "      25/50      13.5G      2.852      1.627     0.8884         16        640: 100%|██████████| 27/27 [00:31<00:00,  1.16s/it]\n",
            "                 Class     Images  Instances      Box(P          R      mAP50  mAP50-95): 100%|██████████| 4/4 [00:02<00:00,  1.51it/s]"
          ]
        },
        {
          "output_type": "stream",
          "name": "stdout",
          "text": [
            "                   all        100        101      0.576      0.431       0.44      0.136\n"
          ]
        },
        {
          "output_type": "stream",
          "name": "stderr",
          "text": [
            "\n"
          ]
        },
        {
          "output_type": "stream",
          "name": "stdout",
          "text": [
            "\n",
            "      Epoch    GPU_mem   box_loss   cls_loss   dfl_loss  Instances       Size\n"
          ]
        },
        {
          "output_type": "stream",
          "name": "stderr",
          "text": [
            "      26/50      13.8G      2.805      1.701     0.8968         20        640: 100%|██████████| 27/27 [00:31<00:00,  1.16s/it]\n",
            "                 Class     Images  Instances      Box(P          R      mAP50  mAP50-95): 100%|██████████| 4/4 [00:01<00:00,  2.07it/s]"
          ]
        },
        {
          "output_type": "stream",
          "name": "stdout",
          "text": [
            "                   all        100        101      0.519      0.356      0.353     0.0986\n"
          ]
        },
        {
          "output_type": "stream",
          "name": "stderr",
          "text": [
            "\n"
          ]
        },
        {
          "output_type": "stream",
          "name": "stdout",
          "text": [
            "\n",
            "      Epoch    GPU_mem   box_loss   cls_loss   dfl_loss  Instances       Size\n"
          ]
        },
        {
          "output_type": "stream",
          "name": "stderr",
          "text": [
            "      27/50      13.8G      2.703      1.585     0.8933         17        640: 100%|██████████| 27/27 [00:31<00:00,  1.17s/it]\n",
            "                 Class     Images  Instances      Box(P          R      mAP50  mAP50-95): 100%|██████████| 4/4 [00:02<00:00,  1.93it/s]"
          ]
        },
        {
          "output_type": "stream",
          "name": "stdout",
          "text": [
            "                   all        100        101      0.539      0.297      0.326      0.107\n"
          ]
        },
        {
          "output_type": "stream",
          "name": "stderr",
          "text": [
            "\n"
          ]
        },
        {
          "output_type": "stream",
          "name": "stdout",
          "text": [
            "\n",
            "      Epoch    GPU_mem   box_loss   cls_loss   dfl_loss  Instances       Size\n"
          ]
        },
        {
          "output_type": "stream",
          "name": "stderr",
          "text": [
            "      28/50      13.9G       2.64      1.448     0.8732         23        640: 100%|██████████| 27/27 [00:31<00:00,  1.16s/it]\n",
            "                 Class     Images  Instances      Box(P          R      mAP50  mAP50-95): 100%|██████████| 4/4 [00:02<00:00,  1.95it/s]"
          ]
        },
        {
          "output_type": "stream",
          "name": "stdout",
          "text": [
            "                   all        100        101      0.501      0.348      0.319     0.0859\n"
          ]
        },
        {
          "output_type": "stream",
          "name": "stderr",
          "text": [
            "\n"
          ]
        },
        {
          "output_type": "stream",
          "name": "stdout",
          "text": [
            "\n",
            "      Epoch    GPU_mem   box_loss   cls_loss   dfl_loss  Instances       Size\n"
          ]
        },
        {
          "output_type": "stream",
          "name": "stderr",
          "text": [
            "      29/50      13.5G      2.751      1.495     0.8847         20        640: 100%|██████████| 27/27 [00:31<00:00,  1.16s/it]\n",
            "                 Class     Images  Instances      Box(P          R      mAP50  mAP50-95): 100%|██████████| 4/4 [00:01<00:00,  2.08it/s]"
          ]
        },
        {
          "output_type": "stream",
          "name": "stdout",
          "text": [
            "                   all        100        101      0.483      0.347      0.307      0.103\n"
          ]
        },
        {
          "output_type": "stream",
          "name": "stderr",
          "text": [
            "\n"
          ]
        },
        {
          "output_type": "stream",
          "name": "stdout",
          "text": [
            "\n",
            "      Epoch    GPU_mem   box_loss   cls_loss   dfl_loss  Instances       Size\n"
          ]
        },
        {
          "output_type": "stream",
          "name": "stderr",
          "text": [
            "      30/50      13.8G      2.707      1.502     0.8581         15        640: 100%|██████████| 27/27 [00:31<00:00,  1.17s/it]\n",
            "                 Class     Images  Instances      Box(P          R      mAP50  mAP50-95): 100%|██████████| 4/4 [00:02<00:00,  1.55it/s]\n"
          ]
        },
        {
          "output_type": "stream",
          "name": "stdout",
          "text": [
            "                   all        100        101      0.536      0.377      0.378      0.132\n",
            "\n",
            "      Epoch    GPU_mem   box_loss   cls_loss   dfl_loss  Instances       Size\n"
          ]
        },
        {
          "output_type": "stream",
          "name": "stderr",
          "text": [
            "      31/50      13.8G      2.709      1.427      0.854         26        640: 100%|██████████| 27/27 [00:31<00:00,  1.16s/it]\n",
            "                 Class     Images  Instances      Box(P          R      mAP50  mAP50-95): 100%|██████████| 4/4 [00:02<00:00,  1.63it/s]"
          ]
        },
        {
          "output_type": "stream",
          "name": "stdout",
          "text": [
            "                   all        100        101      0.578      0.465      0.441      0.136\n"
          ]
        },
        {
          "output_type": "stream",
          "name": "stderr",
          "text": [
            "\n"
          ]
        },
        {
          "output_type": "stream",
          "name": "stdout",
          "text": [
            "\n",
            "      Epoch    GPU_mem   box_loss   cls_loss   dfl_loss  Instances       Size\n"
          ]
        },
        {
          "output_type": "stream",
          "name": "stderr",
          "text": [
            "      32/50      13.8G      2.639      1.472     0.8703         18        640: 100%|██████████| 27/27 [00:31<00:00,  1.16s/it]\n",
            "                 Class     Images  Instances      Box(P          R      mAP50  mAP50-95): 100%|██████████| 4/4 [00:01<00:00,  2.09it/s]"
          ]
        },
        {
          "output_type": "stream",
          "name": "stdout",
          "text": [
            "                   all        100        101      0.651      0.396      0.392      0.125\n"
          ]
        },
        {
          "output_type": "stream",
          "name": "stderr",
          "text": [
            "\n"
          ]
        },
        {
          "output_type": "stream",
          "name": "stdout",
          "text": [
            "\n",
            "      Epoch    GPU_mem   box_loss   cls_loss   dfl_loss  Instances       Size\n"
          ]
        },
        {
          "output_type": "stream",
          "name": "stderr",
          "text": [
            "      33/50      13.5G      2.568      1.464     0.8523         20        640: 100%|██████████| 27/27 [00:31<00:00,  1.16s/it]\n",
            "                 Class     Images  Instances      Box(P          R      mAP50  mAP50-95): 100%|██████████| 4/4 [00:01<00:00,  2.04it/s]"
          ]
        },
        {
          "output_type": "stream",
          "name": "stdout",
          "text": [
            "                   all        100        101      0.631      0.237      0.303     0.0976\n"
          ]
        },
        {
          "output_type": "stream",
          "name": "stderr",
          "text": [
            "\n"
          ]
        },
        {
          "output_type": "stream",
          "name": "stdout",
          "text": [
            "\n",
            "      Epoch    GPU_mem   box_loss   cls_loss   dfl_loss  Instances       Size\n"
          ]
        },
        {
          "output_type": "stream",
          "name": "stderr",
          "text": [
            "      34/50      13.8G      2.631      1.561     0.8744         17        640: 100%|██████████| 27/27 [00:31<00:00,  1.16s/it]\n",
            "                 Class     Images  Instances      Box(P          R      mAP50  mAP50-95): 100%|██████████| 4/4 [00:02<00:00,  1.90it/s]"
          ]
        },
        {
          "output_type": "stream",
          "name": "stdout",
          "text": [
            "                   all        100        101      0.591      0.386      0.439      0.142\n"
          ]
        },
        {
          "output_type": "stream",
          "name": "stderr",
          "text": [
            "\n"
          ]
        },
        {
          "output_type": "stream",
          "name": "stdout",
          "text": [
            "\n",
            "      Epoch    GPU_mem   box_loss   cls_loss   dfl_loss  Instances       Size\n"
          ]
        },
        {
          "output_type": "stream",
          "name": "stderr",
          "text": [
            "      35/50      13.8G      2.518      1.308      0.865         19        640: 100%|██████████| 27/27 [00:31<00:00,  1.16s/it]\n",
            "                 Class     Images  Instances      Box(P          R      mAP50  mAP50-95): 100%|██████████| 4/4 [00:01<00:00,  2.06it/s]"
          ]
        },
        {
          "output_type": "stream",
          "name": "stdout",
          "text": [
            "                   all        100        101      0.558      0.475      0.426      0.128\n"
          ]
        },
        {
          "output_type": "stream",
          "name": "stderr",
          "text": [
            "\n"
          ]
        },
        {
          "output_type": "stream",
          "name": "stdout",
          "text": [
            "\n",
            "      Epoch    GPU_mem   box_loss   cls_loss   dfl_loss  Instances       Size\n"
          ]
        },
        {
          "output_type": "stream",
          "name": "stderr",
          "text": [
            "      36/50      13.9G      2.679      1.452     0.8783         20        640: 100%|██████████| 27/27 [00:31<00:00,  1.16s/it]\n",
            "                 Class     Images  Instances      Box(P          R      mAP50  mAP50-95): 100%|██████████| 4/4 [00:01<00:00,  2.07it/s]"
          ]
        },
        {
          "output_type": "stream",
          "name": "stdout",
          "text": [
            "                   all        100        101      0.715      0.426      0.459      0.174\n"
          ]
        },
        {
          "output_type": "stream",
          "name": "stderr",
          "text": [
            "\n"
          ]
        },
        {
          "output_type": "stream",
          "name": "stdout",
          "text": [
            "\n",
            "      Epoch    GPU_mem   box_loss   cls_loss   dfl_loss  Instances       Size\n"
          ]
        },
        {
          "output_type": "stream",
          "name": "stderr",
          "text": [
            "      37/50      13.5G      2.594      1.369     0.8736         20        640: 100%|██████████| 27/27 [00:31<00:00,  1.16s/it]\n",
            "                 Class     Images  Instances      Box(P          R      mAP50  mAP50-95): 100%|██████████| 4/4 [00:01<00:00,  2.09it/s]"
          ]
        },
        {
          "output_type": "stream",
          "name": "stdout",
          "text": [
            "                   all        100        101       0.71      0.446      0.497      0.136\n"
          ]
        },
        {
          "output_type": "stream",
          "name": "stderr",
          "text": [
            "\n"
          ]
        },
        {
          "output_type": "stream",
          "name": "stdout",
          "text": [
            "\n",
            "      Epoch    GPU_mem   box_loss   cls_loss   dfl_loss  Instances       Size\n"
          ]
        },
        {
          "output_type": "stream",
          "name": "stderr",
          "text": [
            "      38/50      13.8G      2.507      1.298     0.8705         24        640: 100%|██████████| 27/27 [00:31<00:00,  1.16s/it]\n",
            "                 Class     Images  Instances      Box(P          R      mAP50  mAP50-95): 100%|██████████| 4/4 [00:01<00:00,  2.10it/s]"
          ]
        },
        {
          "output_type": "stream",
          "name": "stdout",
          "text": [
            "                   all        100        101      0.606      0.472      0.471      0.163\n"
          ]
        },
        {
          "output_type": "stream",
          "name": "stderr",
          "text": [
            "\n"
          ]
        },
        {
          "output_type": "stream",
          "name": "stdout",
          "text": [
            "\n",
            "      Epoch    GPU_mem   box_loss   cls_loss   dfl_loss  Instances       Size\n"
          ]
        },
        {
          "output_type": "stream",
          "name": "stderr",
          "text": [
            "      39/50      13.8G      2.378      1.329     0.8579         21        640: 100%|██████████| 27/27 [00:31<00:00,  1.16s/it]\n",
            "                 Class     Images  Instances      Box(P          R      mAP50  mAP50-95): 100%|██████████| 4/4 [00:01<00:00,  2.08it/s]"
          ]
        },
        {
          "output_type": "stream",
          "name": "stdout",
          "text": [
            "                   all        100        101      0.617      0.356      0.369      0.121\n"
          ]
        },
        {
          "output_type": "stream",
          "name": "stderr",
          "text": [
            "\n"
          ]
        },
        {
          "output_type": "stream",
          "name": "stdout",
          "text": [
            "\n",
            "      Epoch    GPU_mem   box_loss   cls_loss   dfl_loss  Instances       Size\n"
          ]
        },
        {
          "output_type": "stream",
          "name": "stderr",
          "text": [
            "      40/50      13.8G       2.37      1.375     0.8622         24        640: 100%|██████████| 27/27 [00:31<00:00,  1.16s/it]\n",
            "                 Class     Images  Instances      Box(P          R      mAP50  mAP50-95): 100%|██████████| 4/4 [00:01<00:00,  2.14it/s]"
          ]
        },
        {
          "output_type": "stream",
          "name": "stdout",
          "text": [
            "                   all        100        101       0.46      0.248      0.267     0.0925\n"
          ]
        },
        {
          "output_type": "stream",
          "name": "stderr",
          "text": [
            "\n"
          ]
        },
        {
          "output_type": "stream",
          "name": "stdout",
          "text": [
            "Closing dataloader mosaic\n",
            "\u001b[34m\u001b[1malbumentations: \u001b[0mBlur(p=0.01, blur_limit=(3, 7)), MedianBlur(p=0.01, blur_limit=(3, 7)), ToGray(p=0.01), CLAHE(p=0.01, clip_limit=(1, 4.0), tile_grid_size=(8, 8))\n"
          ]
        },
        {
          "output_type": "stream",
          "name": "stderr",
          "text": [
            "os.fork() was called. os.fork() is incompatible with multithreaded code, and JAX is multithreaded, so this will likely lead to a deadlock.\n"
          ]
        },
        {
          "output_type": "stream",
          "name": "stdout",
          "text": [
            "\n",
            "      Epoch    GPU_mem   box_loss   cls_loss   dfl_loss  Instances       Size\n"
          ]
        },
        {
          "output_type": "stream",
          "name": "stderr",
          "text": [
            "      41/50      13.5G      2.391       1.44     0.8635         12        640: 100%|██████████| 27/27 [00:33<00:00,  1.24s/it]\n",
            "                 Class     Images  Instances      Box(P          R      mAP50  mAP50-95): 100%|██████████| 4/4 [00:01<00:00,  2.11it/s]"
          ]
        },
        {
          "output_type": "stream",
          "name": "stdout",
          "text": [
            "                   all        100        101      0.705      0.455      0.516      0.187\n"
          ]
        },
        {
          "output_type": "stream",
          "name": "stderr",
          "text": [
            "\n"
          ]
        },
        {
          "output_type": "stream",
          "name": "stdout",
          "text": [
            "\n",
            "      Epoch    GPU_mem   box_loss   cls_loss   dfl_loss  Instances       Size\n"
          ]
        },
        {
          "output_type": "stream",
          "name": "stderr",
          "text": [
            "      42/50      13.8G      2.365      1.219      0.871         12        640: 100%|██████████| 27/27 [00:31<00:00,  1.15s/it]\n",
            "                 Class     Images  Instances      Box(P          R      mAP50  mAP50-95): 100%|██████████| 4/4 [00:02<00:00,  1.79it/s]"
          ]
        },
        {
          "output_type": "stream",
          "name": "stdout",
          "text": [
            "                   all        100        101      0.697      0.485      0.543       0.17\n"
          ]
        },
        {
          "output_type": "stream",
          "name": "stderr",
          "text": [
            "\n"
          ]
        },
        {
          "output_type": "stream",
          "name": "stdout",
          "text": [
            "\n",
            "      Epoch    GPU_mem   box_loss   cls_loss   dfl_loss  Instances       Size\n"
          ]
        },
        {
          "output_type": "stream",
          "name": "stderr",
          "text": [
            "      43/50      13.8G      2.488      1.293     0.9016         12        640: 100%|██████████| 27/27 [00:31<00:00,  1.16s/it]\n",
            "                 Class     Images  Instances      Box(P          R      mAP50  mAP50-95): 100%|██████████| 4/4 [00:02<00:00,  1.76it/s]"
          ]
        },
        {
          "output_type": "stream",
          "name": "stdout",
          "text": [
            "                   all        100        101      0.522      0.416      0.412      0.138\n"
          ]
        },
        {
          "output_type": "stream",
          "name": "stderr",
          "text": [
            "\n"
          ]
        },
        {
          "output_type": "stream",
          "name": "stdout",
          "text": [
            "\n",
            "      Epoch    GPU_mem   box_loss   cls_loss   dfl_loss  Instances       Size\n"
          ]
        },
        {
          "output_type": "stream",
          "name": "stderr",
          "text": [
            "      44/50      13.8G      2.393      1.257      0.876         12        640: 100%|██████████| 27/27 [00:31<00:00,  1.16s/it]\n",
            "                 Class     Images  Instances      Box(P          R      mAP50  mAP50-95): 100%|██████████| 4/4 [00:02<00:00,  1.54it/s]\n"
          ]
        },
        {
          "output_type": "stream",
          "name": "stdout",
          "text": [
            "                   all        100        101      0.518      0.469      0.446      0.164\n",
            "\n",
            "      Epoch    GPU_mem   box_loss   cls_loss   dfl_loss  Instances       Size\n"
          ]
        },
        {
          "output_type": "stream",
          "name": "stderr",
          "text": [
            "      45/50      13.5G      2.342       1.11     0.8717         12        640: 100%|██████████| 27/27 [00:31<00:00,  1.15s/it]\n",
            "                 Class     Images  Instances      Box(P          R      mAP50  mAP50-95): 100%|██████████| 4/4 [00:02<00:00,  1.65it/s]"
          ]
        },
        {
          "output_type": "stream",
          "name": "stdout",
          "text": [
            "                   all        100        101      0.607      0.446      0.458      0.165\n"
          ]
        },
        {
          "output_type": "stream",
          "name": "stderr",
          "text": [
            "\n"
          ]
        },
        {
          "output_type": "stream",
          "name": "stdout",
          "text": [
            "\n",
            "      Epoch    GPU_mem   box_loss   cls_loss   dfl_loss  Instances       Size\n"
          ]
        },
        {
          "output_type": "stream",
          "name": "stderr",
          "text": [
            "      46/50      13.8G      2.278       1.22     0.8438         12        640: 100%|██████████| 27/27 [00:31<00:00,  1.16s/it]\n",
            "                 Class     Images  Instances      Box(P          R      mAP50  mAP50-95): 100%|██████████| 4/4 [00:02<00:00,  1.98it/s]"
          ]
        },
        {
          "output_type": "stream",
          "name": "stdout",
          "text": [
            "                   all        100        101      0.568      0.446      0.463      0.162\n"
          ]
        },
        {
          "output_type": "stream",
          "name": "stderr",
          "text": [
            "\n"
          ]
        },
        {
          "output_type": "stream",
          "name": "stdout",
          "text": [
            "\n",
            "      Epoch    GPU_mem   box_loss   cls_loss   dfl_loss  Instances       Size\n"
          ]
        },
        {
          "output_type": "stream",
          "name": "stderr",
          "text": [
            "      47/50      13.8G      2.205      1.185     0.8774         12        640: 100%|██████████| 27/27 [00:31<00:00,  1.16s/it]\n",
            "                 Class     Images  Instances      Box(P          R      mAP50  mAP50-95): 100%|██████████| 4/4 [00:01<00:00,  2.09it/s]"
          ]
        },
        {
          "output_type": "stream",
          "name": "stdout",
          "text": [
            "                   all        100        101      0.627      0.399      0.492      0.182\n"
          ]
        },
        {
          "output_type": "stream",
          "name": "stderr",
          "text": [
            "\n"
          ]
        },
        {
          "output_type": "stream",
          "name": "stdout",
          "text": [
            "\n",
            "      Epoch    GPU_mem   box_loss   cls_loss   dfl_loss  Instances       Size\n"
          ]
        },
        {
          "output_type": "stream",
          "name": "stderr",
          "text": [
            "      48/50      13.9G      2.142      1.213     0.8374         11        640: 100%|██████████| 27/27 [00:31<00:00,  1.16s/it]\n",
            "                 Class     Images  Instances      Box(P          R      mAP50  mAP50-95): 100%|██████████| 4/4 [00:01<00:00,  2.10it/s]"
          ]
        },
        {
          "output_type": "stream",
          "name": "stdout",
          "text": [
            "                   all        100        101      0.647      0.454      0.515      0.196\n"
          ]
        },
        {
          "output_type": "stream",
          "name": "stderr",
          "text": [
            "\n"
          ]
        },
        {
          "output_type": "stream",
          "name": "stdout",
          "text": [
            "\n",
            "      Epoch    GPU_mem   box_loss   cls_loss   dfl_loss  Instances       Size\n"
          ]
        },
        {
          "output_type": "stream",
          "name": "stderr",
          "text": [
            "      49/50      13.5G      2.312      1.162     0.8549         12        640: 100%|██████████| 27/27 [00:31<00:00,  1.16s/it]\n",
            "                 Class     Images  Instances      Box(P          R      mAP50  mAP50-95): 100%|██████████| 4/4 [00:02<00:00,  1.57it/s]"
          ]
        },
        {
          "output_type": "stream",
          "name": "stdout",
          "text": [
            "                   all        100        101      0.659      0.465      0.513       0.19\n"
          ]
        },
        {
          "output_type": "stream",
          "name": "stderr",
          "text": [
            "\n"
          ]
        },
        {
          "output_type": "stream",
          "name": "stdout",
          "text": [
            "\n",
            "      Epoch    GPU_mem   box_loss   cls_loss   dfl_loss  Instances       Size\n"
          ]
        },
        {
          "output_type": "stream",
          "name": "stderr",
          "text": [
            "      50/50      13.8G       2.23       1.17     0.8661         12        640: 100%|██████████| 27/27 [00:31<00:00,  1.17s/it]\n",
            "                 Class     Images  Instances      Box(P          R      mAP50  mAP50-95): 100%|██████████| 4/4 [00:02<00:00,  1.57it/s]"
          ]
        },
        {
          "output_type": "stream",
          "name": "stdout",
          "text": [
            "                   all        100        101      0.651      0.475      0.524      0.197\n"
          ]
        },
        {
          "output_type": "stream",
          "name": "stderr",
          "text": [
            "\n"
          ]
        },
        {
          "output_type": "stream",
          "name": "stdout",
          "text": [
            "\n",
            "50 epochs completed in 0.533 hours.\n",
            "Optimizer stripped from runs/detect/train/weights/last.pt, 136.7MB\n",
            "Optimizer stripped from runs/detect/train/weights/best.pt, 136.7MB\n",
            "\n",
            "Validating runs/detect/train/weights/best.pt...\n",
            "Ultralytics YOLOv8.2.26 🚀 Python-3.10.12 torch-2.3.0+cu121 CUDA:0 (Tesla T4, 15102MiB)\n",
            "Model summary (fused): 268 layers, 68124531 parameters, 0 gradients, 257.4 GFLOPs\n"
          ]
        },
        {
          "output_type": "stream",
          "name": "stderr",
          "text": [
            "                 Class     Images  Instances      Box(P          R      mAP50  mAP50-95): 100%|██████████| 4/4 [00:03<00:00,  1.20it/s]\n"
          ]
        },
        {
          "output_type": "stream",
          "name": "stdout",
          "text": [
            "                   all        100        101      0.655      0.475      0.524      0.198\n",
            "Speed: 0.4ms preprocess, 17.0ms inference, 0.0ms loss, 2.8ms postprocess per image\n",
            "Results saved to \u001b[1mruns/detect/train\u001b[0m\n"
          ]
        },
        {
          "output_type": "execute_result",
          "data": {
            "text/plain": [
              "ultralytics.utils.metrics.DetMetrics object with attributes:\n",
              "\n",
              "ap_class_index: array([0])\n",
              "box: ultralytics.utils.metrics.Metric object\n",
              "confusion_matrix: <ultralytics.utils.metrics.ConfusionMatrix object at 0x7af66269a4a0>\n",
              "curves: ['Precision-Recall(B)', 'F1-Confidence(B)', 'Precision-Confidence(B)', 'Recall-Confidence(B)']\n",
              "curves_results: [[array([          0,    0.001001,    0.002002,    0.003003,    0.004004,    0.005005,    0.006006,    0.007007,    0.008008,    0.009009,     0.01001,    0.011011,    0.012012,    0.013013,    0.014014,    0.015015,    0.016016,    0.017017,    0.018018,    0.019019,     0.02002,    0.021021,    0.022022,    0.023023,\n",
              "          0.024024,    0.025025,    0.026026,    0.027027,    0.028028,    0.029029,     0.03003,    0.031031,    0.032032,    0.033033,    0.034034,    0.035035,    0.036036,    0.037037,    0.038038,    0.039039,     0.04004,    0.041041,    0.042042,    0.043043,    0.044044,    0.045045,    0.046046,    0.047047,\n",
              "          0.048048,    0.049049,     0.05005,    0.051051,    0.052052,    0.053053,    0.054054,    0.055055,    0.056056,    0.057057,    0.058058,    0.059059,     0.06006,    0.061061,    0.062062,    0.063063,    0.064064,    0.065065,    0.066066,    0.067067,    0.068068,    0.069069,     0.07007,    0.071071,\n",
              "          0.072072,    0.073073,    0.074074,    0.075075,    0.076076,    0.077077,    0.078078,    0.079079,     0.08008,    0.081081,    0.082082,    0.083083,    0.084084,    0.085085,    0.086086,    0.087087,    0.088088,    0.089089,     0.09009,    0.091091,    0.092092,    0.093093,    0.094094,    0.095095,\n",
              "          0.096096,    0.097097,    0.098098,    0.099099,      0.1001,      0.1011,      0.1021,      0.1031,      0.1041,     0.10511,     0.10611,     0.10711,     0.10811,     0.10911,     0.11011,     0.11111,     0.11211,     0.11311,     0.11411,     0.11512,     0.11612,     0.11712,     0.11812,     0.11912,\n",
              "           0.12012,     0.12112,     0.12212,     0.12312,     0.12412,     0.12513,     0.12613,     0.12713,     0.12813,     0.12913,     0.13013,     0.13113,     0.13213,     0.13313,     0.13413,     0.13514,     0.13614,     0.13714,     0.13814,     0.13914,     0.14014,     0.14114,     0.14214,     0.14314,\n",
              "           0.14414,     0.14515,     0.14615,     0.14715,     0.14815,     0.14915,     0.15015,     0.15115,     0.15215,     0.15315,     0.15415,     0.15516,     0.15616,     0.15716,     0.15816,     0.15916,     0.16016,     0.16116,     0.16216,     0.16316,     0.16416,     0.16517,     0.16617,     0.16717,\n",
              "           0.16817,     0.16917,     0.17017,     0.17117,     0.17217,     0.17317,     0.17417,     0.17518,     0.17618,     0.17718,     0.17818,     0.17918,     0.18018,     0.18118,     0.18218,     0.18318,     0.18418,     0.18519,     0.18619,     0.18719,     0.18819,     0.18919,     0.19019,     0.19119,\n",
              "           0.19219,     0.19319,     0.19419,      0.1952,      0.1962,      0.1972,      0.1982,      0.1992,      0.2002,      0.2012,      0.2022,      0.2032,      0.2042,     0.20521,     0.20621,     0.20721,     0.20821,     0.20921,     0.21021,     0.21121,     0.21221,     0.21321,     0.21421,     0.21522,\n",
              "           0.21622,     0.21722,     0.21822,     0.21922,     0.22022,     0.22122,     0.22222,     0.22322,     0.22422,     0.22523,     0.22623,     0.22723,     0.22823,     0.22923,     0.23023,     0.23123,     0.23223,     0.23323,     0.23423,     0.23524,     0.23624,     0.23724,     0.23824,     0.23924,\n",
              "           0.24024,     0.24124,     0.24224,     0.24324,     0.24424,     0.24525,     0.24625,     0.24725,     0.24825,     0.24925,     0.25025,     0.25125,     0.25225,     0.25325,     0.25425,     0.25526,     0.25626,     0.25726,     0.25826,     0.25926,     0.26026,     0.26126,     0.26226,     0.26326,\n",
              "           0.26426,     0.26527,     0.26627,     0.26727,     0.26827,     0.26927,     0.27027,     0.27127,     0.27227,     0.27327,     0.27427,     0.27528,     0.27628,     0.27728,     0.27828,     0.27928,     0.28028,     0.28128,     0.28228,     0.28328,     0.28428,     0.28529,     0.28629,     0.28729,\n",
              "           0.28829,     0.28929,     0.29029,     0.29129,     0.29229,     0.29329,     0.29429,      0.2953,      0.2963,      0.2973,      0.2983,      0.2993,      0.3003,      0.3013,      0.3023,      0.3033,      0.3043,     0.30531,     0.30631,     0.30731,     0.30831,     0.30931,     0.31031,     0.31131,\n",
              "           0.31231,     0.31331,     0.31431,     0.31532,     0.31632,     0.31732,     0.31832,     0.31932,     0.32032,     0.32132,     0.32232,     0.32332,     0.32432,     0.32533,     0.32633,     0.32733,     0.32833,     0.32933,     0.33033,     0.33133,     0.33233,     0.33333,     0.33433,     0.33534,\n",
              "           0.33634,     0.33734,     0.33834,     0.33934,     0.34034,     0.34134,     0.34234,     0.34334,     0.34434,     0.34535,     0.34635,     0.34735,     0.34835,     0.34935,     0.35035,     0.35135,     0.35235,     0.35335,     0.35435,     0.35536,     0.35636,     0.35736,     0.35836,     0.35936,\n",
              "           0.36036,     0.36136,     0.36236,     0.36336,     0.36436,     0.36537,     0.36637,     0.36737,     0.36837,     0.36937,     0.37037,     0.37137,     0.37237,     0.37337,     0.37437,     0.37538,     0.37638,     0.37738,     0.37838,     0.37938,     0.38038,     0.38138,     0.38238,     0.38338,\n",
              "           0.38438,     0.38539,     0.38639,     0.38739,     0.38839,     0.38939,     0.39039,     0.39139,     0.39239,     0.39339,     0.39439,      0.3954,      0.3964,      0.3974,      0.3984,      0.3994,      0.4004,      0.4014,      0.4024,      0.4034,      0.4044,     0.40541,     0.40641,     0.40741,\n",
              "           0.40841,     0.40941,     0.41041,     0.41141,     0.41241,     0.41341,     0.41441,     0.41542,     0.41642,     0.41742,     0.41842,     0.41942,     0.42042,     0.42142,     0.42242,     0.42342,     0.42442,     0.42543,     0.42643,     0.42743,     0.42843,     0.42943,     0.43043,     0.43143,\n",
              "           0.43243,     0.43343,     0.43443,     0.43544,     0.43644,     0.43744,     0.43844,     0.43944,     0.44044,     0.44144,     0.44244,     0.44344,     0.44444,     0.44545,     0.44645,     0.44745,     0.44845,     0.44945,     0.45045,     0.45145,     0.45245,     0.45345,     0.45445,     0.45546,\n",
              "           0.45646,     0.45746,     0.45846,     0.45946,     0.46046,     0.46146,     0.46246,     0.46346,     0.46446,     0.46547,     0.46647,     0.46747,     0.46847,     0.46947,     0.47047,     0.47147,     0.47247,     0.47347,     0.47447,     0.47548,     0.47648,     0.47748,     0.47848,     0.47948,\n",
              "           0.48048,     0.48148,     0.48248,     0.48348,     0.48448,     0.48549,     0.48649,     0.48749,     0.48849,     0.48949,     0.49049,     0.49149,     0.49249,     0.49349,     0.49449,      0.4955,      0.4965,      0.4975,      0.4985,      0.4995,      0.5005,      0.5015,      0.5025,      0.5035,\n",
              "            0.5045,     0.50551,     0.50651,     0.50751,     0.50851,     0.50951,     0.51051,     0.51151,     0.51251,     0.51351,     0.51451,     0.51552,     0.51652,     0.51752,     0.51852,     0.51952,     0.52052,     0.52152,     0.52252,     0.52352,     0.52452,     0.52553,     0.52653,     0.52753,\n",
              "           0.52853,     0.52953,     0.53053,     0.53153,     0.53253,     0.53353,     0.53453,     0.53554,     0.53654,     0.53754,     0.53854,     0.53954,     0.54054,     0.54154,     0.54254,     0.54354,     0.54454,     0.54555,     0.54655,     0.54755,     0.54855,     0.54955,     0.55055,     0.55155,\n",
              "           0.55255,     0.55355,     0.55455,     0.55556,     0.55656,     0.55756,     0.55856,     0.55956,     0.56056,     0.56156,     0.56256,     0.56356,     0.56456,     0.56557,     0.56657,     0.56757,     0.56857,     0.56957,     0.57057,     0.57157,     0.57257,     0.57357,     0.57457,     0.57558,\n",
              "           0.57658,     0.57758,     0.57858,     0.57958,     0.58058,     0.58158,     0.58258,     0.58358,     0.58458,     0.58559,     0.58659,     0.58759,     0.58859,     0.58959,     0.59059,     0.59159,     0.59259,     0.59359,     0.59459,      0.5956,      0.5966,      0.5976,      0.5986,      0.5996,\n",
              "            0.6006,      0.6016,      0.6026,      0.6036,      0.6046,     0.60561,     0.60661,     0.60761,     0.60861,     0.60961,     0.61061,     0.61161,     0.61261,     0.61361,     0.61461,     0.61562,     0.61662,     0.61762,     0.61862,     0.61962,     0.62062,     0.62162,     0.62262,     0.62362,\n",
              "           0.62462,     0.62563,     0.62663,     0.62763,     0.62863,     0.62963,     0.63063,     0.63163,     0.63263,     0.63363,     0.63463,     0.63564,     0.63664,     0.63764,     0.63864,     0.63964,     0.64064,     0.64164,     0.64264,     0.64364,     0.64464,     0.64565,     0.64665,     0.64765,\n",
              "           0.64865,     0.64965,     0.65065,     0.65165,     0.65265,     0.65365,     0.65465,     0.65566,     0.65666,     0.65766,     0.65866,     0.65966,     0.66066,     0.66166,     0.66266,     0.66366,     0.66466,     0.66567,     0.66667,     0.66767,     0.66867,     0.66967,     0.67067,     0.67167,\n",
              "           0.67267,     0.67367,     0.67467,     0.67568,     0.67668,     0.67768,     0.67868,     0.67968,     0.68068,     0.68168,     0.68268,     0.68368,     0.68468,     0.68569,     0.68669,     0.68769,     0.68869,     0.68969,     0.69069,     0.69169,     0.69269,     0.69369,     0.69469,      0.6957,\n",
              "            0.6967,      0.6977,      0.6987,      0.6997,      0.7007,      0.7017,      0.7027,      0.7037,      0.7047,     0.70571,     0.70671,     0.70771,     0.70871,     0.70971,     0.71071,     0.71171,     0.71271,     0.71371,     0.71471,     0.71572,     0.71672,     0.71772,     0.71872,     0.71972,\n",
              "           0.72072,     0.72172,     0.72272,     0.72372,     0.72472,     0.72573,     0.72673,     0.72773,     0.72873,     0.72973,     0.73073,     0.73173,     0.73273,     0.73373,     0.73473,     0.73574,     0.73674,     0.73774,     0.73874,     0.73974,     0.74074,     0.74174,     0.74274,     0.74374,\n",
              "           0.74474,     0.74575,     0.74675,     0.74775,     0.74875,     0.74975,     0.75075,     0.75175,     0.75275,     0.75375,     0.75475,     0.75576,     0.75676,     0.75776,     0.75876,     0.75976,     0.76076,     0.76176,     0.76276,     0.76376,     0.76476,     0.76577,     0.76677,     0.76777,\n",
              "           0.76877,     0.76977,     0.77077,     0.77177,     0.77277,     0.77377,     0.77477,     0.77578,     0.77678,     0.77778,     0.77878,     0.77978,     0.78078,     0.78178,     0.78278,     0.78378,     0.78478,     0.78579,     0.78679,     0.78779,     0.78879,     0.78979,     0.79079,     0.79179,\n",
              "           0.79279,     0.79379,     0.79479,      0.7958,      0.7968,      0.7978,      0.7988,      0.7998,      0.8008,      0.8018,      0.8028,      0.8038,      0.8048,     0.80581,     0.80681,     0.80781,     0.80881,     0.80981,     0.81081,     0.81181,     0.81281,     0.81381,     0.81481,     0.81582,\n",
              "           0.81682,     0.81782,     0.81882,     0.81982,     0.82082,     0.82182,     0.82282,     0.82382,     0.82482,     0.82583,     0.82683,     0.82783,     0.82883,     0.82983,     0.83083,     0.83183,     0.83283,     0.83383,     0.83483,     0.83584,     0.83684,     0.83784,     0.83884,     0.83984,\n",
              "           0.84084,     0.84184,     0.84284,     0.84384,     0.84484,     0.84585,     0.84685,     0.84785,     0.84885,     0.84985,     0.85085,     0.85185,     0.85285,     0.85385,     0.85485,     0.85586,     0.85686,     0.85786,     0.85886,     0.85986,     0.86086,     0.86186,     0.86286,     0.86386,\n",
              "           0.86486,     0.86587,     0.86687,     0.86787,     0.86887,     0.86987,     0.87087,     0.87187,     0.87287,     0.87387,     0.87487,     0.87588,     0.87688,     0.87788,     0.87888,     0.87988,     0.88088,     0.88188,     0.88288,     0.88388,     0.88488,     0.88589,     0.88689,     0.88789,\n",
              "           0.88889,     0.88989,     0.89089,     0.89189,     0.89289,     0.89389,     0.89489,      0.8959,      0.8969,      0.8979,      0.8989,      0.8999,      0.9009,      0.9019,      0.9029,      0.9039,      0.9049,     0.90591,     0.90691,     0.90791,     0.90891,     0.90991,     0.91091,     0.91191,\n",
              "           0.91291,     0.91391,     0.91491,     0.91592,     0.91692,     0.91792,     0.91892,     0.91992,     0.92092,     0.92192,     0.92292,     0.92392,     0.92492,     0.92593,     0.92693,     0.92793,     0.92893,     0.92993,     0.93093,     0.93193,     0.93293,     0.93393,     0.93493,     0.93594,\n",
              "           0.93694,     0.93794,     0.93894,     0.93994,     0.94094,     0.94194,     0.94294,     0.94394,     0.94494,     0.94595,     0.94695,     0.94795,     0.94895,     0.94995,     0.95095,     0.95195,     0.95295,     0.95395,     0.95495,     0.95596,     0.95696,     0.95796,     0.95896,     0.95996,\n",
              "           0.96096,     0.96196,     0.96296,     0.96396,     0.96496,     0.96597,     0.96697,     0.96797,     0.96897,     0.96997,     0.97097,     0.97197,     0.97297,     0.97397,     0.97497,     0.97598,     0.97698,     0.97798,     0.97898,     0.97998,     0.98098,     0.98198,     0.98298,     0.98398,\n",
              "           0.98498,     0.98599,     0.98699,     0.98799,     0.98899,     0.98999,     0.99099,     0.99199,     0.99299,     0.99399,     0.99499,       0.996,       0.997,       0.998,       0.999,           1]), array([[          1,           1,           1,           1,           1,           1,           1,           1,           1,           1,           1,           1,           1,           1,           1,           1,           1,           1,           1,           1,           1,           1,           1,\n",
              "                  1,           1,           1,           1,           1,           1,           1,           1,           1,           1,           1,           1,           1,           1,           1,           1,           1,           1,           1,           1,           1,           1,           1,\n",
              "                  1,           1,           1,           1,     0.90909,     0.90909,     0.90909,     0.90909,     0.90909,     0.90909,     0.90909,     0.90909,     0.90909,     0.90909,     0.90909,     0.90909,     0.90909,     0.90909,     0.90909,     0.90909,     0.90909,     0.90909,     0.90909,\n",
              "            0.90909,     0.90909,     0.90909,     0.90909,     0.90909,     0.90909,     0.90909,     0.90909,     0.90909,     0.90909,     0.90909,     0.90909,     0.90909,     0.90909,     0.90909,     0.90909,     0.90909,     0.90909,     0.90909,     0.90909,     0.90909,     0.90909,     0.90909,\n",
              "            0.90909,     0.90909,     0.90909,     0.90909,     0.90909,     0.90909,     0.90909,     0.88235,     0.88235,     0.88235,     0.88235,     0.88235,     0.88235,     0.88235,     0.88235,     0.88235,     0.88235,     0.88235,     0.88235,     0.88235,     0.88235,     0.88235,     0.88235,\n",
              "            0.88235,     0.88235,     0.88235,     0.88235,     0.88235,     0.88235,     0.88235,     0.88235,     0.88235,     0.88235,     0.88235,     0.88235,     0.88235,     0.88235,     0.88235,     0.88235,     0.88235,     0.88235,     0.88235,     0.88235,     0.88235,     0.88235,     0.88235,\n",
              "            0.88235,     0.88235,     0.88235,     0.88235,     0.88235,     0.88235,     0.88235,     0.88235,     0.88235,     0.88235,     0.88235,     0.86111,     0.86111,     0.86111,     0.86111,     0.86111,     0.86111,     0.86111,     0.86111,     0.86111,     0.86111,     0.86111,     0.86111,\n",
              "            0.86111,     0.86111,     0.86111,     0.86111,     0.86111,     0.86111,     0.86111,     0.86111,     0.86111,     0.86111,     0.86111,     0.86111,     0.86111,     0.86111,     0.86111,     0.86111,     0.86111,     0.86111,     0.86111,     0.86111,     0.86111,     0.86111,     0.86111,\n",
              "            0.86111,     0.86111,     0.86111,     0.86111,     0.86111,     0.86111,     0.86111,     0.86111,     0.86111,     0.86111,     0.86111,     0.86111,     0.86111,     0.86111,     0.86111,     0.86111,     0.86111,     0.86111,     0.86111,     0.86111,     0.86111,     0.86111,     0.86111,\n",
              "            0.86111,     0.86111,     0.86111,     0.86111,     0.86111,     0.86111,     0.86111,     0.86111,     0.86111,     0.86111,     0.86111,     0.86111,     0.86111,     0.86111,     0.86111,     0.86111,     0.86111,     0.86111,     0.86111,     0.86111,     0.86111,     0.86111,     0.86111,\n",
              "            0.86111,     0.86111,     0.86111,     0.86111,     0.86111,     0.86111,     0.86111,     0.86111,     0.86111,     0.86111,     0.86111,     0.86111,     0.86111,     0.86111,     0.86111,     0.86111,     0.86111,     0.86111,     0.86111,     0.86111,     0.86111,     0.86111,     0.86111,\n",
              "            0.86111,     0.86111,     0.86111,     0.86111,     0.86111,     0.86111,     0.86111,     0.86111,     0.86111,     0.86111,     0.86111,     0.86111,     0.86111,     0.86111,     0.86111,     0.86111,     0.86111,     0.86111,     0.86111,     0.86111,     0.86111,     0.86111,     0.86111,\n",
              "            0.86111,     0.86111,     0.86111,     0.86111,     0.86111,     0.86111,     0.86111,     0.86111,     0.86111,     0.86111,     0.86111,     0.86111,     0.86111,     0.86111,     0.86111,     0.86111,     0.86111,     0.86111,     0.86111,     0.86111,     0.86111,     0.86111,     0.86111,\n",
              "            0.86111,     0.86111,     0.86111,     0.86111,     0.86111,     0.86111,     0.86111,     0.86111,     0.84615,     0.84615,     0.84615,     0.84615,     0.84615,     0.84615,     0.84615,     0.84615,     0.84615,     0.84615,     0.84615,     0.84615,     0.84615,     0.84615,     0.84615,\n",
              "            0.84615,     0.84615,     0.84615,     0.84615,     0.84615,     0.82927,     0.82927,     0.82927,     0.82927,     0.82927,     0.82927,     0.82927,     0.82927,     0.82927,     0.82927,     0.81395,     0.81395,     0.81395,     0.81395,     0.81395,     0.81395,     0.81395,     0.81395,\n",
              "            0.81395,     0.81395,     0.80435,     0.80435,     0.80435,     0.80435,     0.80435,     0.80435,     0.80435,     0.80435,     0.80435,     0.80435,     0.80435,     0.80435,     0.80435,     0.80435,     0.80435,     0.80435,     0.80435,     0.80435,     0.80435,     0.79167,     0.79167,\n",
              "            0.79167,     0.79167,     0.79167,     0.79167,     0.79167,     0.79167,     0.79167,     0.79167,     0.74545,     0.74545,     0.74545,     0.74545,     0.74545,     0.74545,     0.74545,     0.74545,     0.74545,     0.74545,     0.74545,     0.74545,     0.74545,     0.74545,     0.74545,\n",
              "            0.74545,     0.74545,     0.74545,     0.74545,     0.74545,     0.74545,     0.74545,     0.74545,     0.74545,     0.74545,     0.74545,     0.74545,     0.74545,     0.74545,     0.74545,     0.73684,     0.73684,     0.73684,     0.73684,     0.73684,     0.73684,     0.73684,     0.73684,\n",
              "            0.73684,     0.73684,     0.72881,     0.72881,     0.72881,     0.72881,     0.72881,     0.72881,     0.72881,     0.72881,     0.72881,     0.72881,     0.69841,     0.69841,     0.69841,     0.69841,     0.69841,     0.69841,     0.69841,     0.69841,     0.69841,     0.69841,     0.68116,\n",
              "            0.68116,     0.68116,     0.68116,     0.68116,     0.68116,     0.68116,     0.68116,     0.68116,     0.68116,     0.68116,     0.68116,     0.68116,     0.68116,     0.68116,     0.68116,     0.68116,     0.68116,     0.68116,     0.68116,     0.68116,     0.68116,     0.68116,     0.68116,\n",
              "            0.68116,     0.68116,     0.68116,     0.68116,     0.68116,     0.66667,     0.66667,     0.66667,     0.66667,     0.66667,     0.66667,     0.66667,     0.66667,     0.66667,     0.66667,     0.64474,     0.64474,     0.64474,     0.64474,     0.64474,     0.64474,     0.64474,     0.64474,\n",
              "            0.64474,     0.64474,     0.60465,     0.60465,     0.60465,     0.60465,     0.60465,     0.60465,     0.60465,     0.60465,     0.60465,     0.60465,     0.60465,     0.60465,     0.60465,     0.60465,     0.60465,     0.60465,     0.60465,     0.60465,     0.60465,     0.60465,     0.60465,\n",
              "            0.60465,     0.60465,     0.60465,     0.60465,     0.60465,     0.60465,     0.60465,     0.60465,     0.60465,     0.59551,     0.59551,     0.59551,     0.59551,     0.59551,     0.59551,     0.59551,     0.59551,     0.59551,     0.59551,     0.56842,     0.56842,     0.56842,     0.56842,\n",
              "            0.56842,     0.56842,     0.56842,     0.56842,     0.56842,     0.56842,     0.53922,     0.53922,     0.53922,     0.53922,     0.53922,     0.53922,     0.53922,     0.53922,     0.53922,     0.53922,     0.51852,     0.51852,     0.51852,     0.51852,     0.51852,     0.51852,     0.51852,\n",
              "            0.51852,     0.51852,     0.51351,     0.51351,     0.51351,     0.51351,     0.51351,     0.51351,     0.51351,     0.51351,     0.51351,     0.51351,     0.47581,     0.47581,     0.47581,     0.47581,     0.47581,     0.47581,     0.47581,     0.47581,     0.47581,     0.47581,     0.47581,\n",
              "            0.47581,     0.47581,     0.47581,     0.47581,     0.47581,     0.47581,     0.47581,     0.47581,     0.47581,     0.43796,     0.43796,     0.43796,     0.43796,     0.43796,     0.43796,     0.43796,     0.43796,     0.43796,     0.43796,     0.43537,     0.43537,     0.43537,     0.43537,\n",
              "            0.43537,     0.43537,     0.43537,     0.43537,     0.43537,     0.43537,     0.43537,     0.43537,     0.43537,     0.43537,     0.43537,     0.43537,     0.43537,     0.43537,     0.43537,     0.43537,     0.43537,     0.43537,     0.43537,     0.43537,     0.43537,     0.43537,     0.43537,\n",
              "            0.43537,     0.43537,     0.43537,     0.43537,     0.43537,     0.43537,     0.43537,     0.43537,     0.43537,     0.43537,     0.43537,     0.43537,     0.43537,     0.43046,     0.43046,     0.43046,     0.43046,     0.43046,     0.43046,     0.43046,     0.43046,     0.43046,     0.35106,\n",
              "            0.35106,     0.35106,     0.35106,     0.35106,     0.35106,     0.35106,     0.35106,     0.35106,     0.35106,     0.34896,     0.34896,     0.34896,     0.34896,     0.34896,     0.34896,     0.34896,     0.34896,     0.34896,     0.34896,     0.26136,     0.26136,     0.26136,     0.26136,\n",
              "            0.26136,     0.26136,     0.26136,     0.26136,     0.26136,     0.26136,     0.26136,     0.26136,     0.26136,     0.26136,     0.26136,     0.26136,     0.26136,     0.26136,     0.26136,     0.26136,     0.23411,     0.23411,     0.23411,     0.23411,     0.23411,     0.23411,     0.23411,\n",
              "            0.23411,     0.23411,     0.23411,     0.23052,     0.23052,     0.23052,     0.23052,     0.23052,     0.23052,     0.23052,     0.23052,     0.23052,     0.23052,     0.17866,     0.17866,     0.17866,     0.17866,     0.17866,     0.17866,     0.17866,     0.17866,     0.17866,     0.17866,\n",
              "            0.14202,     0.14202,     0.14202,     0.14202,     0.14202,     0.14202,     0.14202,     0.14202,     0.14202,     0.14202,     0.11244,     0.11203,     0.11163,     0.11122,     0.11081,      0.1104,        0.11,     0.10959,     0.10918,     0.10877,     0.10837,     0.10796,     0.10755,\n",
              "            0.10715,     0.10674,     0.10633,     0.10592,     0.10552,     0.10511,      0.1047,     0.10429,     0.10389,     0.10348,     0.10307,     0.10266,     0.10226,     0.10185,     0.10144,     0.10103,     0.10063,     0.10022,    0.099812,    0.099405,    0.098997,     0.09859,    0.098182,\n",
              "           0.097775,    0.097368,     0.09696,    0.096553,    0.096145,    0.095738,    0.095331,    0.094923,    0.094516,    0.094108,    0.093701,    0.093294,    0.092886,    0.092479,    0.092071,    0.091664,    0.091257,    0.090849,    0.090442,    0.090034,    0.089627,     0.08922,    0.088812,\n",
              "           0.088405,    0.087997,     0.08759,    0.087183,    0.086775,    0.086368,     0.08596,    0.085553,    0.085146,    0.084738,    0.084331,    0.083924,    0.083516,    0.083109,    0.082701,    0.082294,    0.081887,    0.081479,    0.081072,    0.080664,    0.080257,     0.07985,    0.079442,\n",
              "           0.079035,    0.078627,     0.07822,    0.077813,    0.077405,    0.076998,     0.07659,    0.076183,    0.075776,    0.075368,    0.074961,    0.074553,    0.074146,    0.073739,    0.073331,    0.072924,    0.072516,    0.072109,    0.071702,    0.071294,    0.070887,    0.070479,    0.070072,\n",
              "           0.069665,    0.069257,     0.06885,    0.068442,    0.068035,    0.067628,     0.06722,    0.066813,    0.066405,    0.065998,    0.065591,    0.065183,    0.064776,    0.064369,    0.063961,    0.063554,    0.063146,    0.062739,    0.062332,    0.061924,    0.061517,    0.061109,    0.060702,\n",
              "           0.060295,    0.059887,     0.05948,    0.059072,    0.058665,    0.058258,     0.05785,    0.057443,    0.057035,    0.056628,    0.056221,    0.055813,    0.055406,    0.054998,    0.054591,    0.054184,    0.053776,    0.053369,    0.052961,    0.052554,    0.052147,    0.051739,    0.051332,\n",
              "           0.050924,    0.050517,     0.05011,    0.049702,    0.049295,    0.048887,     0.04848,    0.048073,    0.047665,    0.047258,    0.046851,    0.046443,    0.046036,    0.045628,    0.045221,    0.044814,    0.044406,    0.043999,    0.043591,    0.043184,    0.042777,    0.042369,    0.041962,\n",
              "           0.041554,    0.041147,     0.04074,    0.040332,    0.039925,    0.039517,     0.03911,    0.038703,    0.038295,    0.037888,     0.03748,    0.037073,    0.036666,    0.036258,    0.035851,    0.035443,    0.035036,    0.034629,    0.034221,    0.033814,    0.033406,    0.032999,    0.032592,\n",
              "           0.032184,    0.031777,    0.031369,    0.030962,    0.030555,    0.030147,     0.02974,    0.029332,    0.028925,    0.028518,     0.02811,    0.027703,    0.027296,    0.026888,    0.026481,    0.026073,    0.025666,    0.025259,    0.024851,    0.024444,    0.024036,    0.023629,    0.023222,\n",
              "           0.022814,    0.022407,    0.021999,    0.021592,    0.021185,    0.020777,     0.02037,    0.019962,    0.019555,    0.019148,     0.01874,    0.018333,    0.017925,    0.017518,    0.017111,    0.016703,    0.016296,    0.015888,    0.015481,    0.015074,    0.014666,    0.014259,    0.013851,\n",
              "           0.013444,    0.013037,    0.012629,    0.012222,    0.011814,    0.011407,       0.011,    0.010592,    0.010185,   0.0097775,   0.0093701,   0.0089627,   0.0085553,   0.0081479,   0.0077405,   0.0073331,   0.0069257,   0.0065183,   0.0061109,   0.0057035,   0.0052961,   0.0048887,   0.0044814,\n",
              "           0.004074,   0.0036666,   0.0032592,   0.0028518,   0.0024444,    0.002037,   0.0016296,   0.0012222,  0.00081479,   0.0004074,           0]]), 'Recall', 'Precision'], [array([          0,    0.001001,    0.002002,    0.003003,    0.004004,    0.005005,    0.006006,    0.007007,    0.008008,    0.009009,     0.01001,    0.011011,    0.012012,    0.013013,    0.014014,    0.015015,    0.016016,    0.017017,    0.018018,    0.019019,     0.02002,    0.021021,    0.022022,    0.023023,\n",
              "          0.024024,    0.025025,    0.026026,    0.027027,    0.028028,    0.029029,     0.03003,    0.031031,    0.032032,    0.033033,    0.034034,    0.035035,    0.036036,    0.037037,    0.038038,    0.039039,     0.04004,    0.041041,    0.042042,    0.043043,    0.044044,    0.045045,    0.046046,    0.047047,\n",
              "          0.048048,    0.049049,     0.05005,    0.051051,    0.052052,    0.053053,    0.054054,    0.055055,    0.056056,    0.057057,    0.058058,    0.059059,     0.06006,    0.061061,    0.062062,    0.063063,    0.064064,    0.065065,    0.066066,    0.067067,    0.068068,    0.069069,     0.07007,    0.071071,\n",
              "          0.072072,    0.073073,    0.074074,    0.075075,    0.076076,    0.077077,    0.078078,    0.079079,     0.08008,    0.081081,    0.082082,    0.083083,    0.084084,    0.085085,    0.086086,    0.087087,    0.088088,    0.089089,     0.09009,    0.091091,    0.092092,    0.093093,    0.094094,    0.095095,\n",
              "          0.096096,    0.097097,    0.098098,    0.099099,      0.1001,      0.1011,      0.1021,      0.1031,      0.1041,     0.10511,     0.10611,     0.10711,     0.10811,     0.10911,     0.11011,     0.11111,     0.11211,     0.11311,     0.11411,     0.11512,     0.11612,     0.11712,     0.11812,     0.11912,\n",
              "           0.12012,     0.12112,     0.12212,     0.12312,     0.12412,     0.12513,     0.12613,     0.12713,     0.12813,     0.12913,     0.13013,     0.13113,     0.13213,     0.13313,     0.13413,     0.13514,     0.13614,     0.13714,     0.13814,     0.13914,     0.14014,     0.14114,     0.14214,     0.14314,\n",
              "           0.14414,     0.14515,     0.14615,     0.14715,     0.14815,     0.14915,     0.15015,     0.15115,     0.15215,     0.15315,     0.15415,     0.15516,     0.15616,     0.15716,     0.15816,     0.15916,     0.16016,     0.16116,     0.16216,     0.16316,     0.16416,     0.16517,     0.16617,     0.16717,\n",
              "           0.16817,     0.16917,     0.17017,     0.17117,     0.17217,     0.17317,     0.17417,     0.17518,     0.17618,     0.17718,     0.17818,     0.17918,     0.18018,     0.18118,     0.18218,     0.18318,     0.18418,     0.18519,     0.18619,     0.18719,     0.18819,     0.18919,     0.19019,     0.19119,\n",
              "           0.19219,     0.19319,     0.19419,      0.1952,      0.1962,      0.1972,      0.1982,      0.1992,      0.2002,      0.2012,      0.2022,      0.2032,      0.2042,     0.20521,     0.20621,     0.20721,     0.20821,     0.20921,     0.21021,     0.21121,     0.21221,     0.21321,     0.21421,     0.21522,\n",
              "           0.21622,     0.21722,     0.21822,     0.21922,     0.22022,     0.22122,     0.22222,     0.22322,     0.22422,     0.22523,     0.22623,     0.22723,     0.22823,     0.22923,     0.23023,     0.23123,     0.23223,     0.23323,     0.23423,     0.23524,     0.23624,     0.23724,     0.23824,     0.23924,\n",
              "           0.24024,     0.24124,     0.24224,     0.24324,     0.24424,     0.24525,     0.24625,     0.24725,     0.24825,     0.24925,     0.25025,     0.25125,     0.25225,     0.25325,     0.25425,     0.25526,     0.25626,     0.25726,     0.25826,     0.25926,     0.26026,     0.26126,     0.26226,     0.26326,\n",
              "           0.26426,     0.26527,     0.26627,     0.26727,     0.26827,     0.26927,     0.27027,     0.27127,     0.27227,     0.27327,     0.27427,     0.27528,     0.27628,     0.27728,     0.27828,     0.27928,     0.28028,     0.28128,     0.28228,     0.28328,     0.28428,     0.28529,     0.28629,     0.28729,\n",
              "           0.28829,     0.28929,     0.29029,     0.29129,     0.29229,     0.29329,     0.29429,      0.2953,      0.2963,      0.2973,      0.2983,      0.2993,      0.3003,      0.3013,      0.3023,      0.3033,      0.3043,     0.30531,     0.30631,     0.30731,     0.30831,     0.30931,     0.31031,     0.31131,\n",
              "           0.31231,     0.31331,     0.31431,     0.31532,     0.31632,     0.31732,     0.31832,     0.31932,     0.32032,     0.32132,     0.32232,     0.32332,     0.32432,     0.32533,     0.32633,     0.32733,     0.32833,     0.32933,     0.33033,     0.33133,     0.33233,     0.33333,     0.33433,     0.33534,\n",
              "           0.33634,     0.33734,     0.33834,     0.33934,     0.34034,     0.34134,     0.34234,     0.34334,     0.34434,     0.34535,     0.34635,     0.34735,     0.34835,     0.34935,     0.35035,     0.35135,     0.35235,     0.35335,     0.35435,     0.35536,     0.35636,     0.35736,     0.35836,     0.35936,\n",
              "           0.36036,     0.36136,     0.36236,     0.36336,     0.36436,     0.36537,     0.36637,     0.36737,     0.36837,     0.36937,     0.37037,     0.37137,     0.37237,     0.37337,     0.37437,     0.37538,     0.37638,     0.37738,     0.37838,     0.37938,     0.38038,     0.38138,     0.38238,     0.38338,\n",
              "           0.38438,     0.38539,     0.38639,     0.38739,     0.38839,     0.38939,     0.39039,     0.39139,     0.39239,     0.39339,     0.39439,      0.3954,      0.3964,      0.3974,      0.3984,      0.3994,      0.4004,      0.4014,      0.4024,      0.4034,      0.4044,     0.40541,     0.40641,     0.40741,\n",
              "           0.40841,     0.40941,     0.41041,     0.41141,     0.41241,     0.41341,     0.41441,     0.41542,     0.41642,     0.41742,     0.41842,     0.41942,     0.42042,     0.42142,     0.42242,     0.42342,     0.42442,     0.42543,     0.42643,     0.42743,     0.42843,     0.42943,     0.43043,     0.43143,\n",
              "           0.43243,     0.43343,     0.43443,     0.43544,     0.43644,     0.43744,     0.43844,     0.43944,     0.44044,     0.44144,     0.44244,     0.44344,     0.44444,     0.44545,     0.44645,     0.44745,     0.44845,     0.44945,     0.45045,     0.45145,     0.45245,     0.45345,     0.45445,     0.45546,\n",
              "           0.45646,     0.45746,     0.45846,     0.45946,     0.46046,     0.46146,     0.46246,     0.46346,     0.46446,     0.46547,     0.46647,     0.46747,     0.46847,     0.46947,     0.47047,     0.47147,     0.47247,     0.47347,     0.47447,     0.47548,     0.47648,     0.47748,     0.47848,     0.47948,\n",
              "           0.48048,     0.48148,     0.48248,     0.48348,     0.48448,     0.48549,     0.48649,     0.48749,     0.48849,     0.48949,     0.49049,     0.49149,     0.49249,     0.49349,     0.49449,      0.4955,      0.4965,      0.4975,      0.4985,      0.4995,      0.5005,      0.5015,      0.5025,      0.5035,\n",
              "            0.5045,     0.50551,     0.50651,     0.50751,     0.50851,     0.50951,     0.51051,     0.51151,     0.51251,     0.51351,     0.51451,     0.51552,     0.51652,     0.51752,     0.51852,     0.51952,     0.52052,     0.52152,     0.52252,     0.52352,     0.52452,     0.52553,     0.52653,     0.52753,\n",
              "           0.52853,     0.52953,     0.53053,     0.53153,     0.53253,     0.53353,     0.53453,     0.53554,     0.53654,     0.53754,     0.53854,     0.53954,     0.54054,     0.54154,     0.54254,     0.54354,     0.54454,     0.54555,     0.54655,     0.54755,     0.54855,     0.54955,     0.55055,     0.55155,\n",
              "           0.55255,     0.55355,     0.55455,     0.55556,     0.55656,     0.55756,     0.55856,     0.55956,     0.56056,     0.56156,     0.56256,     0.56356,     0.56456,     0.56557,     0.56657,     0.56757,     0.56857,     0.56957,     0.57057,     0.57157,     0.57257,     0.57357,     0.57457,     0.57558,\n",
              "           0.57658,     0.57758,     0.57858,     0.57958,     0.58058,     0.58158,     0.58258,     0.58358,     0.58458,     0.58559,     0.58659,     0.58759,     0.58859,     0.58959,     0.59059,     0.59159,     0.59259,     0.59359,     0.59459,      0.5956,      0.5966,      0.5976,      0.5986,      0.5996,\n",
              "            0.6006,      0.6016,      0.6026,      0.6036,      0.6046,     0.60561,     0.60661,     0.60761,     0.60861,     0.60961,     0.61061,     0.61161,     0.61261,     0.61361,     0.61461,     0.61562,     0.61662,     0.61762,     0.61862,     0.61962,     0.62062,     0.62162,     0.62262,     0.62362,\n",
              "           0.62462,     0.62563,     0.62663,     0.62763,     0.62863,     0.62963,     0.63063,     0.63163,     0.63263,     0.63363,     0.63463,     0.63564,     0.63664,     0.63764,     0.63864,     0.63964,     0.64064,     0.64164,     0.64264,     0.64364,     0.64464,     0.64565,     0.64665,     0.64765,\n",
              "           0.64865,     0.64965,     0.65065,     0.65165,     0.65265,     0.65365,     0.65465,     0.65566,     0.65666,     0.65766,     0.65866,     0.65966,     0.66066,     0.66166,     0.66266,     0.66366,     0.66466,     0.66567,     0.66667,     0.66767,     0.66867,     0.66967,     0.67067,     0.67167,\n",
              "           0.67267,     0.67367,     0.67467,     0.67568,     0.67668,     0.67768,     0.67868,     0.67968,     0.68068,     0.68168,     0.68268,     0.68368,     0.68468,     0.68569,     0.68669,     0.68769,     0.68869,     0.68969,     0.69069,     0.69169,     0.69269,     0.69369,     0.69469,      0.6957,\n",
              "            0.6967,      0.6977,      0.6987,      0.6997,      0.7007,      0.7017,      0.7027,      0.7037,      0.7047,     0.70571,     0.70671,     0.70771,     0.70871,     0.70971,     0.71071,     0.71171,     0.71271,     0.71371,     0.71471,     0.71572,     0.71672,     0.71772,     0.71872,     0.71972,\n",
              "           0.72072,     0.72172,     0.72272,     0.72372,     0.72472,     0.72573,     0.72673,     0.72773,     0.72873,     0.72973,     0.73073,     0.73173,     0.73273,     0.73373,     0.73473,     0.73574,     0.73674,     0.73774,     0.73874,     0.73974,     0.74074,     0.74174,     0.74274,     0.74374,\n",
              "           0.74474,     0.74575,     0.74675,     0.74775,     0.74875,     0.74975,     0.75075,     0.75175,     0.75275,     0.75375,     0.75475,     0.75576,     0.75676,     0.75776,     0.75876,     0.75976,     0.76076,     0.76176,     0.76276,     0.76376,     0.76476,     0.76577,     0.76677,     0.76777,\n",
              "           0.76877,     0.76977,     0.77077,     0.77177,     0.77277,     0.77377,     0.77477,     0.77578,     0.77678,     0.77778,     0.77878,     0.77978,     0.78078,     0.78178,     0.78278,     0.78378,     0.78478,     0.78579,     0.78679,     0.78779,     0.78879,     0.78979,     0.79079,     0.79179,\n",
              "           0.79279,     0.79379,     0.79479,      0.7958,      0.7968,      0.7978,      0.7988,      0.7998,      0.8008,      0.8018,      0.8028,      0.8038,      0.8048,     0.80581,     0.80681,     0.80781,     0.80881,     0.80981,     0.81081,     0.81181,     0.81281,     0.81381,     0.81481,     0.81582,\n",
              "           0.81682,     0.81782,     0.81882,     0.81982,     0.82082,     0.82182,     0.82282,     0.82382,     0.82482,     0.82583,     0.82683,     0.82783,     0.82883,     0.82983,     0.83083,     0.83183,     0.83283,     0.83383,     0.83483,     0.83584,     0.83684,     0.83784,     0.83884,     0.83984,\n",
              "           0.84084,     0.84184,     0.84284,     0.84384,     0.84484,     0.84585,     0.84685,     0.84785,     0.84885,     0.84985,     0.85085,     0.85185,     0.85285,     0.85385,     0.85485,     0.85586,     0.85686,     0.85786,     0.85886,     0.85986,     0.86086,     0.86186,     0.86286,     0.86386,\n",
              "           0.86486,     0.86587,     0.86687,     0.86787,     0.86887,     0.86987,     0.87087,     0.87187,     0.87287,     0.87387,     0.87487,     0.87588,     0.87688,     0.87788,     0.87888,     0.87988,     0.88088,     0.88188,     0.88288,     0.88388,     0.88488,     0.88589,     0.88689,     0.88789,\n",
              "           0.88889,     0.88989,     0.89089,     0.89189,     0.89289,     0.89389,     0.89489,      0.8959,      0.8969,      0.8979,      0.8989,      0.8999,      0.9009,      0.9019,      0.9029,      0.9039,      0.9049,     0.90591,     0.90691,     0.90791,     0.90891,     0.90991,     0.91091,     0.91191,\n",
              "           0.91291,     0.91391,     0.91491,     0.91592,     0.91692,     0.91792,     0.91892,     0.91992,     0.92092,     0.92192,     0.92292,     0.92392,     0.92492,     0.92593,     0.92693,     0.92793,     0.92893,     0.92993,     0.93093,     0.93193,     0.93293,     0.93393,     0.93493,     0.93594,\n",
              "           0.93694,     0.93794,     0.93894,     0.93994,     0.94094,     0.94194,     0.94294,     0.94394,     0.94494,     0.94595,     0.94695,     0.94795,     0.94895,     0.94995,     0.95095,     0.95195,     0.95295,     0.95395,     0.95495,     0.95596,     0.95696,     0.95796,     0.95896,     0.95996,\n",
              "           0.96096,     0.96196,     0.96296,     0.96396,     0.96496,     0.96597,     0.96697,     0.96797,     0.96897,     0.96997,     0.97097,     0.97197,     0.97297,     0.97397,     0.97497,     0.97598,     0.97698,     0.97798,     0.97898,     0.97998,     0.98098,     0.98198,     0.98298,     0.98398,\n",
              "           0.98498,     0.98599,     0.98699,     0.98799,     0.98899,     0.98999,     0.99099,     0.99199,     0.99299,     0.99399,     0.99499,       0.996,       0.997,       0.998,       0.999,           1]), array([[    0.19519,     0.19519,     0.26928,     0.31695,     0.34549,     0.35871,      0.3738,     0.40665,      0.4175,     0.42514,     0.43551,     0.45709,     0.45818,     0.47776,     0.49442,     0.50001,     0.51238,     0.50901,     0.50019,     0.50124,     0.49896,      0.5023,     0.50363,\n",
              "            0.50695,      0.5099,     0.51284,      0.5183,     0.52218,     0.52311,     0.52403,     0.51799,     0.51907,     0.51442,      0.5233,      0.5263,     0.52859,      0.5299,     0.53274,      0.5334,     0.53405,      0.5347,     0.53621,     0.53299,     0.53485,     0.53342,     0.53156,\n",
              "            0.53531,     0.53784,     0.53952,     0.54021,     0.54091,      0.5416,      0.5405,      0.5382,      0.5359,     0.53587,     0.53849,     0.54053,      0.5418,     0.54635,     0.54378,     0.54483,     0.54587,     0.54969,     0.55149,     0.55583,     0.55783,     0.55035,       0.556,\n",
              "            0.54625,     0.53855,     0.53304,     0.53463,     0.53592,     0.53684,     0.53775,      0.5396,     0.54395,     0.54537,     0.54643,     0.54749,     0.54844,      0.5494,     0.55034,     0.55087,     0.55128,     0.55168,     0.55208,     0.55248,     0.55288,     0.55328,     0.55345,\n",
              "            0.54569,     0.54919,     0.55081,     0.55452,     0.54826,     0.54824,     0.55293,     0.55201,      0.5511,     0.55018,     0.54926,     0.54835,     0.54743,     0.54651,     0.54559,     0.54467,     0.54049,     0.53379,     0.52867,     0.53118,     0.53282,     0.53381,     0.53449,\n",
              "            0.53518,     0.53586,     0.53654,     0.52789,     0.52819,     0.52849,     0.52879,     0.52909,     0.52939,     0.52969,     0.52999,     0.53029,     0.53059,     0.53096,      0.5322,     0.53342,     0.53427,     0.53455,     0.53484,     0.53512,      0.5354,     0.53568,     0.53596,\n",
              "            0.53624,     0.53651,     0.53679,     0.53707,     0.53735,     0.53674,     0.53503,     0.53332,     0.53161,     0.52989,     0.52835,     0.52903,      0.5297,     0.53037,     0.53103,     0.53157,     0.53063,     0.52969,     0.52874,     0.52779,     0.52685,      0.5259,     0.52495,\n",
              "              0.524,     0.52305,     0.52367,     0.52451,     0.52293,     0.52133,     0.51974,     0.51815,     0.51655,     0.50968,     0.50257,     0.49679,     0.49797,     0.49913,     0.50028,     0.50142,     0.50255,     0.50381,     0.50534,     0.50677,      0.5076,     0.50842,     0.50924,\n",
              "            0.51005,     0.50896,     0.50784,     0.50671,     0.50558,     0.50445,     0.50332,     0.50218,     0.50105,     0.50006,     0.50087,     0.50167,     0.50246,     0.50325,     0.50306,     0.50263,      0.5022,     0.50177,     0.50135,     0.50092,     0.50049,     0.50006,     0.49964,\n",
              "            0.49921,     0.49878,     0.49835,     0.49792,     0.49749,     0.49706,     0.49663,      0.4962,     0.49577,     0.49534,     0.49491,     0.49448,     0.49405,     0.49362,     0.49319,     0.49272,     0.49224,     0.49176,     0.49128,      0.4908,     0.49032,     0.48984,     0.48936,\n",
              "            0.48887,     0.48839,     0.48791,     0.48743,     0.48695,     0.48647,     0.48598,      0.4855,     0.48502,     0.48454,     0.48405,     0.48357,     0.48309,     0.48351,     0.48579,     0.47554,     0.47569,     0.47584,     0.47599,     0.47614,     0.47628,     0.47643,     0.47658,\n",
              "            0.47672,     0.47687,     0.47702,     0.47716,     0.47731,     0.47746,      0.4776,     0.47775,     0.47789,     0.47804,     0.47818,     0.47833,     0.47847,     0.47861,     0.47876,     0.47665,     0.46812,     0.46827,     0.46842,     0.46857,     0.46872,     0.46887,     0.46902,\n",
              "            0.46916,     0.46931,     0.46946,     0.46961,     0.46976,      0.4699,     0.47005,      0.4702,     0.47034,     0.47049,     0.47064,     0.47078,     0.47093,     0.47107,     0.47122,     0.47136,     0.47118,     0.47072,     0.47026,     0.46981,     0.46935,     0.46889,     0.46843,\n",
              "            0.46797,     0.46751,     0.46705,     0.46659,     0.46613,     0.46567,     0.46521,     0.46475,     0.46429,     0.46383,     0.46337,     0.46291,     0.46245,     0.46198,     0.46152,     0.46106,      0.4606,     0.45052,     0.45243,     0.45014,     0.44756,     0.44496,     0.44236,\n",
              "            0.43967,     0.43689,     0.43411,     0.43131,     0.42955,     0.42934,     0.42913,     0.42892,     0.42872,     0.42851,      0.4283,     0.42809,     0.42788,     0.42768,     0.42747,     0.42726,     0.42705,     0.42684,     0.42664,     0.42643,     0.42622,     0.42601,      0.4258,\n",
              "            0.42559,     0.42538,     0.42518,     0.42497,     0.42476,     0.42455,     0.42434,     0.42413,     0.42392,     0.42371,     0.42351,      0.4233,     0.42309,     0.42288,     0.42267,     0.42246,     0.42225,     0.42204,     0.42183,     0.42162,     0.42141,      0.4212,     0.42099,\n",
              "            0.42079,     0.42058,     0.42037,     0.42016,     0.41995,     0.41974,     0.41953,     0.41932,     0.41911,      0.4189,     0.41869,     0.41848,     0.41827,     0.41806,     0.41744,     0.41587,      0.4143,     0.41273,     0.41116,     0.40958,     0.40801,     0.40642,     0.40409,\n",
              "            0.40149,     0.39889,     0.39628,     0.39382,     0.39274,     0.39165,     0.39056,     0.38947,     0.38838,     0.38728,     0.38619,      0.3851,       0.384,      0.3829,      0.3818,     0.38049,     0.37916,     0.37782,     0.37648,     0.37513,     0.37379,     0.37244,     0.37109,\n",
              "            0.36974,     0.36823,     0.36662,       0.365,     0.36339,     0.36177,     0.36014,     0.35852,     0.35689,     0.35679,     0.35704,     0.35729,     0.35753,     0.35778,     0.35802,     0.35826,     0.35851,     0.35875,     0.35898,     0.35922,      0.3463,     0.34586,     0.34543,\n",
              "            0.34499,     0.34455,     0.34411,     0.34367,     0.34323,     0.34279,     0.34235,     0.34191,     0.34147,     0.34103,     0.34059,     0.34015,     0.33971,     0.33927,     0.33882,     0.33838,     0.33794,      0.3375,     0.33706,     0.33661,     0.33617,     0.33573,     0.33529,\n",
              "            0.33484,      0.3344,     0.33396,     0.33351,     0.33252,     0.33116,      0.3298,     0.32844,     0.32707,     0.32571,     0.32434,     0.32297,     0.32159,     0.32022,     0.31613,      0.3115,     0.30685,     0.27648,     0.27406,     0.27163,      0.2692,     0.26676,     0.26453,\n",
              "            0.26568,     0.26646,     0.26461,     0.26275,     0.26089,     0.25902,     0.25715,     0.25528,     0.25341,     0.25214,     0.25229,     0.25243,     0.25257,     0.25271,     0.25285,     0.25299,     0.25313,     0.25326,      0.2534,     0.25353,     0.25367,      0.2538,     0.25393,\n",
              "            0.25407,      0.2542,     0.25273,     0.25055,     0.24837,     0.24619,       0.244,     0.24181,     0.23961,     0.23829,      0.2371,     0.23591,     0.23471,     0.23352,     0.23232,     0.23113,     0.22993,     0.22873,     0.22753,     0.22633,     0.22512,     0.22393,     0.22281,\n",
              "            0.22168,     0.22056,     0.21943,      0.2183,     0.21717,     0.21604,     0.21491,     0.21378,     0.21265,     0.21151,     0.21037,     0.20924,     0.20805,     0.20682,     0.20558,     0.20435,     0.20312,     0.20188,     0.20064,      0.1994,     0.19816,     0.19692,     0.19567,\n",
              "            0.19443,     0.19318,      0.1861,     0.17789,      0.1772,     0.17742,     0.17765,     0.17786,     0.17807,     0.17828,     0.17849,     0.17751,     0.17565,     0.17379,     0.17192,     0.17005,     0.16818,     0.16631,     0.16443,     0.16255,     0.15946,     0.15605,     0.15262,\n",
              "            0.14919,     0.14574,     0.14378,     0.14196,     0.14013,      0.1383,     0.13646,     0.13462,     0.13278,     0.13094,     0.12909,     0.12826,     0.12799,     0.12772,     0.12745,     0.12718,     0.12691,     0.12664,     0.12636,     0.12609,     0.12582,     0.12555,     0.12528,\n",
              "            0.12501,     0.12473,     0.12446,     0.12419,     0.12392,     0.12364,     0.12337,      0.1231,     0.12283,     0.12256,     0.12228,     0.12201,     0.12174,     0.12146,     0.12119,     0.12092,     0.12065,     0.12037,      0.1201,     0.11983,     0.11955,     0.11928,     0.11901,\n",
              "            0.11873,     0.11846,     0.11819,     0.11791,     0.11764,     0.11736,     0.11709,     0.11682,     0.11654,     0.11627,     0.11599,     0.11572,     0.11544,     0.11517,      0.1149,     0.11462,     0.11435,     0.11407,      0.1138,     0.11352,     0.11325,     0.11297,      0.1127,\n",
              "            0.11242,     0.11215,     0.11187,      0.1116,     0.11132,     0.11034,     0.10707,     0.10379,      0.1005,      0.0972,     0.09389,    0.093658,    0.093871,    0.094068,     0.09425,     0.09139,    0.085208,    0.078986,    0.075729,    0.074894,    0.074057,     0.07322,    0.072383,\n",
              "           0.071544,    0.070705,    0.069866,    0.069025,    0.068184,    0.067342,    0.066499,    0.065655,    0.064811,    0.063966,    0.063121,    0.062274,    0.061427,    0.060579,     0.05973,    0.058881,    0.058031,    0.057483,    0.057135,    0.056786,    0.056438,    0.056089,     0.05574,\n",
              "           0.055392,    0.055043,    0.054694,    0.054344,    0.053995,    0.053646,    0.053296,    0.052946,    0.052597,    0.052247,    0.051897,    0.051546,    0.051196,    0.050846,    0.050495,    0.050144,    0.049793,    0.049442,    0.049091,     0.04874,    0.048389,    0.048037,    0.047686,\n",
              "           0.047334,    0.046982,     0.04663,    0.046278,    0.045926,    0.045574,    0.045221,    0.044868,    0.044516,    0.044163,     0.04381,    0.043457,    0.043103,     0.04275,    0.042397,    0.042043,    0.041689,    0.041335,    0.040981,    0.040627,    0.040273,    0.039918,    0.039564,\n",
              "           0.039209,    0.038855,    0.038152,    0.037428,    0.036704,    0.035979,    0.035254,    0.034528,    0.033802,    0.033075,    0.032348,     0.03162,    0.030891,    0.030162,    0.029433,    0.028703,    0.027972,    0.027241,    0.026509,    0.025777,    0.025044,    0.024311,    0.023577,\n",
              "           0.022843,    0.022108,    0.021372,    0.020636,      0.0199,           0,           0,           0,           0,           0,           0,           0,           0,           0,           0,           0,           0,           0,           0,           0,           0,           0,           0,\n",
              "                  0,           0,           0,           0,           0,           0,           0,           0,           0,           0,           0,           0,           0,           0,           0,           0,           0,           0,           0,           0,           0,           0,           0,\n",
              "                  0,           0,           0,           0,           0,           0,           0,           0,           0,           0,           0,           0,           0,           0,           0,           0,           0,           0,           0,           0,           0,           0,           0,\n",
              "                  0,           0,           0,           0,           0,           0,           0,           0,           0,           0,           0,           0,           0,           0,           0,           0,           0,           0,           0,           0,           0,           0,           0,\n",
              "                  0,           0,           0,           0,           0,           0,           0,           0,           0,           0,           0,           0,           0,           0,           0,           0,           0,           0,           0,           0,           0,           0,           0,\n",
              "                  0,           0,           0,           0,           0,           0,           0,           0,           0,           0,           0,           0,           0,           0,           0,           0,           0,           0,           0,           0,           0,           0,           0,\n",
              "                  0,           0,           0,           0,           0,           0,           0,           0,           0,           0,           0,           0,           0,           0,           0,           0,           0,           0,           0,           0,           0,           0,           0,\n",
              "                  0,           0,           0,           0,           0,           0,           0,           0,           0,           0,           0,           0,           0,           0,           0,           0,           0,           0,           0,           0,           0,           0,           0,\n",
              "                  0,           0,           0,           0,           0,           0,           0,           0,           0,           0,           0,           0,           0,           0,           0,           0,           0,           0,           0,           0,           0,           0,           0,\n",
              "                  0,           0,           0,           0,           0,           0,           0,           0,           0,           0,           0,           0,           0,           0,           0,           0,           0,           0,           0,           0,           0,           0,           0,\n",
              "                  0,           0,           0,           0,           0,           0,           0,           0,           0,           0,           0]]), 'Confidence', 'F1'], [array([          0,    0.001001,    0.002002,    0.003003,    0.004004,    0.005005,    0.006006,    0.007007,    0.008008,    0.009009,     0.01001,    0.011011,    0.012012,    0.013013,    0.014014,    0.015015,    0.016016,    0.017017,    0.018018,    0.019019,     0.02002,    0.021021,    0.022022,    0.023023,\n",
              "          0.024024,    0.025025,    0.026026,    0.027027,    0.028028,    0.029029,     0.03003,    0.031031,    0.032032,    0.033033,    0.034034,    0.035035,    0.036036,    0.037037,    0.038038,    0.039039,     0.04004,    0.041041,    0.042042,    0.043043,    0.044044,    0.045045,    0.046046,    0.047047,\n",
              "          0.048048,    0.049049,     0.05005,    0.051051,    0.052052,    0.053053,    0.054054,    0.055055,    0.056056,    0.057057,    0.058058,    0.059059,     0.06006,    0.061061,    0.062062,    0.063063,    0.064064,    0.065065,    0.066066,    0.067067,    0.068068,    0.069069,     0.07007,    0.071071,\n",
              "          0.072072,    0.073073,    0.074074,    0.075075,    0.076076,    0.077077,    0.078078,    0.079079,     0.08008,    0.081081,    0.082082,    0.083083,    0.084084,    0.085085,    0.086086,    0.087087,    0.088088,    0.089089,     0.09009,    0.091091,    0.092092,    0.093093,    0.094094,    0.095095,\n",
              "          0.096096,    0.097097,    0.098098,    0.099099,      0.1001,      0.1011,      0.1021,      0.1031,      0.1041,     0.10511,     0.10611,     0.10711,     0.10811,     0.10911,     0.11011,     0.11111,     0.11211,     0.11311,     0.11411,     0.11512,     0.11612,     0.11712,     0.11812,     0.11912,\n",
              "           0.12012,     0.12112,     0.12212,     0.12312,     0.12412,     0.12513,     0.12613,     0.12713,     0.12813,     0.12913,     0.13013,     0.13113,     0.13213,     0.13313,     0.13413,     0.13514,     0.13614,     0.13714,     0.13814,     0.13914,     0.14014,     0.14114,     0.14214,     0.14314,\n",
              "           0.14414,     0.14515,     0.14615,     0.14715,     0.14815,     0.14915,     0.15015,     0.15115,     0.15215,     0.15315,     0.15415,     0.15516,     0.15616,     0.15716,     0.15816,     0.15916,     0.16016,     0.16116,     0.16216,     0.16316,     0.16416,     0.16517,     0.16617,     0.16717,\n",
              "           0.16817,     0.16917,     0.17017,     0.17117,     0.17217,     0.17317,     0.17417,     0.17518,     0.17618,     0.17718,     0.17818,     0.17918,     0.18018,     0.18118,     0.18218,     0.18318,     0.18418,     0.18519,     0.18619,     0.18719,     0.18819,     0.18919,     0.19019,     0.19119,\n",
              "           0.19219,     0.19319,     0.19419,      0.1952,      0.1962,      0.1972,      0.1982,      0.1992,      0.2002,      0.2012,      0.2022,      0.2032,      0.2042,     0.20521,     0.20621,     0.20721,     0.20821,     0.20921,     0.21021,     0.21121,     0.21221,     0.21321,     0.21421,     0.21522,\n",
              "           0.21622,     0.21722,     0.21822,     0.21922,     0.22022,     0.22122,     0.22222,     0.22322,     0.22422,     0.22523,     0.22623,     0.22723,     0.22823,     0.22923,     0.23023,     0.23123,     0.23223,     0.23323,     0.23423,     0.23524,     0.23624,     0.23724,     0.23824,     0.23924,\n",
              "           0.24024,     0.24124,     0.24224,     0.24324,     0.24424,     0.24525,     0.24625,     0.24725,     0.24825,     0.24925,     0.25025,     0.25125,     0.25225,     0.25325,     0.25425,     0.25526,     0.25626,     0.25726,     0.25826,     0.25926,     0.26026,     0.26126,     0.26226,     0.26326,\n",
              "           0.26426,     0.26527,     0.26627,     0.26727,     0.26827,     0.26927,     0.27027,     0.27127,     0.27227,     0.27327,     0.27427,     0.27528,     0.27628,     0.27728,     0.27828,     0.27928,     0.28028,     0.28128,     0.28228,     0.28328,     0.28428,     0.28529,     0.28629,     0.28729,\n",
              "           0.28829,     0.28929,     0.29029,     0.29129,     0.29229,     0.29329,     0.29429,      0.2953,      0.2963,      0.2973,      0.2983,      0.2993,      0.3003,      0.3013,      0.3023,      0.3033,      0.3043,     0.30531,     0.30631,     0.30731,     0.30831,     0.30931,     0.31031,     0.31131,\n",
              "           0.31231,     0.31331,     0.31431,     0.31532,     0.31632,     0.31732,     0.31832,     0.31932,     0.32032,     0.32132,     0.32232,     0.32332,     0.32432,     0.32533,     0.32633,     0.32733,     0.32833,     0.32933,     0.33033,     0.33133,     0.33233,     0.33333,     0.33433,     0.33534,\n",
              "           0.33634,     0.33734,     0.33834,     0.33934,     0.34034,     0.34134,     0.34234,     0.34334,     0.34434,     0.34535,     0.34635,     0.34735,     0.34835,     0.34935,     0.35035,     0.35135,     0.35235,     0.35335,     0.35435,     0.35536,     0.35636,     0.35736,     0.35836,     0.35936,\n",
              "           0.36036,     0.36136,     0.36236,     0.36336,     0.36436,     0.36537,     0.36637,     0.36737,     0.36837,     0.36937,     0.37037,     0.37137,     0.37237,     0.37337,     0.37437,     0.37538,     0.37638,     0.37738,     0.37838,     0.37938,     0.38038,     0.38138,     0.38238,     0.38338,\n",
              "           0.38438,     0.38539,     0.38639,     0.38739,     0.38839,     0.38939,     0.39039,     0.39139,     0.39239,     0.39339,     0.39439,      0.3954,      0.3964,      0.3974,      0.3984,      0.3994,      0.4004,      0.4014,      0.4024,      0.4034,      0.4044,     0.40541,     0.40641,     0.40741,\n",
              "           0.40841,     0.40941,     0.41041,     0.41141,     0.41241,     0.41341,     0.41441,     0.41542,     0.41642,     0.41742,     0.41842,     0.41942,     0.42042,     0.42142,     0.42242,     0.42342,     0.42442,     0.42543,     0.42643,     0.42743,     0.42843,     0.42943,     0.43043,     0.43143,\n",
              "           0.43243,     0.43343,     0.43443,     0.43544,     0.43644,     0.43744,     0.43844,     0.43944,     0.44044,     0.44144,     0.44244,     0.44344,     0.44444,     0.44545,     0.44645,     0.44745,     0.44845,     0.44945,     0.45045,     0.45145,     0.45245,     0.45345,     0.45445,     0.45546,\n",
              "           0.45646,     0.45746,     0.45846,     0.45946,     0.46046,     0.46146,     0.46246,     0.46346,     0.46446,     0.46547,     0.46647,     0.46747,     0.46847,     0.46947,     0.47047,     0.47147,     0.47247,     0.47347,     0.47447,     0.47548,     0.47648,     0.47748,     0.47848,     0.47948,\n",
              "           0.48048,     0.48148,     0.48248,     0.48348,     0.48448,     0.48549,     0.48649,     0.48749,     0.48849,     0.48949,     0.49049,     0.49149,     0.49249,     0.49349,     0.49449,      0.4955,      0.4965,      0.4975,      0.4985,      0.4995,      0.5005,      0.5015,      0.5025,      0.5035,\n",
              "            0.5045,     0.50551,     0.50651,     0.50751,     0.50851,     0.50951,     0.51051,     0.51151,     0.51251,     0.51351,     0.51451,     0.51552,     0.51652,     0.51752,     0.51852,     0.51952,     0.52052,     0.52152,     0.52252,     0.52352,     0.52452,     0.52553,     0.52653,     0.52753,\n",
              "           0.52853,     0.52953,     0.53053,     0.53153,     0.53253,     0.53353,     0.53453,     0.53554,     0.53654,     0.53754,     0.53854,     0.53954,     0.54054,     0.54154,     0.54254,     0.54354,     0.54454,     0.54555,     0.54655,     0.54755,     0.54855,     0.54955,     0.55055,     0.55155,\n",
              "           0.55255,     0.55355,     0.55455,     0.55556,     0.55656,     0.55756,     0.55856,     0.55956,     0.56056,     0.56156,     0.56256,     0.56356,     0.56456,     0.56557,     0.56657,     0.56757,     0.56857,     0.56957,     0.57057,     0.57157,     0.57257,     0.57357,     0.57457,     0.57558,\n",
              "           0.57658,     0.57758,     0.57858,     0.57958,     0.58058,     0.58158,     0.58258,     0.58358,     0.58458,     0.58559,     0.58659,     0.58759,     0.58859,     0.58959,     0.59059,     0.59159,     0.59259,     0.59359,     0.59459,      0.5956,      0.5966,      0.5976,      0.5986,      0.5996,\n",
              "            0.6006,      0.6016,      0.6026,      0.6036,      0.6046,     0.60561,     0.60661,     0.60761,     0.60861,     0.60961,     0.61061,     0.61161,     0.61261,     0.61361,     0.61461,     0.61562,     0.61662,     0.61762,     0.61862,     0.61962,     0.62062,     0.62162,     0.62262,     0.62362,\n",
              "           0.62462,     0.62563,     0.62663,     0.62763,     0.62863,     0.62963,     0.63063,     0.63163,     0.63263,     0.63363,     0.63463,     0.63564,     0.63664,     0.63764,     0.63864,     0.63964,     0.64064,     0.64164,     0.64264,     0.64364,     0.64464,     0.64565,     0.64665,     0.64765,\n",
              "           0.64865,     0.64965,     0.65065,     0.65165,     0.65265,     0.65365,     0.65465,     0.65566,     0.65666,     0.65766,     0.65866,     0.65966,     0.66066,     0.66166,     0.66266,     0.66366,     0.66466,     0.66567,     0.66667,     0.66767,     0.66867,     0.66967,     0.67067,     0.67167,\n",
              "           0.67267,     0.67367,     0.67467,     0.67568,     0.67668,     0.67768,     0.67868,     0.67968,     0.68068,     0.68168,     0.68268,     0.68368,     0.68468,     0.68569,     0.68669,     0.68769,     0.68869,     0.68969,     0.69069,     0.69169,     0.69269,     0.69369,     0.69469,      0.6957,\n",
              "            0.6967,      0.6977,      0.6987,      0.6997,      0.7007,      0.7017,      0.7027,      0.7037,      0.7047,     0.70571,     0.70671,     0.70771,     0.70871,     0.70971,     0.71071,     0.71171,     0.71271,     0.71371,     0.71471,     0.71572,     0.71672,     0.71772,     0.71872,     0.71972,\n",
              "           0.72072,     0.72172,     0.72272,     0.72372,     0.72472,     0.72573,     0.72673,     0.72773,     0.72873,     0.72973,     0.73073,     0.73173,     0.73273,     0.73373,     0.73473,     0.73574,     0.73674,     0.73774,     0.73874,     0.73974,     0.74074,     0.74174,     0.74274,     0.74374,\n",
              "           0.74474,     0.74575,     0.74675,     0.74775,     0.74875,     0.74975,     0.75075,     0.75175,     0.75275,     0.75375,     0.75475,     0.75576,     0.75676,     0.75776,     0.75876,     0.75976,     0.76076,     0.76176,     0.76276,     0.76376,     0.76476,     0.76577,     0.76677,     0.76777,\n",
              "           0.76877,     0.76977,     0.77077,     0.77177,     0.77277,     0.77377,     0.77477,     0.77578,     0.77678,     0.77778,     0.77878,     0.77978,     0.78078,     0.78178,     0.78278,     0.78378,     0.78478,     0.78579,     0.78679,     0.78779,     0.78879,     0.78979,     0.79079,     0.79179,\n",
              "           0.79279,     0.79379,     0.79479,      0.7958,      0.7968,      0.7978,      0.7988,      0.7998,      0.8008,      0.8018,      0.8028,      0.8038,      0.8048,     0.80581,     0.80681,     0.80781,     0.80881,     0.80981,     0.81081,     0.81181,     0.81281,     0.81381,     0.81481,     0.81582,\n",
              "           0.81682,     0.81782,     0.81882,     0.81982,     0.82082,     0.82182,     0.82282,     0.82382,     0.82482,     0.82583,     0.82683,     0.82783,     0.82883,     0.82983,     0.83083,     0.83183,     0.83283,     0.83383,     0.83483,     0.83584,     0.83684,     0.83784,     0.83884,     0.83984,\n",
              "           0.84084,     0.84184,     0.84284,     0.84384,     0.84484,     0.84585,     0.84685,     0.84785,     0.84885,     0.84985,     0.85085,     0.85185,     0.85285,     0.85385,     0.85485,     0.85586,     0.85686,     0.85786,     0.85886,     0.85986,     0.86086,     0.86186,     0.86286,     0.86386,\n",
              "           0.86486,     0.86587,     0.86687,     0.86787,     0.86887,     0.86987,     0.87087,     0.87187,     0.87287,     0.87387,     0.87487,     0.87588,     0.87688,     0.87788,     0.87888,     0.87988,     0.88088,     0.88188,     0.88288,     0.88388,     0.88488,     0.88589,     0.88689,     0.88789,\n",
              "           0.88889,     0.88989,     0.89089,     0.89189,     0.89289,     0.89389,     0.89489,      0.8959,      0.8969,      0.8979,      0.8989,      0.8999,      0.9009,      0.9019,      0.9029,      0.9039,      0.9049,     0.90591,     0.90691,     0.90791,     0.90891,     0.90991,     0.91091,     0.91191,\n",
              "           0.91291,     0.91391,     0.91491,     0.91592,     0.91692,     0.91792,     0.91892,     0.91992,     0.92092,     0.92192,     0.92292,     0.92392,     0.92492,     0.92593,     0.92693,     0.92793,     0.92893,     0.92993,     0.93093,     0.93193,     0.93293,     0.93393,     0.93493,     0.93594,\n",
              "           0.93694,     0.93794,     0.93894,     0.93994,     0.94094,     0.94194,     0.94294,     0.94394,     0.94494,     0.94595,     0.94695,     0.94795,     0.94895,     0.94995,     0.95095,     0.95195,     0.95295,     0.95395,     0.95495,     0.95596,     0.95696,     0.95796,     0.95896,     0.95996,\n",
              "           0.96096,     0.96196,     0.96296,     0.96396,     0.96496,     0.96597,     0.96697,     0.96797,     0.96897,     0.96997,     0.97097,     0.97197,     0.97297,     0.97397,     0.97497,     0.97598,     0.97698,     0.97798,     0.97898,     0.97998,     0.98098,     0.98198,     0.98298,     0.98398,\n",
              "           0.98498,     0.98599,     0.98699,     0.98799,     0.98899,     0.98999,     0.99099,     0.99199,     0.99299,     0.99399,     0.99499,       0.996,       0.997,       0.998,       0.999,           1]), array([[    0.11283,     0.11283,     0.16599,      0.2046,     0.22902,      0.2432,     0.26021,     0.29319,      0.3046,     0.31281,     0.32417,     0.34866,     0.35571,     0.37989,      0.4014,     0.40882,     0.42562,     0.43079,     0.42685,     0.43351,     0.43545,     0.44057,     0.44262,\n",
              "            0.44776,     0.45239,     0.45704,     0.46579,      0.4721,     0.47361,     0.47512,     0.47177,     0.47469,     0.47166,     0.48782,     0.49305,     0.49708,     0.49942,     0.50448,     0.50566,     0.50683,       0.508,     0.51254,     0.51312,     0.51658,     0.51694,     0.51917,\n",
              "            0.52638,     0.53129,     0.53458,     0.53594,     0.53731,     0.53867,     0.53835,     0.53689,     0.53544,     0.53709,     0.54238,     0.54654,     0.54915,     0.55856,     0.56425,     0.56651,     0.56877,     0.57712,     0.58111,     0.59083,     0.59535,     0.59096,     0.60456,\n",
              "             0.5987,     0.59401,     0.59142,     0.59536,     0.59857,     0.60085,     0.60313,     0.60782,     0.61896,     0.62266,     0.62544,     0.62821,     0.63073,     0.63326,     0.63578,      0.6372,     0.63828,     0.63936,     0.64044,     0.64152,      0.6426,     0.64368,     0.64461,\n",
              "            0.64066,     0.65038,     0.65493,     0.66645,     0.66295,     0.66706,     0.68115,     0.68065,     0.68015,     0.67964,     0.67914,     0.67864,     0.67814,     0.67763,     0.67713,     0.67663,      0.6743,     0.67055,     0.67222,     0.68038,      0.6858,     0.68907,     0.69137,\n",
              "            0.69366,     0.69596,     0.69825,     0.69452,     0.69557,     0.69662,     0.69766,     0.69871,     0.69976,     0.70081,     0.70186,      0.7029,     0.70395,     0.70525,     0.70963,     0.71401,     0.71707,     0.71808,      0.7191,     0.72012,     0.72113,     0.72215,     0.72316,\n",
              "            0.72418,      0.7252,     0.72621,     0.72723,     0.72825,     0.72843,     0.72756,     0.72669,     0.72581,     0.72494,     0.72433,     0.72687,     0.72941,     0.73196,      0.7345,     0.73681,     0.73633,     0.73585,     0.73538,      0.7349,     0.73443,     0.73395,     0.73348,\n",
              "              0.733,     0.73252,     0.73758,     0.74489,      0.7441,     0.74332,     0.74253,     0.74174,     0.74095,     0.73746,      0.7338,     0.73104,     0.73615,     0.74126,     0.74636,     0.75145,     0.75654,     0.76227,     0.76934,       0.776,      0.7799,      0.7838,     0.78769,\n",
              "            0.79159,     0.79118,     0.79068,     0.79018,     0.78968,     0.78919,     0.78869,     0.78819,     0.78769,     0.78755,     0.79156,     0.79557,     0.79958,     0.80358,      0.8042,     0.80402,     0.80384,     0.80365,     0.80347,     0.80329,     0.80311,     0.80293,     0.80275,\n",
              "            0.80256,     0.80238,      0.8022,     0.80202,     0.80184,     0.80165,     0.80147,     0.80129,     0.80111,     0.80093,     0.80074,     0.80056,     0.80038,      0.8002,     0.80002,     0.79981,      0.7996,     0.79939,     0.79918,     0.79897,     0.79876,     0.79855,     0.79833,\n",
              "            0.79812,     0.79791,      0.7977,     0.79749,     0.79728,     0.79707,     0.79686,     0.79665,     0.79644,     0.79623,     0.79602,     0.79581,      0.7956,     0.79954,     0.81218,     0.80963,      0.8105,     0.81136,     0.81222,     0.81308,     0.81394,      0.8148,     0.81566,\n",
              "            0.81652,     0.81738,     0.81825,     0.81911,     0.81997,     0.82083,     0.82169,     0.82255,     0.82341,     0.82427,     0.82514,       0.826,     0.82686,     0.82772,     0.82858,     0.82839,     0.82521,     0.82614,     0.82708,     0.82801,     0.82894,     0.82987,     0.83081,\n",
              "            0.83174,     0.83267,      0.8336,     0.83454,     0.83547,      0.8364,     0.83733,     0.83827,      0.8392,     0.84013,     0.84107,       0.842,     0.84293,     0.84386,      0.8448,     0.84573,     0.84606,     0.84589,     0.84572,     0.84555,     0.84538,     0.84521,     0.84505,\n",
              "            0.84488,     0.84471,     0.84454,     0.84437,      0.8442,     0.84403,     0.84386,     0.84369,     0.84352,     0.84335,     0.84318,     0.84301,     0.84284,     0.84267,      0.8425,     0.84234,     0.84217,     0.84659,     0.86022,     0.86027,     0.85936,     0.85846,     0.85755,\n",
              "            0.85659,     0.85558,     0.85456,     0.85355,     0.85291,     0.85283,     0.85275,     0.85267,     0.85259,     0.85251,     0.85243,     0.85235,     0.85227,     0.85219,     0.85212,     0.85204,     0.85196,     0.85188,      0.8518,     0.85172,     0.85164,     0.85156,     0.85148,\n",
              "             0.8514,     0.85132,     0.85124,     0.85116,     0.85108,       0.851,     0.85092,     0.85084,     0.85076,     0.85069,     0.85061,     0.85053,     0.85045,     0.85037,     0.85029,     0.85021,     0.85013,     0.85005,     0.84997,     0.84989,     0.84981,     0.84973,     0.84965,\n",
              "            0.84957,     0.84949,     0.84941,     0.84933,     0.84926,     0.84918,      0.8491,     0.84902,     0.84894,     0.84886,     0.84878,      0.8487,     0.84862,     0.84854,      0.8483,     0.84767,     0.84704,     0.84642,     0.84579,     0.84516,     0.84454,     0.84391,     0.84294,\n",
              "            0.84186,     0.84077,     0.83968,     0.83866,     0.83818,      0.8377,     0.83722,     0.83674,     0.83626,     0.83578,      0.8353,     0.83482,     0.83435,     0.83387,     0.83339,     0.83278,     0.83216,     0.83154,     0.83092,      0.8303,     0.82968,     0.82906,     0.82844,\n",
              "            0.82782,      0.8271,     0.82631,     0.82552,     0.82473,     0.82394,     0.82315,     0.82236,     0.82157,     0.82359,     0.82625,      0.8289,     0.83155,     0.83421,     0.83686,     0.83952,     0.84217,     0.84482,     0.84748,     0.85013,     0.84608,     0.84587,     0.84567,\n",
              "            0.84546,     0.84525,     0.84505,     0.84484,     0.84463,     0.84443,     0.84422,     0.84401,     0.84381,      0.8436,     0.84339,     0.84319,     0.84298,     0.84277,     0.84257,     0.84236,     0.84215,     0.84194,     0.84174,     0.84153,     0.84132,     0.84112,     0.84091,\n",
              "             0.8407,      0.8405,     0.84029,     0.84008,     0.83959,     0.83891,     0.83823,     0.83754,     0.83686,     0.83618,     0.83549,     0.83481,     0.83413,     0.83344,     0.83125,     0.82878,      0.8263,     0.80804,     0.80641,     0.80478,     0.80316,     0.80153,     0.80131,\n",
              "            0.82289,     0.84198,     0.84086,     0.83973,     0.83861,     0.83749,     0.83636,     0.83524,     0.83411,     0.83429,     0.83743,     0.84057,     0.84371,     0.84685,     0.84999,     0.85313,     0.85627,     0.85941,     0.86255,     0.86569,     0.86883,     0.87197,     0.87512,\n",
              "            0.87826,      0.8814,      0.8816,     0.88053,     0.87945,     0.87837,      0.8773,     0.87622,     0.87514,     0.87443,     0.87377,     0.87312,     0.87246,      0.8718,     0.87115,     0.87049,     0.86983,     0.86917,     0.86852,     0.86786,      0.8672,     0.86654,     0.86584,\n",
              "            0.86514,     0.86445,     0.86375,     0.86305,     0.86235,     0.86166,     0.86096,     0.86026,     0.85957,     0.85887,     0.85817,     0.85747,     0.85669,     0.85582,     0.85495,     0.85409,     0.85322,     0.85236,     0.85149,     0.85062,     0.84976,     0.84889,     0.84802,\n",
              "            0.84716,     0.84629,     0.84062,     0.83405,     0.84256,     0.85292,     0.86327,     0.87363,     0.88398,     0.89433,     0.90469,      0.9085,     0.90746,     0.90643,     0.90539,     0.90435,     0.90332,     0.90228,     0.90125,     0.90021,     0.89819,     0.89591,     0.89363,\n",
              "            0.89136,     0.88908,     0.88752,     0.88602,     0.88452,     0.88302,     0.88152,     0.88002,     0.87852,     0.87703,     0.87553,     0.87482,     0.87454,     0.87425,     0.87397,     0.87369,     0.87341,     0.87313,     0.87285,     0.87256,     0.87228,       0.872,     0.87172,\n",
              "            0.87144,     0.87116,     0.87087,     0.87059,     0.87031,     0.87003,     0.86975,     0.86947,     0.86919,      0.8689,     0.86862,     0.86834,     0.86806,     0.86778,      0.8675,     0.86721,     0.86693,     0.86665,     0.86637,     0.86609,     0.86581,     0.86552,     0.86524,\n",
              "            0.86496,     0.86468,      0.8644,     0.86412,     0.86383,     0.86355,     0.86327,     0.86299,     0.86271,     0.86243,     0.86215,     0.86186,     0.86158,      0.8613,     0.86102,     0.86074,     0.86046,     0.86017,     0.85989,     0.85961,     0.85933,     0.85905,     0.85877,\n",
              "            0.85848,      0.8582,     0.85792,     0.85764,     0.85736,      0.8561,     0.85166,     0.84722,     0.84279,     0.83835,     0.83391,     0.86635,     0.90431,     0.94228,     0.98024,           1,           1,           1,           1,           1,           1,           1,           1,\n",
              "                  1,           1,           1,           1,           1,           1,           1,           1,           1,           1,           1,           1,           1,           1,           1,           1,           1,           1,           1,           1,           1,           1,           1,\n",
              "                  1,           1,           1,           1,           1,           1,           1,           1,           1,           1,           1,           1,           1,           1,           1,           1,           1,           1,           1,           1,           1,           1,           1,\n",
              "                  1,           1,           1,           1,           1,           1,           1,           1,           1,           1,           1,           1,           1,           1,           1,           1,           1,           1,           1,           1,           1,           1,           1,\n",
              "                  1,           1,           1,           1,           1,           1,           1,           1,           1,           1,           1,           1,           1,           1,           1,           1,           1,           1,           1,           1,           1,           1,           1,\n",
              "                  1,           1,           1,           1,           1,           1,           1,           1,           1,           1,           1,           1,           1,           1,           1,           1,           1,           1,           1,           1,           1,           1,           1,\n",
              "                  1,           1,           1,           1,           1,           1,           1,           1,           1,           1,           1,           1,           1,           1,           1,           1,           1,           1,           1,           1,           1,           1,           1,\n",
              "                  1,           1,           1,           1,           1,           1,           1,           1,           1,           1,           1,           1,           1,           1,           1,           1,           1,           1,           1,           1,           1,           1,           1,\n",
              "                  1,           1,           1,           1,           1,           1,           1,           1,           1,           1,           1,           1,           1,           1,           1,           1,           1,           1,           1,           1,           1,           1,           1,\n",
              "                  1,           1,           1,           1,           1,           1,           1,           1,           1,           1,           1,           1,           1,           1,           1,           1,           1,           1,           1,           1,           1,           1,           1,\n",
              "                  1,           1,           1,           1,           1,           1,           1,           1,           1,           1,           1,           1,           1,           1,           1,           1,           1,           1,           1,           1,           1,           1,           1,\n",
              "                  1,           1,           1,           1,           1,           1,           1,           1,           1,           1,           1,           1,           1,           1,           1,           1,           1,           1,           1,           1,           1,           1,           1,\n",
              "                  1,           1,           1,           1,           1,           1,           1,           1,           1,           1,           1,           1,           1,           1,           1,           1,           1,           1,           1,           1,           1,           1,           1,\n",
              "                  1,           1,           1,           1,           1,           1,           1,           1,           1,           1,           1,           1,           1,           1,           1,           1,           1,           1,           1,           1,           1,           1,           1,\n",
              "                  1,           1,           1,           1,           1,           1,           1,           1,           1,           1,           1,           1,           1,           1,           1,           1,           1,           1,           1,           1,           1,           1,           1,\n",
              "                  1,           1,           1,           1,           1,           1,           1,           1,           1,           1,           1]]), 'Confidence', 'Precision'], [array([          0,    0.001001,    0.002002,    0.003003,    0.004004,    0.005005,    0.006006,    0.007007,    0.008008,    0.009009,     0.01001,    0.011011,    0.012012,    0.013013,    0.014014,    0.015015,    0.016016,    0.017017,    0.018018,    0.019019,     0.02002,    0.021021,    0.022022,    0.023023,\n",
              "          0.024024,    0.025025,    0.026026,    0.027027,    0.028028,    0.029029,     0.03003,    0.031031,    0.032032,    0.033033,    0.034034,    0.035035,    0.036036,    0.037037,    0.038038,    0.039039,     0.04004,    0.041041,    0.042042,    0.043043,    0.044044,    0.045045,    0.046046,    0.047047,\n",
              "          0.048048,    0.049049,     0.05005,    0.051051,    0.052052,    0.053053,    0.054054,    0.055055,    0.056056,    0.057057,    0.058058,    0.059059,     0.06006,    0.061061,    0.062062,    0.063063,    0.064064,    0.065065,    0.066066,    0.067067,    0.068068,    0.069069,     0.07007,    0.071071,\n",
              "          0.072072,    0.073073,    0.074074,    0.075075,    0.076076,    0.077077,    0.078078,    0.079079,     0.08008,    0.081081,    0.082082,    0.083083,    0.084084,    0.085085,    0.086086,    0.087087,    0.088088,    0.089089,     0.09009,    0.091091,    0.092092,    0.093093,    0.094094,    0.095095,\n",
              "          0.096096,    0.097097,    0.098098,    0.099099,      0.1001,      0.1011,      0.1021,      0.1031,      0.1041,     0.10511,     0.10611,     0.10711,     0.10811,     0.10911,     0.11011,     0.11111,     0.11211,     0.11311,     0.11411,     0.11512,     0.11612,     0.11712,     0.11812,     0.11912,\n",
              "           0.12012,     0.12112,     0.12212,     0.12312,     0.12412,     0.12513,     0.12613,     0.12713,     0.12813,     0.12913,     0.13013,     0.13113,     0.13213,     0.13313,     0.13413,     0.13514,     0.13614,     0.13714,     0.13814,     0.13914,     0.14014,     0.14114,     0.14214,     0.14314,\n",
              "           0.14414,     0.14515,     0.14615,     0.14715,     0.14815,     0.14915,     0.15015,     0.15115,     0.15215,     0.15315,     0.15415,     0.15516,     0.15616,     0.15716,     0.15816,     0.15916,     0.16016,     0.16116,     0.16216,     0.16316,     0.16416,     0.16517,     0.16617,     0.16717,\n",
              "           0.16817,     0.16917,     0.17017,     0.17117,     0.17217,     0.17317,     0.17417,     0.17518,     0.17618,     0.17718,     0.17818,     0.17918,     0.18018,     0.18118,     0.18218,     0.18318,     0.18418,     0.18519,     0.18619,     0.18719,     0.18819,     0.18919,     0.19019,     0.19119,\n",
              "           0.19219,     0.19319,     0.19419,      0.1952,      0.1962,      0.1972,      0.1982,      0.1992,      0.2002,      0.2012,      0.2022,      0.2032,      0.2042,     0.20521,     0.20621,     0.20721,     0.20821,     0.20921,     0.21021,     0.21121,     0.21221,     0.21321,     0.21421,     0.21522,\n",
              "           0.21622,     0.21722,     0.21822,     0.21922,     0.22022,     0.22122,     0.22222,     0.22322,     0.22422,     0.22523,     0.22623,     0.22723,     0.22823,     0.22923,     0.23023,     0.23123,     0.23223,     0.23323,     0.23423,     0.23524,     0.23624,     0.23724,     0.23824,     0.23924,\n",
              "           0.24024,     0.24124,     0.24224,     0.24324,     0.24424,     0.24525,     0.24625,     0.24725,     0.24825,     0.24925,     0.25025,     0.25125,     0.25225,     0.25325,     0.25425,     0.25526,     0.25626,     0.25726,     0.25826,     0.25926,     0.26026,     0.26126,     0.26226,     0.26326,\n",
              "           0.26426,     0.26527,     0.26627,     0.26727,     0.26827,     0.26927,     0.27027,     0.27127,     0.27227,     0.27327,     0.27427,     0.27528,     0.27628,     0.27728,     0.27828,     0.27928,     0.28028,     0.28128,     0.28228,     0.28328,     0.28428,     0.28529,     0.28629,     0.28729,\n",
              "           0.28829,     0.28929,     0.29029,     0.29129,     0.29229,     0.29329,     0.29429,      0.2953,      0.2963,      0.2973,      0.2983,      0.2993,      0.3003,      0.3013,      0.3023,      0.3033,      0.3043,     0.30531,     0.30631,     0.30731,     0.30831,     0.30931,     0.31031,     0.31131,\n",
              "           0.31231,     0.31331,     0.31431,     0.31532,     0.31632,     0.31732,     0.31832,     0.31932,     0.32032,     0.32132,     0.32232,     0.32332,     0.32432,     0.32533,     0.32633,     0.32733,     0.32833,     0.32933,     0.33033,     0.33133,     0.33233,     0.33333,     0.33433,     0.33534,\n",
              "           0.33634,     0.33734,     0.33834,     0.33934,     0.34034,     0.34134,     0.34234,     0.34334,     0.34434,     0.34535,     0.34635,     0.34735,     0.34835,     0.34935,     0.35035,     0.35135,     0.35235,     0.35335,     0.35435,     0.35536,     0.35636,     0.35736,     0.35836,     0.35936,\n",
              "           0.36036,     0.36136,     0.36236,     0.36336,     0.36436,     0.36537,     0.36637,     0.36737,     0.36837,     0.36937,     0.37037,     0.37137,     0.37237,     0.37337,     0.37437,     0.37538,     0.37638,     0.37738,     0.37838,     0.37938,     0.38038,     0.38138,     0.38238,     0.38338,\n",
              "           0.38438,     0.38539,     0.38639,     0.38739,     0.38839,     0.38939,     0.39039,     0.39139,     0.39239,     0.39339,     0.39439,      0.3954,      0.3964,      0.3974,      0.3984,      0.3994,      0.4004,      0.4014,      0.4024,      0.4034,      0.4044,     0.40541,     0.40641,     0.40741,\n",
              "           0.40841,     0.40941,     0.41041,     0.41141,     0.41241,     0.41341,     0.41441,     0.41542,     0.41642,     0.41742,     0.41842,     0.41942,     0.42042,     0.42142,     0.42242,     0.42342,     0.42442,     0.42543,     0.42643,     0.42743,     0.42843,     0.42943,     0.43043,     0.43143,\n",
              "           0.43243,     0.43343,     0.43443,     0.43544,     0.43644,     0.43744,     0.43844,     0.43944,     0.44044,     0.44144,     0.44244,     0.44344,     0.44444,     0.44545,     0.44645,     0.44745,     0.44845,     0.44945,     0.45045,     0.45145,     0.45245,     0.45345,     0.45445,     0.45546,\n",
              "           0.45646,     0.45746,     0.45846,     0.45946,     0.46046,     0.46146,     0.46246,     0.46346,     0.46446,     0.46547,     0.46647,     0.46747,     0.46847,     0.46947,     0.47047,     0.47147,     0.47247,     0.47347,     0.47447,     0.47548,     0.47648,     0.47748,     0.47848,     0.47948,\n",
              "           0.48048,     0.48148,     0.48248,     0.48348,     0.48448,     0.48549,     0.48649,     0.48749,     0.48849,     0.48949,     0.49049,     0.49149,     0.49249,     0.49349,     0.49449,      0.4955,      0.4965,      0.4975,      0.4985,      0.4995,      0.5005,      0.5015,      0.5025,      0.5035,\n",
              "            0.5045,     0.50551,     0.50651,     0.50751,     0.50851,     0.50951,     0.51051,     0.51151,     0.51251,     0.51351,     0.51451,     0.51552,     0.51652,     0.51752,     0.51852,     0.51952,     0.52052,     0.52152,     0.52252,     0.52352,     0.52452,     0.52553,     0.52653,     0.52753,\n",
              "           0.52853,     0.52953,     0.53053,     0.53153,     0.53253,     0.53353,     0.53453,     0.53554,     0.53654,     0.53754,     0.53854,     0.53954,     0.54054,     0.54154,     0.54254,     0.54354,     0.54454,     0.54555,     0.54655,     0.54755,     0.54855,     0.54955,     0.55055,     0.55155,\n",
              "           0.55255,     0.55355,     0.55455,     0.55556,     0.55656,     0.55756,     0.55856,     0.55956,     0.56056,     0.56156,     0.56256,     0.56356,     0.56456,     0.56557,     0.56657,     0.56757,     0.56857,     0.56957,     0.57057,     0.57157,     0.57257,     0.57357,     0.57457,     0.57558,\n",
              "           0.57658,     0.57758,     0.57858,     0.57958,     0.58058,     0.58158,     0.58258,     0.58358,     0.58458,     0.58559,     0.58659,     0.58759,     0.58859,     0.58959,     0.59059,     0.59159,     0.59259,     0.59359,     0.59459,      0.5956,      0.5966,      0.5976,      0.5986,      0.5996,\n",
              "            0.6006,      0.6016,      0.6026,      0.6036,      0.6046,     0.60561,     0.60661,     0.60761,     0.60861,     0.60961,     0.61061,     0.61161,     0.61261,     0.61361,     0.61461,     0.61562,     0.61662,     0.61762,     0.61862,     0.61962,     0.62062,     0.62162,     0.62262,     0.62362,\n",
              "           0.62462,     0.62563,     0.62663,     0.62763,     0.62863,     0.62963,     0.63063,     0.63163,     0.63263,     0.63363,     0.63463,     0.63564,     0.63664,     0.63764,     0.63864,     0.63964,     0.64064,     0.64164,     0.64264,     0.64364,     0.64464,     0.64565,     0.64665,     0.64765,\n",
              "           0.64865,     0.64965,     0.65065,     0.65165,     0.65265,     0.65365,     0.65465,     0.65566,     0.65666,     0.65766,     0.65866,     0.65966,     0.66066,     0.66166,     0.66266,     0.66366,     0.66466,     0.66567,     0.66667,     0.66767,     0.66867,     0.66967,     0.67067,     0.67167,\n",
              "           0.67267,     0.67367,     0.67467,     0.67568,     0.67668,     0.67768,     0.67868,     0.67968,     0.68068,     0.68168,     0.68268,     0.68368,     0.68468,     0.68569,     0.68669,     0.68769,     0.68869,     0.68969,     0.69069,     0.69169,     0.69269,     0.69369,     0.69469,      0.6957,\n",
              "            0.6967,      0.6977,      0.6987,      0.6997,      0.7007,      0.7017,      0.7027,      0.7037,      0.7047,     0.70571,     0.70671,     0.70771,     0.70871,     0.70971,     0.71071,     0.71171,     0.71271,     0.71371,     0.71471,     0.71572,     0.71672,     0.71772,     0.71872,     0.71972,\n",
              "           0.72072,     0.72172,     0.72272,     0.72372,     0.72472,     0.72573,     0.72673,     0.72773,     0.72873,     0.72973,     0.73073,     0.73173,     0.73273,     0.73373,     0.73473,     0.73574,     0.73674,     0.73774,     0.73874,     0.73974,     0.74074,     0.74174,     0.74274,     0.74374,\n",
              "           0.74474,     0.74575,     0.74675,     0.74775,     0.74875,     0.74975,     0.75075,     0.75175,     0.75275,     0.75375,     0.75475,     0.75576,     0.75676,     0.75776,     0.75876,     0.75976,     0.76076,     0.76176,     0.76276,     0.76376,     0.76476,     0.76577,     0.76677,     0.76777,\n",
              "           0.76877,     0.76977,     0.77077,     0.77177,     0.77277,     0.77377,     0.77477,     0.77578,     0.77678,     0.77778,     0.77878,     0.77978,     0.78078,     0.78178,     0.78278,     0.78378,     0.78478,     0.78579,     0.78679,     0.78779,     0.78879,     0.78979,     0.79079,     0.79179,\n",
              "           0.79279,     0.79379,     0.79479,      0.7958,      0.7968,      0.7978,      0.7988,      0.7998,      0.8008,      0.8018,      0.8028,      0.8038,      0.8048,     0.80581,     0.80681,     0.80781,     0.80881,     0.80981,     0.81081,     0.81181,     0.81281,     0.81381,     0.81481,     0.81582,\n",
              "           0.81682,     0.81782,     0.81882,     0.81982,     0.82082,     0.82182,     0.82282,     0.82382,     0.82482,     0.82583,     0.82683,     0.82783,     0.82883,     0.82983,     0.83083,     0.83183,     0.83283,     0.83383,     0.83483,     0.83584,     0.83684,     0.83784,     0.83884,     0.83984,\n",
              "           0.84084,     0.84184,     0.84284,     0.84384,     0.84484,     0.84585,     0.84685,     0.84785,     0.84885,     0.84985,     0.85085,     0.85185,     0.85285,     0.85385,     0.85485,     0.85586,     0.85686,     0.85786,     0.85886,     0.85986,     0.86086,     0.86186,     0.86286,     0.86386,\n",
              "           0.86486,     0.86587,     0.86687,     0.86787,     0.86887,     0.86987,     0.87087,     0.87187,     0.87287,     0.87387,     0.87487,     0.87588,     0.87688,     0.87788,     0.87888,     0.87988,     0.88088,     0.88188,     0.88288,     0.88388,     0.88488,     0.88589,     0.88689,     0.88789,\n",
              "           0.88889,     0.88989,     0.89089,     0.89189,     0.89289,     0.89389,     0.89489,      0.8959,      0.8969,      0.8979,      0.8989,      0.8999,      0.9009,      0.9019,      0.9029,      0.9039,      0.9049,     0.90591,     0.90691,     0.90791,     0.90891,     0.90991,     0.91091,     0.91191,\n",
              "           0.91291,     0.91391,     0.91491,     0.91592,     0.91692,     0.91792,     0.91892,     0.91992,     0.92092,     0.92192,     0.92292,     0.92392,     0.92492,     0.92593,     0.92693,     0.92793,     0.92893,     0.92993,     0.93093,     0.93193,     0.93293,     0.93393,     0.93493,     0.93594,\n",
              "           0.93694,     0.93794,     0.93894,     0.93994,     0.94094,     0.94194,     0.94294,     0.94394,     0.94494,     0.94595,     0.94695,     0.94795,     0.94895,     0.94995,     0.95095,     0.95195,     0.95295,     0.95395,     0.95495,     0.95596,     0.95696,     0.95796,     0.95896,     0.95996,\n",
              "           0.96096,     0.96196,     0.96296,     0.96396,     0.96496,     0.96597,     0.96697,     0.96797,     0.96897,     0.96997,     0.97097,     0.97197,     0.97297,     0.97397,     0.97497,     0.97598,     0.97698,     0.97798,     0.97898,     0.97998,     0.98098,     0.98198,     0.98298,     0.98398,\n",
              "           0.98498,     0.98599,     0.98699,     0.98799,     0.98899,     0.98999,     0.99099,     0.99199,     0.99299,     0.99399,     0.99499,       0.996,       0.997,       0.998,       0.999,           1]), array([[    0.72277,     0.72277,     0.71287,     0.70297,     0.70297,     0.68317,     0.66337,     0.66337,     0.66337,     0.66337,     0.66337,     0.66337,     0.64356,     0.64356,     0.64356,     0.64356,     0.64356,     0.62195,     0.60396,     0.59406,     0.58416,     0.58416,     0.58416,\n",
              "            0.58416,     0.58416,     0.58416,     0.58416,     0.58416,     0.58416,     0.58416,     0.57426,     0.57261,      0.5657,     0.56436,     0.56436,     0.56436,     0.56436,     0.56436,     0.56436,     0.56436,     0.56436,     0.56217,     0.55446,     0.55446,     0.55098,     0.54455,\n",
              "            0.54455,     0.54455,     0.54455,     0.54455,     0.54455,     0.54455,     0.54267,     0.53951,     0.53636,     0.53465,     0.53465,     0.53465,     0.53465,     0.53465,     0.52475,     0.52475,     0.52475,     0.52475,     0.52475,     0.52475,     0.52475,     0.51496,     0.51466,\n",
              "            0.50226,     0.49256,     0.48515,     0.48515,     0.48515,     0.48515,     0.48515,     0.48515,     0.48515,     0.48515,     0.48515,     0.48515,     0.48515,     0.48515,     0.48515,     0.48515,     0.48515,     0.48515,     0.48515,     0.48515,     0.48515,     0.48515,     0.48488,\n",
              "            0.47525,     0.47525,     0.47525,     0.47478,      0.4674,     0.46535,     0.46533,     0.46427,     0.46321,     0.46215,     0.46109,     0.46002,     0.45896,      0.4579,     0.45684,     0.45578,     0.45099,     0.44336,     0.43564,     0.43564,     0.43564,     0.43564,     0.43564,\n",
              "            0.43564,     0.43564,     0.43564,     0.42574,     0.42574,     0.42574,     0.42574,     0.42574,     0.42574,     0.42574,     0.42574,     0.42574,     0.42574,     0.42574,     0.42574,     0.42574,     0.42574,     0.42574,     0.42574,     0.42574,     0.42574,     0.42574,     0.42574,\n",
              "            0.42574,     0.42574,     0.42574,     0.42574,     0.42574,     0.42493,     0.42308,     0.42124,     0.41939,     0.41755,     0.41584,     0.41584,     0.41584,     0.41584,     0.41584,     0.41576,     0.41476,     0.41376,     0.41276,     0.41176,     0.41075,     0.40975,     0.40875,\n",
              "            0.40775,     0.40674,     0.40594,     0.40476,     0.40311,     0.40145,     0.39979,     0.39813,     0.39648,      0.3894,     0.38215,     0.37624,     0.37624,     0.37624,     0.37624,     0.37624,     0.37624,     0.37624,     0.37624,     0.37624,     0.37624,     0.37624,     0.37624,\n",
              "            0.37624,     0.37515,     0.37404,     0.37292,     0.37181,      0.3707,     0.36959,     0.36847,     0.36736,     0.36634,     0.36634,     0.36634,     0.36634,     0.36634,       0.366,     0.36559,     0.36517,     0.36476,     0.36434,     0.36393,     0.36352,      0.3631,     0.36269,\n",
              "            0.36227,     0.36186,     0.36144,     0.36103,     0.36062,      0.3602,     0.35979,     0.35937,     0.35896,     0.35854,     0.35813,     0.35772,      0.3573,     0.35689,     0.35647,     0.35602,     0.35556,      0.3551,     0.35464,     0.35418,     0.35373,     0.35327,     0.35281,\n",
              "            0.35235,     0.35189,     0.35143,     0.35097,     0.35051,     0.35006,      0.3496,     0.34914,     0.34868,     0.34822,     0.34776,      0.3473,     0.34685,     0.34653,     0.34653,     0.33663,     0.33663,     0.33663,     0.33663,     0.33663,     0.33663,     0.33663,     0.33663,\n",
              "            0.33663,     0.33663,     0.33663,     0.33663,     0.33663,     0.33663,     0.33663,     0.33663,     0.33663,     0.33663,     0.33663,     0.33663,     0.33663,     0.33663,     0.33663,     0.33459,     0.32673,     0.32673,     0.32673,     0.32673,     0.32673,     0.32673,     0.32673,\n",
              "            0.32673,     0.32673,     0.32673,     0.32673,     0.32673,     0.32673,     0.32673,     0.32673,     0.32673,     0.32673,     0.32673,     0.32673,     0.32673,     0.32673,     0.32673,     0.32673,     0.32651,     0.32609,     0.32568,     0.32526,     0.32485,     0.32444,     0.32402,\n",
              "            0.32361,     0.32319,     0.32278,     0.32237,     0.32195,     0.32154,     0.32112,     0.32071,     0.32029,     0.31988,     0.31947,     0.31905,     0.31864,     0.31822,     0.31781,     0.31739,     0.31698,     0.30693,     0.30693,     0.30482,     0.30257,     0.30031,     0.29806,\n",
              "            0.29573,     0.29334,     0.29095,     0.28857,     0.28706,     0.28688,     0.28671,     0.28653,     0.28635,     0.28618,       0.286,     0.28582,     0.28565,     0.28547,     0.28529,     0.28512,     0.28494,     0.28476,     0.28459,     0.28441,     0.28423,     0.28406,     0.28388,\n",
              "             0.2837,     0.28353,     0.28335,     0.28318,       0.283,     0.28282,     0.28265,     0.28247,     0.28229,     0.28212,     0.28194,     0.28176,     0.28159,     0.28141,     0.28123,     0.28106,     0.28088,      0.2807,     0.28053,     0.28035,     0.28017,        0.28,     0.27982,\n",
              "            0.27965,     0.27947,     0.27929,     0.27912,     0.27894,     0.27876,     0.27859,     0.27841,     0.27823,     0.27806,     0.27788,      0.2777,     0.27753,     0.27735,     0.27683,     0.27552,     0.27421,      0.2729,     0.27159,     0.27028,     0.26898,     0.26767,     0.26574,\n",
              "            0.26361,     0.26147,     0.25933,     0.25733,     0.25645,     0.25557,     0.25468,      0.2538,     0.25292,     0.25204,     0.25115,     0.25027,     0.24939,     0.24851,     0.24762,     0.24658,     0.24551,     0.24444,     0.24337,      0.2423,     0.24123,     0.24017,      0.2391,\n",
              "            0.23803,     0.23684,     0.23557,      0.2343,     0.23303,     0.23176,     0.23049,     0.22923,     0.22796,     0.22772,     0.22772,     0.22772,     0.22772,     0.22772,     0.22772,     0.22772,     0.22772,     0.22772,     0.22772,     0.22772,      0.2177,     0.21737,     0.21704,\n",
              "            0.21671,     0.21637,     0.21604,     0.21571,     0.21538,     0.21504,     0.21471,     0.21438,     0.21404,     0.21371,     0.21338,     0.21305,     0.21271,     0.21238,     0.21205,     0.21172,     0.21138,     0.21105,     0.21072,     0.21038,     0.21005,     0.20972,     0.20939,\n",
              "            0.20905,     0.20872,     0.20839,     0.20805,     0.20732,      0.2063,     0.20529,     0.20427,     0.20326,     0.20224,     0.20123,     0.20021,      0.1992,     0.19818,     0.19518,     0.19179,     0.18841,     0.16677,     0.16508,     0.16339,      0.1617,        0.16,     0.15842,\n",
              "            0.15842,     0.15828,     0.15701,     0.15574,     0.15447,      0.1532,     0.15193,     0.15067,      0.1494,     0.14851,     0.14851,     0.14851,     0.14851,     0.14851,     0.14851,     0.14851,     0.14851,     0.14851,     0.14851,     0.14851,     0.14851,     0.14851,     0.14851,\n",
              "            0.14851,     0.14851,     0.14751,     0.14606,     0.14461,     0.14316,     0.14171,     0.14026,     0.13881,     0.13794,     0.13716,     0.13638,      0.1356,     0.13481,     0.13403,     0.13325,     0.13247,     0.13169,     0.13091,     0.13013,     0.12935,     0.12858,     0.12785,\n",
              "            0.12713,     0.12641,     0.12568,     0.12496,     0.12423,     0.12351,     0.12278,     0.12206,     0.12133,     0.12061,     0.11988,     0.11916,      0.1184,     0.11762,     0.11684,     0.11606,     0.11528,      0.1145,     0.11372,     0.11294,     0.11216,     0.11138,     0.11059,\n",
              "            0.10981,     0.10903,     0.10463,     0.09956,     0.09901,     0.09901,     0.09901,     0.09901,     0.09901,     0.09901,     0.09901,    0.098362,    0.097234,    0.096107,    0.094979,    0.093851,    0.092724,    0.091596,    0.090468,    0.089341,    0.087496,    0.085467,    0.083437,\n",
              "           0.081407,    0.079377,    0.078229,    0.077161,    0.076092,    0.075024,    0.073956,    0.072887,    0.071819,    0.070751,    0.069683,    0.069206,     0.06905,    0.068893,    0.068737,    0.068581,    0.068425,    0.068269,    0.068113,    0.067957,      0.0678,    0.067644,    0.067488,\n",
              "           0.067332,    0.067176,     0.06702,    0.066864,    0.066708,    0.066551,    0.066395,    0.066239,    0.066083,    0.065927,    0.065771,    0.065615,    0.065458,    0.065302,    0.065146,     0.06499,    0.064834,    0.064678,    0.064522,    0.064366,    0.064209,    0.064053,    0.063897,\n",
              "           0.063741,    0.063585,    0.063429,    0.063273,    0.063116,     0.06296,    0.062804,    0.062648,    0.062492,    0.062336,     0.06218,    0.062023,    0.061867,    0.061711,    0.061555,    0.061399,    0.061243,    0.061087,    0.060931,    0.060774,    0.060618,    0.060462,    0.060306,\n",
              "            0.06015,    0.059994,    0.059838,    0.059681,    0.059525,    0.058972,    0.057126,    0.055281,    0.053436,    0.051591,    0.049746,    0.049505,    0.049505,    0.049505,    0.049505,    0.047883,      0.0445,    0.041117,    0.039355,    0.038904,    0.038453,    0.038001,     0.03755,\n",
              "           0.037099,    0.036648,    0.036197,    0.035746,    0.035295,    0.034844,    0.034393,    0.033942,    0.033491,     0.03304,    0.032589,    0.032138,    0.031687,    0.031236,    0.030785,    0.030334,    0.029882,    0.029592,    0.029407,    0.029223,    0.029038,    0.028854,    0.028669,\n",
              "           0.028485,      0.0283,    0.028116,    0.027931,    0.027747,    0.027562,    0.027378,    0.027193,    0.027009,    0.026824,     0.02664,    0.026455,     0.02627,    0.026086,    0.025901,    0.025717,    0.025532,    0.025348,    0.025163,    0.024979,    0.024794,     0.02461,    0.024425,\n",
              "           0.024241,    0.024056,    0.023872,    0.023687,    0.023503,    0.023318,    0.023134,    0.022949,    0.022765,     0.02258,    0.022395,    0.022211,    0.022026,    0.021842,    0.021657,    0.021473,    0.021288,    0.021104,    0.020919,    0.020735,     0.02055,    0.020366,    0.020181,\n",
              "           0.019997,    0.019812,    0.019447,    0.019071,    0.018695,    0.018319,    0.017943,    0.017567,    0.017192,    0.016816,     0.01644,    0.016064,    0.015688,    0.015312,    0.014936,     0.01456,    0.014185,    0.013809,    0.013433,    0.013057,    0.012681,    0.012305,    0.011929,\n",
              "           0.011553,    0.011177,    0.010802,    0.010426,     0.01005,           0,           0,           0,           0,           0,           0,           0,           0,           0,           0,           0,           0,           0,           0,           0,           0,           0,           0,\n",
              "                  0,           0,           0,           0,           0,           0,           0,           0,           0,           0,           0,           0,           0,           0,           0,           0,           0,           0,           0,           0,           0,           0,           0,\n",
              "                  0,           0,           0,           0,           0,           0,           0,           0,           0,           0,           0,           0,           0,           0,           0,           0,           0,           0,           0,           0,           0,           0,           0,\n",
              "                  0,           0,           0,           0,           0,           0,           0,           0,           0,           0,           0,           0,           0,           0,           0,           0,           0,           0,           0,           0,           0,           0,           0,\n",
              "                  0,           0,           0,           0,           0,           0,           0,           0,           0,           0,           0,           0,           0,           0,           0,           0,           0,           0,           0,           0,           0,           0,           0,\n",
              "                  0,           0,           0,           0,           0,           0,           0,           0,           0,           0,           0,           0,           0,           0,           0,           0,           0,           0,           0,           0,           0,           0,           0,\n",
              "                  0,           0,           0,           0,           0,           0,           0,           0,           0,           0,           0,           0,           0,           0,           0,           0,           0,           0,           0,           0,           0,           0,           0,\n",
              "                  0,           0,           0,           0,           0,           0,           0,           0,           0,           0,           0,           0,           0,           0,           0,           0,           0,           0,           0,           0,           0,           0,           0,\n",
              "                  0,           0,           0,           0,           0,           0,           0,           0,           0,           0,           0,           0,           0,           0,           0,           0,           0,           0,           0,           0,           0,           0,           0,\n",
              "                  0,           0,           0,           0,           0,           0,           0,           0,           0,           0,           0,           0,           0,           0,           0,           0,           0,           0,           0,           0,           0,           0,           0,\n",
              "                  0,           0,           0,           0,           0,           0,           0,           0,           0,           0,           0]]), 'Confidence', 'Recall']]\n",
              "fitness: 0.23033424858749904\n",
              "keys: ['metrics/precision(B)', 'metrics/recall(B)', 'metrics/mAP50(B)', 'metrics/mAP50-95(B)']\n",
              "maps: array([    0.19772])\n",
              "names: {0: 'tennis ball'}\n",
              "plot: True\n",
              "results_dict: {'metrics/precision(B)': 0.6549345532129686, 'metrics/recall(B)': 0.4752475247524752, 'metrics/mAP50(B)': 0.5238334153975523, 'metrics/mAP50-95(B)': 0.19772323005304865, 'fitness': 0.23033424858749904}\n",
              "save_dir: PosixPath('runs/detect/train')\n",
              "speed: {'preprocess': 0.37711143493652344, 'inference': 16.979386806488037, 'loss': 0.0008940696716308594, 'postprocess': 2.8261923789978027}\n",
              "task: 'detect'"
            ]
          },
          "metadata": {},
          "execution_count": 8
        }
      ],
      "source": [
        "from ultralytics import YOLO\n",
        "\n",
        "# Inizializzare il modello YOLOv8x\n",
        "model = YOLO(\"../models/yolov8x.pt\")\n",
        "\n",
        "# Addestrare il modello\n",
        "model.train(data=f\"{dataset.location}/data.yaml\", epochs=50, imgsz=640)\n"
      ]
    },
    {
      "cell_type": "markdown",
      "metadata": {
        "id": "pf2CO137xxQX"
      },
      "source": [
        "Una volta addestrato il modello, nella cartella content/ è presente una cartella runs/detect/train che contiene i pesi del modello e anche metriche e grafici sull'andamento dell'addestramento."
      ]
    }
  ],
  "metadata": {
    "accelerator": "GPU",
    "colab": {
      "gpuType": "T4",
      "provenance": [],
      "include_colab_link": true
    },
    "kernelspec": {
      "display_name": "Python 3",
      "name": "python3"
    },
    "language_info": {
      "codemirror_mode": {
        "name": "ipython",
        "version": 3
      },
      "file_extension": ".py",
      "mimetype": "text/x-python",
      "name": "python",
      "nbconvert_exporter": "python",
      "pygments_lexer": "ipython3",
      "version": "3.12.0"
    }
  },
  "nbformat": 4,
  "nbformat_minor": 0
}