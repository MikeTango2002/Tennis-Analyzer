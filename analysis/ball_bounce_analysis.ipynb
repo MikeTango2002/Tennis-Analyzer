{
 "cells": [
  {
   "cell_type": "code",
   "execution_count": 49,
   "metadata": {},
   "outputs": [],
   "source": [
    "import pickle\n",
    "import pandas as pd\n",
    "import matplotlib.pyplot as plt\n",
    "import numpy as np"
   ]
  },
  {
   "cell_type": "code",
   "execution_count": 50,
   "metadata": {},
   "outputs": [],
   "source": [
    "#Lettura del file pickle\n",
    "with open('../tracker_stubs/ball_detections.pkl', 'rb') as f:\n",
    "    ball_positions = pickle.load(f)"
   ]
  },
  {
   "cell_type": "code",
   "execution_count": 51,
   "metadata": {},
   "outputs": [],
   "source": [
    "ball_positions = [x.get(1, []) for x in ball_positions] #Prende le posizioni della pallina da ogni frame e in caso di non rilevamento, restituisce una lista vuota\n",
    "\n",
    "df_ball_positions = pd.DataFrame(ball_positions, columns=['x1', 'y1', 'x2', 'y2']) #Crea un DataFrame con le posizioni della pallina\n",
    "df_ball_positions = df_ball_positions.interpolate(method='linear') #Interpolazione lineare per riempire i valori mancanti\n",
    "df_ball_positions = df_ball_positions.bfill() #Riempe un eventuale valore mancante all'inizio del dataframe con i valori successivi\n"
   ]
  },
  {
   "cell_type": "markdown",
   "metadata": {},
   "source": [
    "Utilizzo la media mobile per smussare i valori rumorosi ed eliminare gli outliers:"
   ]
  },
  {
   "cell_type": "code",
   "execution_count": 52,
   "metadata": {},
   "outputs": [],
   "source": [
    "df_ball_positions['mid_y'] = (df_ball_positions['y1'] + df_ball_positions['y2']) / 2 #Calcola la coordinata y del centro della pallina\n",
    "df_ball_positions['mid_y_rolling_mean'] = df_ball_positions['mid_y'].rolling(window=5, min_periods=1, center=False).mean() #Calcola la media mobile della coordinata y del centro della pallina\n",
    "\n"
   ]
  },
  {
   "cell_type": "code",
   "execution_count": 53,
   "metadata": {},
   "outputs": [
    {
     "data": {
      "text/html": [
       "<div>\n",
       "<style scoped>\n",
       "    .dataframe tbody tr th:only-of-type {\n",
       "        vertical-align: middle;\n",
       "    }\n",
       "\n",
       "    .dataframe tbody tr th {\n",
       "        vertical-align: top;\n",
       "    }\n",
       "\n",
       "    .dataframe thead th {\n",
       "        text-align: right;\n",
       "    }\n",
       "</style>\n",
       "<table border=\"1\" class=\"dataframe\">\n",
       "  <thead>\n",
       "    <tr style=\"text-align: right;\">\n",
       "      <th></th>\n",
       "      <th>x1</th>\n",
       "      <th>y1</th>\n",
       "      <th>x2</th>\n",
       "      <th>y2</th>\n",
       "      <th>mid_y</th>\n",
       "      <th>mid_y_rolling_mean</th>\n",
       "    </tr>\n",
       "  </thead>\n",
       "  <tbody>\n",
       "    <tr>\n",
       "      <th>0</th>\n",
       "      <td>893.032471</td>\n",
       "      <td>615.244629</td>\n",
       "      <td>912.244263</td>\n",
       "      <td>635.831543</td>\n",
       "      <td>625.538086</td>\n",
       "      <td>625.538086</td>\n",
       "    </tr>\n",
       "    <tr>\n",
       "      <th>1</th>\n",
       "      <td>893.032471</td>\n",
       "      <td>615.244629</td>\n",
       "      <td>912.244263</td>\n",
       "      <td>635.831543</td>\n",
       "      <td>625.538086</td>\n",
       "      <td>625.538086</td>\n",
       "    </tr>\n",
       "    <tr>\n",
       "      <th>2</th>\n",
       "      <td>878.989929</td>\n",
       "      <td>628.924942</td>\n",
       "      <td>897.946747</td>\n",
       "      <td>649.224838</td>\n",
       "      <td>639.074890</td>\n",
       "      <td>630.050354</td>\n",
       "    </tr>\n",
       "    <tr>\n",
       "      <th>3</th>\n",
       "      <td>864.947388</td>\n",
       "      <td>642.605255</td>\n",
       "      <td>883.649231</td>\n",
       "      <td>662.618134</td>\n",
       "      <td>652.611694</td>\n",
       "      <td>635.690689</td>\n",
       "    </tr>\n",
       "    <tr>\n",
       "      <th>4</th>\n",
       "      <td>850.904846</td>\n",
       "      <td>656.285568</td>\n",
       "      <td>869.351715</td>\n",
       "      <td>676.011429</td>\n",
       "      <td>666.148499</td>\n",
       "      <td>641.782251</td>\n",
       "    </tr>\n",
       "    <tr>\n",
       "      <th>...</th>\n",
       "      <td>...</td>\n",
       "      <td>...</td>\n",
       "      <td>...</td>\n",
       "      <td>...</td>\n",
       "      <td>...</td>\n",
       "      <td>...</td>\n",
       "    </tr>\n",
       "    <tr>\n",
       "      <th>209</th>\n",
       "      <td>1185.438477</td>\n",
       "      <td>248.956940</td>\n",
       "      <td>1199.633301</td>\n",
       "      <td>265.525024</td>\n",
       "      <td>257.240982</td>\n",
       "      <td>283.788275</td>\n",
       "    </tr>\n",
       "    <tr>\n",
       "      <th>210</th>\n",
       "      <td>1184.789062</td>\n",
       "      <td>233.821472</td>\n",
       "      <td>1195.593018</td>\n",
       "      <td>245.509918</td>\n",
       "      <td>239.665695</td>\n",
       "      <td>269.654300</td>\n",
       "    </tr>\n",
       "    <tr>\n",
       "      <th>211</th>\n",
       "      <td>1183.991211</td>\n",
       "      <td>227.414108</td>\n",
       "      <td>1196.107910</td>\n",
       "      <td>241.618607</td>\n",
       "      <td>234.516357</td>\n",
       "      <td>257.145188</td>\n",
       "    </tr>\n",
       "    <tr>\n",
       "      <th>212</th>\n",
       "      <td>1179.408203</td>\n",
       "      <td>213.949219</td>\n",
       "      <td>1194.058838</td>\n",
       "      <td>229.465805</td>\n",
       "      <td>221.707512</td>\n",
       "      <td>244.729035</td>\n",
       "    </tr>\n",
       "    <tr>\n",
       "      <th>213</th>\n",
       "      <td>1179.863281</td>\n",
       "      <td>205.332733</td>\n",
       "      <td>1192.466797</td>\n",
       "      <td>218.806595</td>\n",
       "      <td>212.069664</td>\n",
       "      <td>233.040042</td>\n",
       "    </tr>\n",
       "  </tbody>\n",
       "</table>\n",
       "<p>214 rows × 6 columns</p>\n",
       "</div>"
      ],
      "text/plain": [
       "              x1          y1           x2          y2       mid_y  \\\n",
       "0     893.032471  615.244629   912.244263  635.831543  625.538086   \n",
       "1     893.032471  615.244629   912.244263  635.831543  625.538086   \n",
       "2     878.989929  628.924942   897.946747  649.224838  639.074890   \n",
       "3     864.947388  642.605255   883.649231  662.618134  652.611694   \n",
       "4     850.904846  656.285568   869.351715  676.011429  666.148499   \n",
       "..           ...         ...          ...         ...         ...   \n",
       "209  1185.438477  248.956940  1199.633301  265.525024  257.240982   \n",
       "210  1184.789062  233.821472  1195.593018  245.509918  239.665695   \n",
       "211  1183.991211  227.414108  1196.107910  241.618607  234.516357   \n",
       "212  1179.408203  213.949219  1194.058838  229.465805  221.707512   \n",
       "213  1179.863281  205.332733  1192.466797  218.806595  212.069664   \n",
       "\n",
       "     mid_y_rolling_mean  \n",
       "0            625.538086  \n",
       "1            625.538086  \n",
       "2            630.050354  \n",
       "3            635.690689  \n",
       "4            641.782251  \n",
       "..                  ...  \n",
       "209          283.788275  \n",
       "210          269.654300  \n",
       "211          257.145188  \n",
       "212          244.729035  \n",
       "213          233.040042  \n",
       "\n",
       "[214 rows x 6 columns]"
      ]
     },
     "execution_count": 53,
     "metadata": {},
     "output_type": "execute_result"
    }
   ],
   "source": [
    "df_ball_positions"
   ]
  },
  {
   "cell_type": "markdown",
   "metadata": {},
   "source": [
    "Attraverso il grafico precedente è possibile vedere i frame in cui la pallina rimbalza a terra(rappresentato da un punto di massimo o minimo locale) e il frame in cui viene colpita dal giocatore(rappresentato dai picchi del grafico)"
   ]
  },
  {
   "cell_type": "code",
   "execution_count": 54,
   "metadata": {},
   "outputs": [],
   "source": [
    "df_ball_positions['delta_y'] = df_ball_positions['mid_y_rolling_mean'].diff() #Calcola la differenza tra il valore attuale e quello precedente della media mobile della coordinata y del centro della pallina"
   ]
  },
  {
   "cell_type": "markdown",
   "metadata": {},
   "source": [
    "Analizzando il grafico sovraimpressione, si può notare come il frame in cui la pallina viene colpita è seguito da all'incirca 25 frame in cui il grafico continua a crescere (o a decrescere) con solo qualche piccolo rumore.\n",
    "\n",
    "E' possibile sfruttare questa analisi per determinare i frame in cui la pallina viene colpita da un giocatore"
   ]
  },
  {
   "cell_type": "code",
   "execution_count": 55,
   "metadata": {},
   "outputs": [],
   "source": [
    "#Inizializza la colonna 'ball_hit' a 0\n",
    "\n",
    "df_ball_positions['ball_hit'] = 0\n"
   ]
  },
  {
   "cell_type": "code",
   "execution_count": 56,
   "metadata": {},
   "outputs": [
    {
     "name": "stderr",
     "output_type": "stream",
     "text": [
      "C:\\Users\\turch\\AppData\\Local\\Temp\\ipykernel_25520\\1839116361.py:19: SettingWithCopyWarning: \n",
      "A value is trying to be set on a copy of a slice from a DataFrame\n",
      "\n",
      "See the caveats in the documentation: https://pandas.pydata.org/pandas-docs/stable/user_guide/indexing.html#returning-a-view-versus-a-copy\n",
      "  df_ball_positions['ball_hit'].iloc[i] = 1\n",
      "C:\\Users\\turch\\AppData\\Local\\Temp\\ipykernel_25520\\1839116361.py:19: SettingWithCopyWarning: \n",
      "A value is trying to be set on a copy of a slice from a DataFrame\n",
      "\n",
      "See the caveats in the documentation: https://pandas.pydata.org/pandas-docs/stable/user_guide/indexing.html#returning-a-view-versus-a-copy\n",
      "  df_ball_positions['ball_hit'].iloc[i] = 1\n",
      "C:\\Users\\turch\\AppData\\Local\\Temp\\ipykernel_25520\\1839116361.py:19: SettingWithCopyWarning: \n",
      "A value is trying to be set on a copy of a slice from a DataFrame\n",
      "\n",
      "See the caveats in the documentation: https://pandas.pydata.org/pandas-docs/stable/user_guide/indexing.html#returning-a-view-versus-a-copy\n",
      "  df_ball_positions['ball_hit'].iloc[i] = 1\n",
      "C:\\Users\\turch\\AppData\\Local\\Temp\\ipykernel_25520\\1839116361.py:19: SettingWithCopyWarning: \n",
      "A value is trying to be set on a copy of a slice from a DataFrame\n",
      "\n",
      "See the caveats in the documentation: https://pandas.pydata.org/pandas-docs/stable/user_guide/indexing.html#returning-a-view-versus-a-copy\n",
      "  df_ball_positions['ball_hit'].iloc[i] = 1\n",
      "C:\\Users\\turch\\AppData\\Local\\Temp\\ipykernel_25520\\1839116361.py:19: SettingWithCopyWarning: \n",
      "A value is trying to be set on a copy of a slice from a DataFrame\n",
      "\n",
      "See the caveats in the documentation: https://pandas.pydata.org/pandas-docs/stable/user_guide/indexing.html#returning-a-view-versus-a-copy\n",
      "  df_ball_positions['ball_hit'].iloc[i] = 1\n"
     ]
    }
   ],
   "source": [
    "minimum_change_frames_for_hit = 25    #Per riconoscere il frame in cui la pallina viene colpita, nel grafico di delta_y, la funzione deve crescere o decrescere per almeno 25 frames consecutivi\n",
    "for i in range(1, len(df_ball_positions) - int(minimum_change_frames_for_hit * 1.2)): #Controlla se la funzione decresce per almeno minimum_change_frames_for_hit frames nei successivi 1.2*minimum_change_frames_for_hit frames(è un cuscinetto per evitare falsi positivi dovuti a rumore)\n",
    "    negative_position_change = df_ball_positions['delta_y'].iloc[i] > 0 and df_ball_positions['delta_y'].iloc[i+1] < 0\n",
    "    positive_position_change = df_ball_positions['delta_y'].iloc[i] < 0 and df_ball_positions['delta_y'].iloc[i+1] > 0\n",
    "\n",
    "    if negative_position_change or positive_position_change:\n",
    "        change_count = 0\n",
    "        for change_frame in range(i+1, i+int(minimum_change_frames_for_hit*1.2)+1):\n",
    "            negative_position_change_following_frame = df_ball_positions['delta_y'].iloc[i] > 0 and df_ball_positions['delta_y'].iloc[change_frame] < 0 \n",
    "            positive_position_change_following_frame = df_ball_positions['delta_y'].iloc[i] < 0 and df_ball_positions['delta_y'].iloc[change_frame] > 0\n",
    "\n",
    "            if negative_position_change_following_frame and negative_position_change: #Se la funzione sta contiuando a decrescere...\n",
    "                change_count += 1\n",
    "\n",
    "            elif positive_position_change_following_frame and positive_position_change: #...o a crescere\n",
    "                change_count += 1 #Incrementa il contatore\n",
    "        \n",
    "        if change_count >= minimum_change_frames_for_hit:\n",
    "            df_ball_positions['ball_hit'].iloc[i] = 1\n",
    "\n",
    "            \n"
   ]
  },
  {
   "cell_type": "code",
   "execution_count": 57,
   "metadata": {},
   "outputs": [
    {
     "data": {
      "text/html": [
       "<div>\n",
       "<style scoped>\n",
       "    .dataframe tbody tr th:only-of-type {\n",
       "        vertical-align: middle;\n",
       "    }\n",
       "\n",
       "    .dataframe tbody tr th {\n",
       "        vertical-align: top;\n",
       "    }\n",
       "\n",
       "    .dataframe thead th {\n",
       "        text-align: right;\n",
       "    }\n",
       "</style>\n",
       "<table border=\"1\" class=\"dataframe\">\n",
       "  <thead>\n",
       "    <tr style=\"text-align: right;\">\n",
       "      <th></th>\n",
       "      <th>x1</th>\n",
       "      <th>y1</th>\n",
       "      <th>x2</th>\n",
       "      <th>y2</th>\n",
       "      <th>mid_y</th>\n",
       "      <th>mid_y_rolling_mean</th>\n",
       "      <th>delta_y</th>\n",
       "      <th>ball_hit</th>\n",
       "    </tr>\n",
       "  </thead>\n",
       "  <tbody>\n",
       "    <tr>\n",
       "      <th>11</th>\n",
       "      <td>777.999756</td>\n",
       "      <td>717.641602</td>\n",
       "      <td>797.453979</td>\n",
       "      <td>739.491760</td>\n",
       "      <td>728.566681</td>\n",
       "      <td>736.933167</td>\n",
       "      <td>6.357050</td>\n",
       "      <td>1</td>\n",
       "    </tr>\n",
       "    <tr>\n",
       "      <th>58</th>\n",
       "      <td>926.004480</td>\n",
       "      <td>241.152512</td>\n",
       "      <td>938.492407</td>\n",
       "      <td>254.119803</td>\n",
       "      <td>247.636157</td>\n",
       "      <td>242.607499</td>\n",
       "      <td>-1.479028</td>\n",
       "      <td>1</td>\n",
       "    </tr>\n",
       "    <tr>\n",
       "      <th>95</th>\n",
       "      <td>615.796631</td>\n",
       "      <td>775.639160</td>\n",
       "      <td>637.650757</td>\n",
       "      <td>801.840088</td>\n",
       "      <td>788.739624</td>\n",
       "      <td>781.691895</td>\n",
       "      <td>7.109326</td>\n",
       "      <td>1</td>\n",
       "    </tr>\n",
       "    <tr>\n",
       "      <th>131</th>\n",
       "      <td>716.971283</td>\n",
       "      <td>229.938141</td>\n",
       "      <td>728.862366</td>\n",
       "      <td>242.580330</td>\n",
       "      <td>236.259235</td>\n",
       "      <td>235.711515</td>\n",
       "      <td>-0.670242</td>\n",
       "      <td>1</td>\n",
       "    </tr>\n",
       "    <tr>\n",
       "      <th>182</th>\n",
       "      <td>1294.892944</td>\n",
       "      <td>739.738220</td>\n",
       "      <td>1314.579346</td>\n",
       "      <td>759.444763</td>\n",
       "      <td>749.591492</td>\n",
       "      <td>737.134845</td>\n",
       "      <td>5.425134</td>\n",
       "      <td>1</td>\n",
       "    </tr>\n",
       "  </tbody>\n",
       "</table>\n",
       "</div>"
      ],
      "text/plain": [
       "              x1          y1           x2          y2       mid_y  \\\n",
       "11    777.999756  717.641602   797.453979  739.491760  728.566681   \n",
       "58    926.004480  241.152512   938.492407  254.119803  247.636157   \n",
       "95    615.796631  775.639160   637.650757  801.840088  788.739624   \n",
       "131   716.971283  229.938141   728.862366  242.580330  236.259235   \n",
       "182  1294.892944  739.738220  1314.579346  759.444763  749.591492   \n",
       "\n",
       "     mid_y_rolling_mean   delta_y  ball_hit  \n",
       "11           736.933167  6.357050         1  \n",
       "58           242.607499 -1.479028         1  \n",
       "95           781.691895  7.109326         1  \n",
       "131          235.711515 -0.670242         1  \n",
       "182          737.134845  5.425134         1  "
      ]
     },
     "execution_count": 57,
     "metadata": {},
     "output_type": "execute_result"
    }
   ],
   "source": [
    "df_ball_positions[df_ball_positions['ball_hit'] == 1]"
   ]
  },
  {
   "cell_type": "markdown",
   "metadata": {},
   "source": [
    "Il numero di colpi indiviudato è 5 e 5 sono i colpi che avvengono nel video di prova"
   ]
  },
  {
   "cell_type": "code",
   "execution_count": 58,
   "metadata": {},
   "outputs": [],
   "source": [
    "frames_with_ball_hits = df_ball_positions[df_ball_positions['ball_hit'] == 1].index.tolist()\n",
    "#Così facendo, si ottengono i frame in cui la pallina viene colpita"
   ]
  },
  {
   "cell_type": "markdown",
   "metadata": {},
   "source": [
    "Ora posso calcolare il frame in cui la pallina rimbalza sul campo, analizzando nell'intervallo presente tra due colpi dove ci sono dei punti stazionari.\n",
    "\n",
    "Dopo svariate analisi, ho notato che il punto stazionario equivalente al rimbalzo della pallina è il secondo che si incontra partendo a ritroso analizzando il grafico dal colpo successivo al colpo precedente. \n",
    "\n",
    "La presenza di almeno due punti stazionari è dovuta al fatto che la pallina si ferma quando colpisce il terreno e quando si trova in aria un attimo prima di essere colpita.\n",
    "\n",
    "Sfruttando questa caratteristica della traiettoria di una pallina, sono riuscito a ricavare i frame in cui la pallina rimbalza."
   ]
  },
  {
   "cell_type": "code",
   "execution_count": 59,
   "metadata": {},
   "outputs": [],
   "source": [
    "# 1 rappresenta l'intervallo temporale tra frame consecutivi\n",
    "\n",
    "# Cerca il frame del rimbalzo precedente al colpo\n",
    "bounce_frames_before_impact = []\n",
    "for frame_impact in frames_with_ball_hits:\n",
    "\n",
    "    bounce_frames_before_impact.append(df_ball_positions[(df_ball_positions.index < frame_impact) & (df_ball_positions['delta_y'] < 0)].index.max())"
   ]
  },
  {
   "cell_type": "code",
   "execution_count": 60,
   "metadata": {},
   "outputs": [
    {
     "data": {
      "text/plain": [
       "Text(0.5, 0, 'Frames')"
      ]
     },
     "execution_count": 60,
     "metadata": {},
     "output_type": "execute_result"
    },
    {
     "data": {
      "image/png": "[encoded data removed]",
      "text/plain": [
       "<Figure size 640x480 with 1 Axes>"
      ]
     },
     "metadata": {},
     "output_type": "display_data"
    }
   ],
   "source": [
    "from scipy.ndimage import gaussian_filter\n",
    "\n",
    "plt.plot(df_ball_positions['delta_y'])\n",
    "\n",
    "df_ball_positions['delta_y_gaussian_filter'] = gaussian_filter(df_ball_positions['delta_y'], sigma=0.8)\n",
    "\n",
    "plt.plot(df_ball_positions['delta_y_gaussian_filter'])\n",
    "\n",
    "plt.xlabel('Frames')"
   ]
  },
  {
   "cell_type": "code",
   "execution_count": 65,
   "metadata": {},
   "outputs": [
    {
     "name": "stdout",
     "output_type": "stream",
     "text": [
      "frame_impact 11\n",
      "frame_impact 58\n",
      "53\n",
      "45\n",
      "15\n",
      "frame_impact 95\n",
      "88\n",
      "80\n",
      "frame_impact 131\n",
      "123\n",
      "117\n",
      "100\n",
      "frame_impact 182\n",
      "178\n",
      "165\n",
      "last bounce\n",
      "210\n",
      "206\n",
      "203\n",
      "202\n",
      "199\n",
      "198\n",
      "187\n"
     ]
    }
   ],
   "source": [
    "frames_with_ball_bounce = []    \n",
    "\n",
    "index_start = 0\n",
    "\n",
    "for frame_impact in frames_with_ball_hits:\n",
    "\n",
    "    print(f\"frame_impact {frame_impact}\")\n",
    "\n",
    "    temp_list = []\n",
    "\n",
    "    for i in range(frame_impact-3, index_start, -1): #Controlla se la funzione decresce per almeno minimum_change_frames_for_hit frames nei successivi 1.2*minimum_change_frames_for_hit frames(è un cuscinetto per evitare falsi positivi dovuti a rumore)\n",
    "        negative_position_change = df_ball_positions['delta_y_gaussian_filter'].iloc[i] >  df_ball_positions['delta_y_gaussian_filter'].iloc[i-1] and df_ball_positions['delta_y_gaussian_filter'].iloc[i] >  df_ball_positions['delta_y_gaussian_filter'].iloc[i+1]\n",
    "        positive_position_change = df_ball_positions['delta_y_gaussian_filter'].iloc[i] <  df_ball_positions['delta_y_gaussian_filter'].iloc[i-1] and df_ball_positions['delta_y_gaussian_filter'].iloc[i] <  df_ball_positions['delta_y_gaussian_filter'].iloc[i+1]\n",
    "\n",
    "        if negative_position_change or positive_position_change:\n",
    "            print(i)\n",
    "            temp_list.append(i)\n",
    "    \n",
    "    if index_start == 0 and len(temp_list) < 2:\n",
    "        frames_with_ball_bounce.append(0)\n",
    "    else:   \n",
    "        frames_with_ball_bounce.append(temp_list[1])\n",
    "        \n",
    "    index_start = frame_impact + 1\n",
    "\n",
    "print(\"last bounce\")\n",
    "\n",
    "temp_list = []\n",
    "\n",
    "for i in range(df_ball_positions.index[-1] - 3, index_start, -1): #Controlla se la funzione decresce per almeno minimum_change_frames_for_hit frames nei successivi 1.2*minimum_change_frames_for_hit frames(è un cuscinetto per evitare falsi positivi dovuti a rumore)\n",
    "        negative_position_change = df_ball_positions['delta_y_gaussian_filter'].iloc[i] >  df_ball_positions['delta_y_gaussian_filter'].iloc[i-1] and df_ball_positions['delta_y_gaussian_filter'].iloc[i] >  df_ball_positions['delta_y_gaussian_filter'].iloc[i+1]\n",
    "        positive_position_change = df_ball_positions['delta_y_gaussian_filter'].iloc[i] <  df_ball_positions['delta_y_gaussian_filter'].iloc[i-1] and df_ball_positions['delta_y_gaussian_filter'].iloc[i] <  df_ball_positions['delta_y_gaussian_filter'].iloc[i+1]\n",
    "\n",
    "        if negative_position_change or positive_position_change:\n",
    "            print(i)\n",
    "            temp_list.append(i)\n",
    "    \n",
    "if len(temp_list) >= 3:\n",
    "             frames_with_ball_bounce.append(temp_list[2])\n",
    "            \n",
    "\n",
    "\n",
    "\n",
    "    "
   ]
  },
  {
   "cell_type": "code",
   "execution_count": 67,
   "metadata": {},
   "outputs": [
    {
     "name": "stdout",
     "output_type": "stream",
     "text": [
      "[0, 45, 80, 117, 165, 206, 206, 206, 206, 206, 206, 206, 206, 206, 206, 206, 206, 206, 206, 206, 206, 206, 206, 206, 206, 206, 206, 206]\n"
     ]
    }
   ],
   "source": [
    "print(frames_with_ball_bounce)"
   ]
  },
  {
   "cell_type": "markdown",
   "metadata": {},
   "source": [
    "Le analisi effettuate in questo notebook sono state inserite nella classe BallTracker"
   ]
  }
 ],
 "metadata": {
  "kernelspec": {
   "display_name": "Python 3",
   "language": "python",
   "name": "python3"
  },
  "language_info": {
   "codemirror_mode": {
    "name": "ipython",
    "version": 3
   },
   "file_extension": ".py",
   "mimetype": "text/x-python",
   "name": "python",
   "nbconvert_exporter": "python",
   "pygments_lexer": "ipython3",
   "version": "3.12.0"
  }
 },
 "nbformat": 4,
 "nbformat_minor": 2
}
